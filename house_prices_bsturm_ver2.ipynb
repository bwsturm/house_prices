{
 "cells": [
  {
   "cell_type": "markdown",
   "metadata": {},
   "source": [
    "# My notebook for the Kaggle competition dealing with house price predictions"
   ]
  },
  {
   "cell_type": "markdown",
   "metadata": {},
   "source": [
    "author: Benjamin W. Sturm  <br />\n",
    "contact: bwsturm@gmail.com <br />\n",
    "date: Nov 2017"
   ]
  },
  {
   "cell_type": "code",
   "execution_count": 223,
   "metadata": {
    "collapsed": true
   },
   "outputs": [],
   "source": [
    "import numpy as np\n",
    "import scipy as sp\n",
    "import pandas as pd"
   ]
  },
  {
   "cell_type": "code",
   "execution_count": 224,
   "metadata": {
    "collapsed": true
   },
   "outputs": [],
   "source": [
    "house_df = pd.read_csv(\"train.csv\")"
   ]
  },
  {
   "cell_type": "code",
   "execution_count": 225,
   "metadata": {
    "collapsed": false
   },
   "outputs": [
    {
     "data": {
      "text/html": [
       "<div>\n",
       "<style>\n",
       "    .dataframe thead tr:only-child th {\n",
       "        text-align: right;\n",
       "    }\n",
       "\n",
       "    .dataframe thead th {\n",
       "        text-align: left;\n",
       "    }\n",
       "\n",
       "    .dataframe tbody tr th {\n",
       "        vertical-align: top;\n",
       "    }\n",
       "</style>\n",
       "<table border=\"1\" class=\"dataframe\">\n",
       "  <thead>\n",
       "    <tr style=\"text-align: right;\">\n",
       "      <th></th>\n",
       "      <th>Id</th>\n",
       "      <th>MSSubClass</th>\n",
       "      <th>LotFrontage</th>\n",
       "      <th>LotArea</th>\n",
       "      <th>OverallQual</th>\n",
       "      <th>OverallCond</th>\n",
       "      <th>YearBuilt</th>\n",
       "      <th>YearRemodAdd</th>\n",
       "      <th>MasVnrArea</th>\n",
       "      <th>BsmtFinSF1</th>\n",
       "      <th>...</th>\n",
       "      <th>WoodDeckSF</th>\n",
       "      <th>OpenPorchSF</th>\n",
       "      <th>EnclosedPorch</th>\n",
       "      <th>3SsnPorch</th>\n",
       "      <th>ScreenPorch</th>\n",
       "      <th>PoolArea</th>\n",
       "      <th>MiscVal</th>\n",
       "      <th>MoSold</th>\n",
       "      <th>YrSold</th>\n",
       "      <th>SalePrice</th>\n",
       "    </tr>\n",
       "  </thead>\n",
       "  <tbody>\n",
       "    <tr>\n",
       "      <th>count</th>\n",
       "      <td>1460.000000</td>\n",
       "      <td>1460.000000</td>\n",
       "      <td>1201.000000</td>\n",
       "      <td>1460.000000</td>\n",
       "      <td>1460.000000</td>\n",
       "      <td>1460.000000</td>\n",
       "      <td>1460.000000</td>\n",
       "      <td>1460.000000</td>\n",
       "      <td>1452.000000</td>\n",
       "      <td>1460.000000</td>\n",
       "      <td>...</td>\n",
       "      <td>1460.000000</td>\n",
       "      <td>1460.000000</td>\n",
       "      <td>1460.000000</td>\n",
       "      <td>1460.000000</td>\n",
       "      <td>1460.000000</td>\n",
       "      <td>1460.000000</td>\n",
       "      <td>1460.000000</td>\n",
       "      <td>1460.000000</td>\n",
       "      <td>1460.000000</td>\n",
       "      <td>1460.000000</td>\n",
       "    </tr>\n",
       "    <tr>\n",
       "      <th>mean</th>\n",
       "      <td>730.500000</td>\n",
       "      <td>56.897260</td>\n",
       "      <td>70.049958</td>\n",
       "      <td>10516.828082</td>\n",
       "      <td>6.099315</td>\n",
       "      <td>5.575342</td>\n",
       "      <td>1971.267808</td>\n",
       "      <td>1984.865753</td>\n",
       "      <td>103.685262</td>\n",
       "      <td>443.639726</td>\n",
       "      <td>...</td>\n",
       "      <td>94.244521</td>\n",
       "      <td>46.660274</td>\n",
       "      <td>21.954110</td>\n",
       "      <td>3.409589</td>\n",
       "      <td>15.060959</td>\n",
       "      <td>2.758904</td>\n",
       "      <td>43.489041</td>\n",
       "      <td>6.321918</td>\n",
       "      <td>2007.815753</td>\n",
       "      <td>180921.195890</td>\n",
       "    </tr>\n",
       "    <tr>\n",
       "      <th>std</th>\n",
       "      <td>421.610009</td>\n",
       "      <td>42.300571</td>\n",
       "      <td>24.284752</td>\n",
       "      <td>9981.264932</td>\n",
       "      <td>1.382997</td>\n",
       "      <td>1.112799</td>\n",
       "      <td>30.202904</td>\n",
       "      <td>20.645407</td>\n",
       "      <td>181.066207</td>\n",
       "      <td>456.098091</td>\n",
       "      <td>...</td>\n",
       "      <td>125.338794</td>\n",
       "      <td>66.256028</td>\n",
       "      <td>61.119149</td>\n",
       "      <td>29.317331</td>\n",
       "      <td>55.757415</td>\n",
       "      <td>40.177307</td>\n",
       "      <td>496.123024</td>\n",
       "      <td>2.703626</td>\n",
       "      <td>1.328095</td>\n",
       "      <td>79442.502883</td>\n",
       "    </tr>\n",
       "    <tr>\n",
       "      <th>min</th>\n",
       "      <td>1.000000</td>\n",
       "      <td>20.000000</td>\n",
       "      <td>21.000000</td>\n",
       "      <td>1300.000000</td>\n",
       "      <td>1.000000</td>\n",
       "      <td>1.000000</td>\n",
       "      <td>1872.000000</td>\n",
       "      <td>1950.000000</td>\n",
       "      <td>0.000000</td>\n",
       "      <td>0.000000</td>\n",
       "      <td>...</td>\n",
       "      <td>0.000000</td>\n",
       "      <td>0.000000</td>\n",
       "      <td>0.000000</td>\n",
       "      <td>0.000000</td>\n",
       "      <td>0.000000</td>\n",
       "      <td>0.000000</td>\n",
       "      <td>0.000000</td>\n",
       "      <td>1.000000</td>\n",
       "      <td>2006.000000</td>\n",
       "      <td>34900.000000</td>\n",
       "    </tr>\n",
       "    <tr>\n",
       "      <th>25%</th>\n",
       "      <td>365.750000</td>\n",
       "      <td>20.000000</td>\n",
       "      <td>59.000000</td>\n",
       "      <td>7553.500000</td>\n",
       "      <td>5.000000</td>\n",
       "      <td>5.000000</td>\n",
       "      <td>1954.000000</td>\n",
       "      <td>1967.000000</td>\n",
       "      <td>0.000000</td>\n",
       "      <td>0.000000</td>\n",
       "      <td>...</td>\n",
       "      <td>0.000000</td>\n",
       "      <td>0.000000</td>\n",
       "      <td>0.000000</td>\n",
       "      <td>0.000000</td>\n",
       "      <td>0.000000</td>\n",
       "      <td>0.000000</td>\n",
       "      <td>0.000000</td>\n",
       "      <td>5.000000</td>\n",
       "      <td>2007.000000</td>\n",
       "      <td>129975.000000</td>\n",
       "    </tr>\n",
       "    <tr>\n",
       "      <th>50%</th>\n",
       "      <td>730.500000</td>\n",
       "      <td>50.000000</td>\n",
       "      <td>69.000000</td>\n",
       "      <td>9478.500000</td>\n",
       "      <td>6.000000</td>\n",
       "      <td>5.000000</td>\n",
       "      <td>1973.000000</td>\n",
       "      <td>1994.000000</td>\n",
       "      <td>0.000000</td>\n",
       "      <td>383.500000</td>\n",
       "      <td>...</td>\n",
       "      <td>0.000000</td>\n",
       "      <td>25.000000</td>\n",
       "      <td>0.000000</td>\n",
       "      <td>0.000000</td>\n",
       "      <td>0.000000</td>\n",
       "      <td>0.000000</td>\n",
       "      <td>0.000000</td>\n",
       "      <td>6.000000</td>\n",
       "      <td>2008.000000</td>\n",
       "      <td>163000.000000</td>\n",
       "    </tr>\n",
       "    <tr>\n",
       "      <th>75%</th>\n",
       "      <td>1095.250000</td>\n",
       "      <td>70.000000</td>\n",
       "      <td>80.000000</td>\n",
       "      <td>11601.500000</td>\n",
       "      <td>7.000000</td>\n",
       "      <td>6.000000</td>\n",
       "      <td>2000.000000</td>\n",
       "      <td>2004.000000</td>\n",
       "      <td>166.000000</td>\n",
       "      <td>712.250000</td>\n",
       "      <td>...</td>\n",
       "      <td>168.000000</td>\n",
       "      <td>68.000000</td>\n",
       "      <td>0.000000</td>\n",
       "      <td>0.000000</td>\n",
       "      <td>0.000000</td>\n",
       "      <td>0.000000</td>\n",
       "      <td>0.000000</td>\n",
       "      <td>8.000000</td>\n",
       "      <td>2009.000000</td>\n",
       "      <td>214000.000000</td>\n",
       "    </tr>\n",
       "    <tr>\n",
       "      <th>max</th>\n",
       "      <td>1460.000000</td>\n",
       "      <td>190.000000</td>\n",
       "      <td>313.000000</td>\n",
       "      <td>215245.000000</td>\n",
       "      <td>10.000000</td>\n",
       "      <td>9.000000</td>\n",
       "      <td>2010.000000</td>\n",
       "      <td>2010.000000</td>\n",
       "      <td>1600.000000</td>\n",
       "      <td>5644.000000</td>\n",
       "      <td>...</td>\n",
       "      <td>857.000000</td>\n",
       "      <td>547.000000</td>\n",
       "      <td>552.000000</td>\n",
       "      <td>508.000000</td>\n",
       "      <td>480.000000</td>\n",
       "      <td>738.000000</td>\n",
       "      <td>15500.000000</td>\n",
       "      <td>12.000000</td>\n",
       "      <td>2010.000000</td>\n",
       "      <td>755000.000000</td>\n",
       "    </tr>\n",
       "  </tbody>\n",
       "</table>\n",
       "<p>8 rows × 38 columns</p>\n",
       "</div>"
      ],
      "text/plain": [
       "                Id   MSSubClass  LotFrontage        LotArea  OverallQual  \\\n",
       "count  1460.000000  1460.000000  1201.000000    1460.000000  1460.000000   \n",
       "mean    730.500000    56.897260    70.049958   10516.828082     6.099315   \n",
       "std     421.610009    42.300571    24.284752    9981.264932     1.382997   \n",
       "min       1.000000    20.000000    21.000000    1300.000000     1.000000   \n",
       "25%     365.750000    20.000000    59.000000    7553.500000     5.000000   \n",
       "50%     730.500000    50.000000    69.000000    9478.500000     6.000000   \n",
       "75%    1095.250000    70.000000    80.000000   11601.500000     7.000000   \n",
       "max    1460.000000   190.000000   313.000000  215245.000000    10.000000   \n",
       "\n",
       "       OverallCond    YearBuilt  YearRemodAdd   MasVnrArea   BsmtFinSF1  \\\n",
       "count  1460.000000  1460.000000   1460.000000  1452.000000  1460.000000   \n",
       "mean      5.575342  1971.267808   1984.865753   103.685262   443.639726   \n",
       "std       1.112799    30.202904     20.645407   181.066207   456.098091   \n",
       "min       1.000000  1872.000000   1950.000000     0.000000     0.000000   \n",
       "25%       5.000000  1954.000000   1967.000000     0.000000     0.000000   \n",
       "50%       5.000000  1973.000000   1994.000000     0.000000   383.500000   \n",
       "75%       6.000000  2000.000000   2004.000000   166.000000   712.250000   \n",
       "max       9.000000  2010.000000   2010.000000  1600.000000  5644.000000   \n",
       "\n",
       "           ...         WoodDeckSF  OpenPorchSF  EnclosedPorch    3SsnPorch  \\\n",
       "count      ...        1460.000000  1460.000000    1460.000000  1460.000000   \n",
       "mean       ...          94.244521    46.660274      21.954110     3.409589   \n",
       "std        ...         125.338794    66.256028      61.119149    29.317331   \n",
       "min        ...           0.000000     0.000000       0.000000     0.000000   \n",
       "25%        ...           0.000000     0.000000       0.000000     0.000000   \n",
       "50%        ...           0.000000    25.000000       0.000000     0.000000   \n",
       "75%        ...         168.000000    68.000000       0.000000     0.000000   \n",
       "max        ...         857.000000   547.000000     552.000000   508.000000   \n",
       "\n",
       "       ScreenPorch     PoolArea       MiscVal       MoSold       YrSold  \\\n",
       "count  1460.000000  1460.000000   1460.000000  1460.000000  1460.000000   \n",
       "mean     15.060959     2.758904     43.489041     6.321918  2007.815753   \n",
       "std      55.757415    40.177307    496.123024     2.703626     1.328095   \n",
       "min       0.000000     0.000000      0.000000     1.000000  2006.000000   \n",
       "25%       0.000000     0.000000      0.000000     5.000000  2007.000000   \n",
       "50%       0.000000     0.000000      0.000000     6.000000  2008.000000   \n",
       "75%       0.000000     0.000000      0.000000     8.000000  2009.000000   \n",
       "max     480.000000   738.000000  15500.000000    12.000000  2010.000000   \n",
       "\n",
       "           SalePrice  \n",
       "count    1460.000000  \n",
       "mean   180921.195890  \n",
       "std     79442.502883  \n",
       "min     34900.000000  \n",
       "25%    129975.000000  \n",
       "50%    163000.000000  \n",
       "75%    214000.000000  \n",
       "max    755000.000000  \n",
       "\n",
       "[8 rows x 38 columns]"
      ]
     },
     "execution_count": 225,
     "metadata": {},
     "output_type": "execute_result"
    }
   ],
   "source": [
    "house_df.describe()"
   ]
  },
  {
   "cell_type": "code",
   "execution_count": 218,
   "metadata": {
    "collapsed": false
   },
   "outputs": [],
   "source": [
    "#print(house_df.loc[:5,:])"
   ]
  },
  {
   "cell_type": "code",
   "execution_count": 226,
   "metadata": {
    "collapsed": false
   },
   "outputs": [],
   "source": [
    "# here I'm setting the 'Id' feature as the DataFrame index\n",
    "house_df.set_index('Id',inplace=True)"
   ]
  },
  {
   "cell_type": "markdown",
   "metadata": {},
   "source": [
    "Next, I'm going to filter out all of the NaN values.  I'm doing that first by dropping columns in which 90% of the values are NaN.  This deletes the majority of the NaN values.  Then, I'm going to manually go through and impute any NaN values."
   ]
  },
  {
   "cell_type": "code",
   "execution_count": 227,
   "metadata": {
    "collapsed": false
   },
   "outputs": [],
   "source": [
    "# dropping any columns in which 90% of the values are NaN\n",
    "house_df2 = house_df.dropna(thresh=1314,axis=1)"
   ]
  },
  {
   "cell_type": "code",
   "execution_count": 228,
   "metadata": {
    "collapsed": true
   },
   "outputs": [],
   "source": [
    "# I stole these functions from Steve on the Kaggle competition site\n",
    "# To check which columns have missing values:\n",
    "def show_missing(df):\n",
    "    missing = df.columns[df.isnull().any()].tolist()\n",
    "    return missing\n",
    "\n",
    "# Imputing the missing values\n",
    "def cat_imputation(df, column, value):\n",
    "    df.loc[df[column].isnull(),column] = value"
   ]
  },
  {
   "cell_type": "code",
   "execution_count": 229,
   "metadata": {
    "collapsed": false
   },
   "outputs": [
    {
     "data": {
      "text/plain": [
       "['MasVnrType',\n",
       " 'MasVnrArea',\n",
       " 'BsmtQual',\n",
       " 'BsmtCond',\n",
       " 'BsmtExposure',\n",
       " 'BsmtFinType1',\n",
       " 'BsmtFinType2',\n",
       " 'Electrical',\n",
       " 'GarageType',\n",
       " 'GarageYrBlt',\n",
       " 'GarageFinish',\n",
       " 'GarageQual',\n",
       " 'GarageCond']"
      ]
     },
     "execution_count": 229,
     "metadata": {},
     "output_type": "execute_result"
    }
   ],
   "source": [
    "show_missing(house_df2)"
   ]
  },
  {
   "cell_type": "code",
   "execution_count": 230,
   "metadata": {
    "collapsed": false
   },
   "outputs": [
    {
     "name": "stderr",
     "output_type": "stream",
     "text": [
      "/Users/bwsturm/anaconda/lib/python3.6/site-packages/pandas/core/indexing.py:517: SettingWithCopyWarning: \n",
      "A value is trying to be set on a copy of a slice from a DataFrame.\n",
      "Try using .loc[row_indexer,col_indexer] = value instead\n",
      "\n",
      "See the caveats in the documentation: http://pandas.pydata.org/pandas-docs/stable/indexing.html#indexing-view-versus-copy\n",
      "  self.obj[item] = s\n"
     ]
    }
   ],
   "source": [
    "# function to manually replace all the nans\n",
    "def replace_nans(df_house):\n",
    "    cat_imputation(df_house,'MasVnrType','None')\n",
    "    #df_house['MasVnrType'].fillna('None',inplace=True)\n",
    "    cat_imputation(df_house,'MasVnrArea',0)\n",
    "    #df_house['MasVnrArea'].fillna('None',inplace=True)\n",
    "    \n",
    "    basement_cols = ['BsmtQual','BsmtCond','BsmtExposure','BsmtFinType1','BsmtFinType2']\n",
    "    \n",
    "    for col in basement_cols:\n",
    "        cat_imputation(df_house,col,'None')\n",
    "        \n",
    "    garage_cols = ['GarageType','GarageYrBlt','GarageFinish','GarageQual','GarageCond'] \n",
    "    \n",
    "    for i in garage_cols:\n",
    "        if df_house[i].dtype==np.object:\n",
    "            cat_imputation(df_house,i,'None')\n",
    "        else:\n",
    "            cat_imputation(df_house,i, 0)\n",
    "    \n",
    "    return df_house  \n",
    "\n",
    "house_df3 = replace_nans(house_df2)"
   ]
  },
  {
   "cell_type": "code",
   "execution_count": 60,
   "metadata": {
    "collapsed": false
   },
   "outputs": [],
   "source": [
    "#house_df3['BsmtQual'].isnull().sum()"
   ]
  },
  {
   "cell_type": "code",
   "execution_count": 231,
   "metadata": {
    "collapsed": false
   },
   "outputs": [
    {
     "data": {
      "text/plain": [
       "['Electrical']"
      ]
     },
     "execution_count": 231,
     "metadata": {},
     "output_type": "execute_result"
    }
   ],
   "source": [
    "show_missing(house_df3)"
   ]
  },
  {
   "cell_type": "code",
   "execution_count": 232,
   "metadata": {
    "collapsed": false
   },
   "outputs": [
    {
     "data": {
      "text/plain": [
       "1"
      ]
     },
     "execution_count": 232,
     "metadata": {},
     "output_type": "execute_result"
    }
   ],
   "source": [
    "house_df3['Electrical'].isnull().sum()"
   ]
  },
  {
   "cell_type": "markdown",
   "metadata": {},
   "source": [
    "After running replace_nans() on the data frame, there is only one feature left ('Electrical') which has NaNs.  Since it is just one row, I can replace it with the majority class.   "
   ]
  },
  {
   "cell_type": "code",
   "execution_count": 233,
   "metadata": {
    "collapsed": false
   },
   "outputs": [
    {
     "data": {
      "text/plain": [
       "SBrkr    1334\n",
       "FuseA      94\n",
       "FuseF      27\n",
       "FuseP       3\n",
       "Mix         1\n",
       "Name: Electrical, dtype: int64"
      ]
     },
     "execution_count": 233,
     "metadata": {},
     "output_type": "execute_result"
    }
   ],
   "source": [
    "house_df3['Electrical'].value_counts()"
   ]
  },
  {
   "cell_type": "code",
   "execution_count": 234,
   "metadata": {
    "collapsed": false
   },
   "outputs": [
    {
     "name": "stderr",
     "output_type": "stream",
     "text": [
      "/Users/bwsturm/anaconda/lib/python3.6/site-packages/pandas/core/indexing.py:517: SettingWithCopyWarning: \n",
      "A value is trying to be set on a copy of a slice from a DataFrame.\n",
      "Try using .loc[row_indexer,col_indexer] = value instead\n",
      "\n",
      "See the caveats in the documentation: http://pandas.pydata.org/pandas-docs/stable/indexing.html#indexing-view-versus-copy\n",
      "  self.obj[item] = s\n"
     ]
    },
    {
     "data": {
      "text/plain": [
       "[]"
      ]
     },
     "execution_count": 234,
     "metadata": {},
     "output_type": "execute_result"
    }
   ],
   "source": [
    "cat_imputation(house_df3,'Electrical','SBrkr')\n",
    "show_missing(house_df3)"
   ]
  },
  {
   "cell_type": "markdown",
   "metadata": {},
   "source": [
    "Now we need to go through the House Price DataFrame to encode all of the columns with categorical features.  I will be doing the One-hot encoding technique found in the ML reference book page 221."
   ]
  },
  {
   "cell_type": "code",
   "execution_count": 61,
   "metadata": {
    "collapsed": false
   },
   "outputs": [],
   "source": [
    "#house_df3.dtypes"
   ]
  },
  {
   "cell_type": "code",
   "execution_count": 235,
   "metadata": {
    "collapsed": false
   },
   "outputs": [
    {
     "data": {
      "text/html": [
       "<div>\n",
       "<style>\n",
       "    .dataframe thead tr:only-child th {\n",
       "        text-align: right;\n",
       "    }\n",
       "\n",
       "    .dataframe thead th {\n",
       "        text-align: left;\n",
       "    }\n",
       "\n",
       "    .dataframe tbody tr th {\n",
       "        vertical-align: top;\n",
       "    }\n",
       "</style>\n",
       "<table border=\"1\" class=\"dataframe\">\n",
       "  <thead>\n",
       "    <tr style=\"text-align: right;\">\n",
       "      <th></th>\n",
       "      <th>MSSubClass</th>\n",
       "      <th>LotArea</th>\n",
       "      <th>OverallQual</th>\n",
       "      <th>OverallCond</th>\n",
       "      <th>YearBuilt</th>\n",
       "      <th>YearRemodAdd</th>\n",
       "      <th>MasVnrArea</th>\n",
       "      <th>BsmtFinSF1</th>\n",
       "      <th>BsmtFinSF2</th>\n",
       "      <th>BsmtUnfSF</th>\n",
       "      <th>...</th>\n",
       "      <th>SaleType_ConLw</th>\n",
       "      <th>SaleType_New</th>\n",
       "      <th>SaleType_Oth</th>\n",
       "      <th>SaleType_WD</th>\n",
       "      <th>SaleCondition_Abnorml</th>\n",
       "      <th>SaleCondition_AdjLand</th>\n",
       "      <th>SaleCondition_Alloca</th>\n",
       "      <th>SaleCondition_Family</th>\n",
       "      <th>SaleCondition_Normal</th>\n",
       "      <th>SaleCondition_Partial</th>\n",
       "    </tr>\n",
       "    <tr>\n",
       "      <th>Id</th>\n",
       "      <th></th>\n",
       "      <th></th>\n",
       "      <th></th>\n",
       "      <th></th>\n",
       "      <th></th>\n",
       "      <th></th>\n",
       "      <th></th>\n",
       "      <th></th>\n",
       "      <th></th>\n",
       "      <th></th>\n",
       "      <th></th>\n",
       "      <th></th>\n",
       "      <th></th>\n",
       "      <th></th>\n",
       "      <th></th>\n",
       "      <th></th>\n",
       "      <th></th>\n",
       "      <th></th>\n",
       "      <th></th>\n",
       "      <th></th>\n",
       "      <th></th>\n",
       "    </tr>\n",
       "  </thead>\n",
       "  <tbody>\n",
       "    <tr>\n",
       "      <th>1</th>\n",
       "      <td>60</td>\n",
       "      <td>8450</td>\n",
       "      <td>7</td>\n",
       "      <td>5</td>\n",
       "      <td>2003</td>\n",
       "      <td>2003</td>\n",
       "      <td>196.0</td>\n",
       "      <td>706</td>\n",
       "      <td>0</td>\n",
       "      <td>150</td>\n",
       "      <td>...</td>\n",
       "      <td>0</td>\n",
       "      <td>0</td>\n",
       "      <td>0</td>\n",
       "      <td>1</td>\n",
       "      <td>0</td>\n",
       "      <td>0</td>\n",
       "      <td>0</td>\n",
       "      <td>0</td>\n",
       "      <td>1</td>\n",
       "      <td>0</td>\n",
       "    </tr>\n",
       "    <tr>\n",
       "      <th>2</th>\n",
       "      <td>20</td>\n",
       "      <td>9600</td>\n",
       "      <td>6</td>\n",
       "      <td>8</td>\n",
       "      <td>1976</td>\n",
       "      <td>1976</td>\n",
       "      <td>0.0</td>\n",
       "      <td>978</td>\n",
       "      <td>0</td>\n",
       "      <td>284</td>\n",
       "      <td>...</td>\n",
       "      <td>0</td>\n",
       "      <td>0</td>\n",
       "      <td>0</td>\n",
       "      <td>1</td>\n",
       "      <td>0</td>\n",
       "      <td>0</td>\n",
       "      <td>0</td>\n",
       "      <td>0</td>\n",
       "      <td>1</td>\n",
       "      <td>0</td>\n",
       "    </tr>\n",
       "    <tr>\n",
       "      <th>3</th>\n",
       "      <td>60</td>\n",
       "      <td>11250</td>\n",
       "      <td>7</td>\n",
       "      <td>5</td>\n",
       "      <td>2001</td>\n",
       "      <td>2002</td>\n",
       "      <td>162.0</td>\n",
       "      <td>486</td>\n",
       "      <td>0</td>\n",
       "      <td>434</td>\n",
       "      <td>...</td>\n",
       "      <td>0</td>\n",
       "      <td>0</td>\n",
       "      <td>0</td>\n",
       "      <td>1</td>\n",
       "      <td>0</td>\n",
       "      <td>0</td>\n",
       "      <td>0</td>\n",
       "      <td>0</td>\n",
       "      <td>1</td>\n",
       "      <td>0</td>\n",
       "    </tr>\n",
       "    <tr>\n",
       "      <th>4</th>\n",
       "      <td>70</td>\n",
       "      <td>9550</td>\n",
       "      <td>7</td>\n",
       "      <td>5</td>\n",
       "      <td>1915</td>\n",
       "      <td>1970</td>\n",
       "      <td>0.0</td>\n",
       "      <td>216</td>\n",
       "      <td>0</td>\n",
       "      <td>540</td>\n",
       "      <td>...</td>\n",
       "      <td>0</td>\n",
       "      <td>0</td>\n",
       "      <td>0</td>\n",
       "      <td>1</td>\n",
       "      <td>1</td>\n",
       "      <td>0</td>\n",
       "      <td>0</td>\n",
       "      <td>0</td>\n",
       "      <td>0</td>\n",
       "      <td>0</td>\n",
       "    </tr>\n",
       "    <tr>\n",
       "      <th>5</th>\n",
       "      <td>60</td>\n",
       "      <td>14260</td>\n",
       "      <td>8</td>\n",
       "      <td>5</td>\n",
       "      <td>2000</td>\n",
       "      <td>2000</td>\n",
       "      <td>350.0</td>\n",
       "      <td>655</td>\n",
       "      <td>0</td>\n",
       "      <td>490</td>\n",
       "      <td>...</td>\n",
       "      <td>0</td>\n",
       "      <td>0</td>\n",
       "      <td>0</td>\n",
       "      <td>1</td>\n",
       "      <td>0</td>\n",
       "      <td>0</td>\n",
       "      <td>0</td>\n",
       "      <td>0</td>\n",
       "      <td>1</td>\n",
       "      <td>0</td>\n",
       "    </tr>\n",
       "  </tbody>\n",
       "</table>\n",
       "<p>5 rows × 279 columns</p>\n",
       "</div>"
      ],
      "text/plain": [
       "    MSSubClass  LotArea  OverallQual  OverallCond  YearBuilt  YearRemodAdd  \\\n",
       "Id                                                                           \n",
       "1           60     8450            7            5       2003          2003   \n",
       "2           20     9600            6            8       1976          1976   \n",
       "3           60    11250            7            5       2001          2002   \n",
       "4           70     9550            7            5       1915          1970   \n",
       "5           60    14260            8            5       2000          2000   \n",
       "\n",
       "    MasVnrArea  BsmtFinSF1  BsmtFinSF2  BsmtUnfSF          ...            \\\n",
       "Id                                                         ...             \n",
       "1        196.0         706           0        150          ...             \n",
       "2          0.0         978           0        284          ...             \n",
       "3        162.0         486           0        434          ...             \n",
       "4          0.0         216           0        540          ...             \n",
       "5        350.0         655           0        490          ...             \n",
       "\n",
       "    SaleType_ConLw  SaleType_New  SaleType_Oth  SaleType_WD  \\\n",
       "Id                                                            \n",
       "1                0             0             0            1   \n",
       "2                0             0             0            1   \n",
       "3                0             0             0            1   \n",
       "4                0             0             0            1   \n",
       "5                0             0             0            1   \n",
       "\n",
       "    SaleCondition_Abnorml  SaleCondition_AdjLand  SaleCondition_Alloca  \\\n",
       "Id                                                                       \n",
       "1                       0                      0                     0   \n",
       "2                       0                      0                     0   \n",
       "3                       0                      0                     0   \n",
       "4                       1                      0                     0   \n",
       "5                       0                      0                     0   \n",
       "\n",
       "    SaleCondition_Family  SaleCondition_Normal  SaleCondition_Partial  \n",
       "Id                                                                     \n",
       "1                      0                     1                      0  \n",
       "2                      0                     1                      0  \n",
       "3                      0                     1                      0  \n",
       "4                      0                     0                      0  \n",
       "5                      0                     1                      0  \n",
       "\n",
       "[5 rows x 279 columns]"
      ]
     },
     "execution_count": 235,
     "metadata": {},
     "output_type": "execute_result"
    }
   ],
   "source": [
    "house_df4 = pd.get_dummies(house_df3)\n",
    "house_df4.head()"
   ]
  },
  {
   "cell_type": "code",
   "execution_count": 237,
   "metadata": {
    "collapsed": false
   },
   "outputs": [],
   "source": [
    "y = house_df4['SalePrice']  # setting y to be the target value (e.g., 'SalePrice')\n",
    "X = house_df4.drop('SalePrice',axis=1) # setting X to be everything but the target value\n",
    "X_train, X_test, y_train, y_test = train_test_split(X,y,random_state=0)"
   ]
  },
  {
   "cell_type": "code",
   "execution_count": 238,
   "metadata": {
    "collapsed": false
   },
   "outputs": [
    {
     "data": {
      "text/plain": [
       "Id\n",
       "1    208500\n",
       "2    181500\n",
       "3    223500\n",
       "4    140000\n",
       "5    250000\n",
       "Name: SalePrice, dtype: int64"
      ]
     },
     "execution_count": 238,
     "metadata": {},
     "output_type": "execute_result"
    }
   ],
   "source": [
    "y.head()"
   ]
  },
  {
   "cell_type": "markdown",
   "metadata": {},
   "source": [
    "First, I'm going to use a Linear Model to predict Sale Prices.  The model I selected is Ridge regression which does regularization of the weight coefficients (w)."
   ]
  },
  {
   "cell_type": "code",
   "execution_count": 239,
   "metadata": {
    "collapsed": false
   },
   "outputs": [
    {
     "name": "stdout",
     "output_type": "stream",
     "text": [
      "Training set score: 0.94\n",
      "Test set score: 0.70\n"
     ]
    }
   ],
   "source": [
    "from sklearn.linear_model import Ridge\n",
    "from sklearn.model_selection import train_test_split\n",
    "\n",
    "linridge = Ridge().fit(X_train,y_train)\n",
    "print(\"Training set score: {:.2f}\".format(linridge.score(X_train, y_train)))\n",
    "print(\"Test set score: {:.2f}\".format(linridge.score(X_test, y_test)))"
   ]
  },
  {
   "cell_type": "markdown",
   "metadata": {},
   "source": [
    "Without doing any tweaking of the Ridge regression model, we are getting a score of 0.70 on the test dataset.  However, the difference in the training set score and the test set score, shows that we are likely overfitting the our data.  In order to reduce overfitting, we increase our alpha from the default value of 1.0.  Let's try out 5, 10, 20, 50, and 100."
   ]
  },
  {
   "cell_type": "code",
   "execution_count": 240,
   "metadata": {
    "collapsed": false
   },
   "outputs": [
    {
     "name": "stdout",
     "output_type": "stream",
     "text": [
      "Training set score: 0.92\n",
      "Test set score: 0.75\n"
     ]
    }
   ],
   "source": [
    "linridge5 = Ridge(alpha=5).fit(X_train,y_train)\n",
    "print(\"Training set score: {:.2f}\".format(linridge5.score(X_train, y_train)))\n",
    "print(\"Test set score: {:.2f}\".format(linridge5.score(X_test, y_test)))"
   ]
  },
  {
   "cell_type": "code",
   "execution_count": 241,
   "metadata": {
    "collapsed": false
   },
   "outputs": [
    {
     "name": "stdout",
     "output_type": "stream",
     "text": [
      "Training set score: 0.92\n",
      "Test set score: 0.75\n"
     ]
    }
   ],
   "source": [
    "linridge10 = Ridge(alpha=10).fit(X_train,y_train)\n",
    "print(\"Training set score: {:.2f}\".format(linridge10.score(X_train, y_train)))\n",
    "print(\"Test set score: {:.2f}\".format(linridge10.score(X_test, y_test)))"
   ]
  },
  {
   "cell_type": "code",
   "execution_count": 242,
   "metadata": {
    "collapsed": false
   },
   "outputs": [
    {
     "name": "stdout",
     "output_type": "stream",
     "text": [
      "Training set score: 0.91\n",
      "Test set score: 0.75\n"
     ]
    }
   ],
   "source": [
    "linridge20 = Ridge(alpha=20).fit(X_train,y_train)\n",
    "print(\"Training set score: {:.2f}\".format(linridge20.score(X_train, y_train)))\n",
    "print(\"Test set score: {:.2f}\".format(linridge20.score(X_test, y_test)))"
   ]
  },
  {
   "cell_type": "code",
   "execution_count": 243,
   "metadata": {
    "collapsed": false
   },
   "outputs": [
    {
     "name": "stdout",
     "output_type": "stream",
     "text": [
      "Training set score: 0.90\n",
      "Test set score: 0.74\n"
     ]
    }
   ],
   "source": [
    "linridge50 = Ridge(alpha=50).fit(X_train,y_train)\n",
    "print(\"Training set score: {:.2f}\".format(linridge50.score(X_train, y_train)))\n",
    "print(\"Test set score: {:.2f}\".format(linridge50.score(X_test, y_test)))"
   ]
  },
  {
   "cell_type": "code",
   "execution_count": 244,
   "metadata": {
    "collapsed": false
   },
   "outputs": [
    {
     "name": "stdout",
     "output_type": "stream",
     "text": [
      "Training set score: 0.89\n",
      "Test set score: 0.73\n"
     ]
    }
   ],
   "source": [
    "linridge100 = Ridge(alpha=100).fit(X_train,y_train)\n",
    "print(\"Training set score: {:.2f}\".format(linridge100.score(X_train, y_train)))\n",
    "print(\"Test set score: {:.2f}\".format(linridge100.score(X_test, y_test)))"
   ]
  },
  {
   "cell_type": "code",
   "execution_count": 302,
   "metadata": {
    "collapsed": false
   },
   "outputs": [
    {
     "data": {
      "text/plain": [
       "0.15855915891169772"
      ]
     },
     "execution_count": 302,
     "metadata": {},
     "output_type": "execute_result"
    }
   ],
   "source": [
    "#A function to calculate Root Mean Squared Logarithmic Error (RMSLE)\n",
    "def rmsle(y_true, y_pred):\n",
    "    terms_to_sum = (np.log(y_true)-np.log(y_pred))**2\n",
    "    return (sum(terms_to_sum) * (1.0/len(y_true.index))) ** 0.5\n",
    "\n",
    "rmsle(y_test,linridge10.predict(X_test))"
   ]
  },
  {
   "cell_type": "markdown",
   "metadata": {},
   "source": [
    "Based on the results above, our best score is 0.75 using an alpha of 10.  This is the model I will use for making predictions on the test data.  Now I need to read in and do some preprocessing on the test data."
   ]
  },
  {
   "cell_type": "code",
   "execution_count": 246,
   "metadata": {
    "collapsed": false
   },
   "outputs": [],
   "source": [
    "test_df = pd.read_csv(\"test.csv\")"
   ]
  },
  {
   "cell_type": "code",
   "execution_count": 247,
   "metadata": {
    "collapsed": false
   },
   "outputs": [
    {
     "data": {
      "text/html": [
       "<div>\n",
       "<style>\n",
       "    .dataframe thead tr:only-child th {\n",
       "        text-align: right;\n",
       "    }\n",
       "\n",
       "    .dataframe thead th {\n",
       "        text-align: left;\n",
       "    }\n",
       "\n",
       "    .dataframe tbody tr th {\n",
       "        vertical-align: top;\n",
       "    }\n",
       "</style>\n",
       "<table border=\"1\" class=\"dataframe\">\n",
       "  <thead>\n",
       "    <tr style=\"text-align: right;\">\n",
       "      <th></th>\n",
       "      <th>Id</th>\n",
       "      <th>MSSubClass</th>\n",
       "      <th>MSZoning</th>\n",
       "      <th>LotFrontage</th>\n",
       "      <th>LotArea</th>\n",
       "      <th>Street</th>\n",
       "      <th>Alley</th>\n",
       "      <th>LotShape</th>\n",
       "      <th>LandContour</th>\n",
       "      <th>Utilities</th>\n",
       "      <th>...</th>\n",
       "      <th>ScreenPorch</th>\n",
       "      <th>PoolArea</th>\n",
       "      <th>PoolQC</th>\n",
       "      <th>Fence</th>\n",
       "      <th>MiscFeature</th>\n",
       "      <th>MiscVal</th>\n",
       "      <th>MoSold</th>\n",
       "      <th>YrSold</th>\n",
       "      <th>SaleType</th>\n",
       "      <th>SaleCondition</th>\n",
       "    </tr>\n",
       "  </thead>\n",
       "  <tbody>\n",
       "    <tr>\n",
       "      <th>0</th>\n",
       "      <td>1461</td>\n",
       "      <td>20</td>\n",
       "      <td>RH</td>\n",
       "      <td>80.0</td>\n",
       "      <td>11622</td>\n",
       "      <td>Pave</td>\n",
       "      <td>NaN</td>\n",
       "      <td>Reg</td>\n",
       "      <td>Lvl</td>\n",
       "      <td>AllPub</td>\n",
       "      <td>...</td>\n",
       "      <td>120</td>\n",
       "      <td>0</td>\n",
       "      <td>NaN</td>\n",
       "      <td>MnPrv</td>\n",
       "      <td>NaN</td>\n",
       "      <td>0</td>\n",
       "      <td>6</td>\n",
       "      <td>2010</td>\n",
       "      <td>WD</td>\n",
       "      <td>Normal</td>\n",
       "    </tr>\n",
       "    <tr>\n",
       "      <th>1</th>\n",
       "      <td>1462</td>\n",
       "      <td>20</td>\n",
       "      <td>RL</td>\n",
       "      <td>81.0</td>\n",
       "      <td>14267</td>\n",
       "      <td>Pave</td>\n",
       "      <td>NaN</td>\n",
       "      <td>IR1</td>\n",
       "      <td>Lvl</td>\n",
       "      <td>AllPub</td>\n",
       "      <td>...</td>\n",
       "      <td>0</td>\n",
       "      <td>0</td>\n",
       "      <td>NaN</td>\n",
       "      <td>NaN</td>\n",
       "      <td>Gar2</td>\n",
       "      <td>12500</td>\n",
       "      <td>6</td>\n",
       "      <td>2010</td>\n",
       "      <td>WD</td>\n",
       "      <td>Normal</td>\n",
       "    </tr>\n",
       "    <tr>\n",
       "      <th>2</th>\n",
       "      <td>1463</td>\n",
       "      <td>60</td>\n",
       "      <td>RL</td>\n",
       "      <td>74.0</td>\n",
       "      <td>13830</td>\n",
       "      <td>Pave</td>\n",
       "      <td>NaN</td>\n",
       "      <td>IR1</td>\n",
       "      <td>Lvl</td>\n",
       "      <td>AllPub</td>\n",
       "      <td>...</td>\n",
       "      <td>0</td>\n",
       "      <td>0</td>\n",
       "      <td>NaN</td>\n",
       "      <td>MnPrv</td>\n",
       "      <td>NaN</td>\n",
       "      <td>0</td>\n",
       "      <td>3</td>\n",
       "      <td>2010</td>\n",
       "      <td>WD</td>\n",
       "      <td>Normal</td>\n",
       "    </tr>\n",
       "    <tr>\n",
       "      <th>3</th>\n",
       "      <td>1464</td>\n",
       "      <td>60</td>\n",
       "      <td>RL</td>\n",
       "      <td>78.0</td>\n",
       "      <td>9978</td>\n",
       "      <td>Pave</td>\n",
       "      <td>NaN</td>\n",
       "      <td>IR1</td>\n",
       "      <td>Lvl</td>\n",
       "      <td>AllPub</td>\n",
       "      <td>...</td>\n",
       "      <td>0</td>\n",
       "      <td>0</td>\n",
       "      <td>NaN</td>\n",
       "      <td>NaN</td>\n",
       "      <td>NaN</td>\n",
       "      <td>0</td>\n",
       "      <td>6</td>\n",
       "      <td>2010</td>\n",
       "      <td>WD</td>\n",
       "      <td>Normal</td>\n",
       "    </tr>\n",
       "    <tr>\n",
       "      <th>4</th>\n",
       "      <td>1465</td>\n",
       "      <td>120</td>\n",
       "      <td>RL</td>\n",
       "      <td>43.0</td>\n",
       "      <td>5005</td>\n",
       "      <td>Pave</td>\n",
       "      <td>NaN</td>\n",
       "      <td>IR1</td>\n",
       "      <td>HLS</td>\n",
       "      <td>AllPub</td>\n",
       "      <td>...</td>\n",
       "      <td>144</td>\n",
       "      <td>0</td>\n",
       "      <td>NaN</td>\n",
       "      <td>NaN</td>\n",
       "      <td>NaN</td>\n",
       "      <td>0</td>\n",
       "      <td>1</td>\n",
       "      <td>2010</td>\n",
       "      <td>WD</td>\n",
       "      <td>Normal</td>\n",
       "    </tr>\n",
       "  </tbody>\n",
       "</table>\n",
       "<p>5 rows × 80 columns</p>\n",
       "</div>"
      ],
      "text/plain": [
       "     Id  MSSubClass MSZoning  LotFrontage  LotArea Street Alley LotShape  \\\n",
       "0  1461          20       RH         80.0    11622   Pave   NaN      Reg   \n",
       "1  1462          20       RL         81.0    14267   Pave   NaN      IR1   \n",
       "2  1463          60       RL         74.0    13830   Pave   NaN      IR1   \n",
       "3  1464          60       RL         78.0     9978   Pave   NaN      IR1   \n",
       "4  1465         120       RL         43.0     5005   Pave   NaN      IR1   \n",
       "\n",
       "  LandContour Utilities      ...       ScreenPorch PoolArea PoolQC  Fence  \\\n",
       "0         Lvl    AllPub      ...               120        0    NaN  MnPrv   \n",
       "1         Lvl    AllPub      ...                 0        0    NaN    NaN   \n",
       "2         Lvl    AllPub      ...                 0        0    NaN  MnPrv   \n",
       "3         Lvl    AllPub      ...                 0        0    NaN    NaN   \n",
       "4         HLS    AllPub      ...               144        0    NaN    NaN   \n",
       "\n",
       "  MiscFeature MiscVal MoSold  YrSold  SaleType  SaleCondition  \n",
       "0         NaN       0      6    2010        WD         Normal  \n",
       "1        Gar2   12500      6    2010        WD         Normal  \n",
       "2         NaN       0      3    2010        WD         Normal  \n",
       "3         NaN       0      6    2010        WD         Normal  \n",
       "4         NaN       0      1    2010        WD         Normal  \n",
       "\n",
       "[5 rows x 80 columns]"
      ]
     },
     "execution_count": 247,
     "metadata": {},
     "output_type": "execute_result"
    }
   ],
   "source": [
    "test_df.head()"
   ]
  },
  {
   "cell_type": "code",
   "execution_count": 248,
   "metadata": {
    "collapsed": true
   },
   "outputs": [],
   "source": [
    "test_df.set_index('Id',inplace=True)"
   ]
  },
  {
   "cell_type": "code",
   "execution_count": 249,
   "metadata": {
    "collapsed": false
   },
   "outputs": [],
   "source": [
    "# reindexing test_df such that the columns conform to the same as house_df2\n",
    "test_df = test_df.reindex(columns=house_df3.columns)\n",
    "test_df = test_df.drop('SalePrice',axis=1)"
   ]
  },
  {
   "cell_type": "code",
   "execution_count": 250,
   "metadata": {
    "collapsed": false
   },
   "outputs": [
    {
     "data": {
      "text/plain": [
       "['MSZoning',\n",
       " 'Utilities',\n",
       " 'Exterior1st',\n",
       " 'Exterior2nd',\n",
       " 'MasVnrType',\n",
       " 'MasVnrArea',\n",
       " 'BsmtQual',\n",
       " 'BsmtCond',\n",
       " 'BsmtExposure',\n",
       " 'BsmtFinType1',\n",
       " 'BsmtFinSF1',\n",
       " 'BsmtFinType2',\n",
       " 'BsmtFinSF2',\n",
       " 'BsmtUnfSF',\n",
       " 'TotalBsmtSF',\n",
       " 'BsmtFullBath',\n",
       " 'BsmtHalfBath',\n",
       " 'KitchenQual',\n",
       " 'Functional',\n",
       " 'GarageType',\n",
       " 'GarageYrBlt',\n",
       " 'GarageFinish',\n",
       " 'GarageCars',\n",
       " 'GarageArea',\n",
       " 'GarageQual',\n",
       " 'GarageCond',\n",
       " 'SaleType']"
      ]
     },
     "execution_count": 250,
     "metadata": {},
     "output_type": "execute_result"
    }
   ],
   "source": [
    "show_missing(test_df)"
   ]
  },
  {
   "cell_type": "markdown",
   "metadata": {
    "collapsed": true
   },
   "source": [
    "Now we need to go through and replace the NaN values.  After running show_missing() above, we see that there are additional columns that have NaNs in the test data versus the training data.  I'm not sure if that will lead to problems or not."
   ]
  },
  {
   "cell_type": "code",
   "execution_count": 251,
   "metadata": {
    "collapsed": true
   },
   "outputs": [],
   "source": [
    "test_df2 = replace_nans(test_df)"
   ]
  },
  {
   "cell_type": "code",
   "execution_count": 252,
   "metadata": {
    "collapsed": false
   },
   "outputs": [
    {
     "data": {
      "text/plain": [
       "['MSZoning',\n",
       " 'Utilities',\n",
       " 'Exterior1st',\n",
       " 'Exterior2nd',\n",
       " 'BsmtFinSF1',\n",
       " 'BsmtFinSF2',\n",
       " 'BsmtUnfSF',\n",
       " 'TotalBsmtSF',\n",
       " 'BsmtFullBath',\n",
       " 'BsmtHalfBath',\n",
       " 'KitchenQual',\n",
       " 'Functional',\n",
       " 'GarageCars',\n",
       " 'GarageArea',\n",
       " 'SaleType']"
      ]
     },
     "execution_count": 252,
     "metadata": {},
     "output_type": "execute_result"
    }
   ],
   "source": [
    "show_missing(test_df2)"
   ]
  },
  {
   "cell_type": "code",
   "execution_count": 80,
   "metadata": {
    "collapsed": false
   },
   "outputs": [
    {
     "data": {
      "text/plain": [
       "4"
      ]
     },
     "execution_count": 80,
     "metadata": {},
     "output_type": "execute_result"
    }
   ],
   "source": [
    "test_df2['MSZoning'].isnull().sum()"
   ]
  },
  {
   "cell_type": "markdown",
   "metadata": {},
   "source": [
    "The above command shows the 'MSZoning' feature only has 4 NaN values, so I'm not too concerned about it.  I will just replace these rows with the most common class."
   ]
  },
  {
   "cell_type": "code",
   "execution_count": 253,
   "metadata": {
    "collapsed": false
   },
   "outputs": [
    {
     "data": {
      "text/plain": [
       "RL         1114\n",
       "RM          242\n",
       "FV           74\n",
       "C (all)      15\n",
       "RH           10\n",
       "Name: MSZoning, dtype: int64"
      ]
     },
     "execution_count": 253,
     "metadata": {},
     "output_type": "execute_result"
    }
   ],
   "source": [
    "test_df2['MSZoning'].value_counts()"
   ]
  },
  {
   "cell_type": "code",
   "execution_count": 254,
   "metadata": {
    "collapsed": true
   },
   "outputs": [],
   "source": [
    "#replacing NaN values in the MSZoning column with the most common category 'RL'\n",
    "cat_imputation(test_df2,'MSZoning','RL')"
   ]
  },
  {
   "cell_type": "code",
   "execution_count": 255,
   "metadata": {
    "collapsed": false
   },
   "outputs": [
    {
     "data": {
      "text/plain": [
       "2"
      ]
     },
     "execution_count": 255,
     "metadata": {},
     "output_type": "execute_result"
    }
   ],
   "source": [
    "# %load 80\n",
    "test_df2['Utilities'].isnull().sum()"
   ]
  },
  {
   "cell_type": "code",
   "execution_count": 256,
   "metadata": {
    "collapsed": false
   },
   "outputs": [
    {
     "data": {
      "text/plain": [
       "AllPub    1457\n",
       "Name: Utilities, dtype: int64"
      ]
     },
     "execution_count": 256,
     "metadata": {},
     "output_type": "execute_result"
    }
   ],
   "source": [
    "# %load 82\n",
    "test_df2['Utilities'].value_counts()"
   ]
  },
  {
   "cell_type": "code",
   "execution_count": 257,
   "metadata": {
    "collapsed": true
   },
   "outputs": [],
   "source": [
    "# %load 83\n",
    "#replacing NaN values in the Utilities column with the most common category 'AllPub'\n",
    "cat_imputation(test_df2,'Utilities','AllPub')"
   ]
  },
  {
   "cell_type": "code",
   "execution_count": 258,
   "metadata": {
    "collapsed": false
   },
   "outputs": [
    {
     "data": {
      "text/plain": [
       "1"
      ]
     },
     "execution_count": 258,
     "metadata": {},
     "output_type": "execute_result"
    }
   ],
   "source": [
    "# %load 80\n",
    "test_df2['Exterior1st'].isnull().sum()"
   ]
  },
  {
   "cell_type": "code",
   "execution_count": 259,
   "metadata": {
    "collapsed": false
   },
   "outputs": [
    {
     "data": {
      "text/plain": [
       "VinylSd    510\n",
       "MetalSd    230\n",
       "HdBoard    220\n",
       "Wd Sdng    205\n",
       "Plywood    113\n",
       "CemntBd     65\n",
       "BrkFace     37\n",
       "WdShing     30\n",
       "AsbShng     24\n",
       "Stucco      18\n",
       "BrkComm      4\n",
       "AsphShn      1\n",
       "CBlock       1\n",
       "Name: Exterior1st, dtype: int64"
      ]
     },
     "execution_count": 259,
     "metadata": {},
     "output_type": "execute_result"
    }
   ],
   "source": [
    "# %load 82\n",
    "test_df2['Exterior1st'].value_counts()"
   ]
  },
  {
   "cell_type": "code",
   "execution_count": 260,
   "metadata": {
    "collapsed": false
   },
   "outputs": [],
   "source": [
    "# %load 90\n",
    "#replacing NaN values in the Exterior1st column with the most common category 'VinylSd'\n",
    "cat_imputation(test_df2,'Exterior1st','VinylSd')"
   ]
  },
  {
   "cell_type": "code",
   "execution_count": 261,
   "metadata": {
    "collapsed": false
   },
   "outputs": [
    {
     "data": {
      "text/plain": [
       "VinylSd    510\n",
       "MetalSd    233\n",
       "HdBoard    199\n",
       "Wd Sdng    194\n",
       "Plywood    128\n",
       "CmentBd     66\n",
       "Wd Shng     43\n",
       "BrkFace     22\n",
       "Stucco      21\n",
       "AsbShng     18\n",
       "Brk Cmn     15\n",
       "ImStucc      5\n",
       "CBlock       2\n",
       "AsphShn      1\n",
       "Stone        1\n",
       "Name: Exterior2nd, dtype: int64"
      ]
     },
     "execution_count": 261,
     "metadata": {},
     "output_type": "execute_result"
    }
   ],
   "source": [
    "test_df2['Exterior2nd'].isnull().sum()\n",
    "test_df2['Exterior2nd'].value_counts()"
   ]
  },
  {
   "cell_type": "code",
   "execution_count": 262,
   "metadata": {
    "collapsed": true
   },
   "outputs": [],
   "source": [
    "cat_imputation(test_df2,'Exterior2nd','VinylSd')"
   ]
  },
  {
   "cell_type": "code",
   "execution_count": 263,
   "metadata": {
    "collapsed": false
   },
   "outputs": [
    {
     "data": {
      "text/plain": [
       "1"
      ]
     },
     "execution_count": 263,
     "metadata": {},
     "output_type": "execute_result"
    }
   ],
   "source": [
    "# %load 99\n",
    "test_df2['BsmtFinSF1'].isnull().sum()\n",
    "#test_df2['BsmtFinSF1'].value_counts()"
   ]
  },
  {
   "cell_type": "code",
   "execution_count": 264,
   "metadata": {
    "collapsed": true
   },
   "outputs": [],
   "source": [
    "basementsf_cols = ['BsmtFinSF1','BsmtFinSF2','BsmtUnfSF','TotalBsmtSF']"
   ]
  },
  {
   "cell_type": "code",
   "execution_count": 265,
   "metadata": {
    "collapsed": true
   },
   "outputs": [],
   "source": [
    "for col in basementsf_cols:\n",
    "    cat_imputation(test_df2,col,0.0)"
   ]
  },
  {
   "cell_type": "code",
   "execution_count": 266,
   "metadata": {
    "collapsed": false
   },
   "outputs": [
    {
     "data": {
      "text/plain": [
       "['BsmtFullBath',\n",
       " 'BsmtHalfBath',\n",
       " 'KitchenQual',\n",
       " 'Functional',\n",
       " 'GarageCars',\n",
       " 'GarageArea',\n",
       " 'SaleType']"
      ]
     },
     "execution_count": 266,
     "metadata": {},
     "output_type": "execute_result"
    }
   ],
   "source": [
    "show_missing(test_df2)"
   ]
  },
  {
   "cell_type": "code",
   "execution_count": 267,
   "metadata": {
    "collapsed": false
   },
   "outputs": [
    {
     "data": {
      "text/plain": [
       "0.0    849\n",
       "1.0    584\n",
       "2.0     23\n",
       "3.0      1\n",
       "Name: BsmtFullBath, dtype: int64"
      ]
     },
     "execution_count": 267,
     "metadata": {},
     "output_type": "execute_result"
    }
   ],
   "source": [
    "# %load 99\n",
    "#test_df2['BsmtFullBath'].isnull().sum()\n",
    "test_df2['BsmtFullBath'].value_counts()"
   ]
  },
  {
   "cell_type": "code",
   "execution_count": 268,
   "metadata": {
    "collapsed": true
   },
   "outputs": [],
   "source": [
    "basement_bath_cols = ['BsmtFullBath','BsmtHalfBath']\n",
    "\n",
    "for col in basement_bath_cols:\n",
    "    cat_imputation(test_df2,col,0.0)"
   ]
  },
  {
   "cell_type": "code",
   "execution_count": 269,
   "metadata": {
    "collapsed": false
   },
   "outputs": [
    {
     "data": {
      "text/plain": [
       "'TA'"
      ]
     },
     "execution_count": 269,
     "metadata": {},
     "output_type": "execute_result"
    }
   ],
   "source": [
    "# %load 99\n",
    "#test_df2['KitchenQual'].isnull().sum()\n",
    "test_df2['KitchenQual'].value_counts().index[0]"
   ]
  },
  {
   "cell_type": "code",
   "execution_count": 270,
   "metadata": {
    "collapsed": true
   },
   "outputs": [],
   "source": [
    "cat_imputation(test_df2,'KitchenQual','TA')"
   ]
  },
  {
   "cell_type": "code",
   "execution_count": 271,
   "metadata": {
    "collapsed": false
   },
   "outputs": [],
   "source": [
    "# This is a small function I wrote to replace all NaN values in a column with the most common value\n",
    "def cat_impute_most_common(df,column):\n",
    "    most_common_val = df[column].value_counts().index[0]\n",
    "    if df[column].dtype == np.object:\n",
    "        df.loc[df[column].isnull(),column] = most_common_val\n",
    "    else:\n",
    "        df.loc[df[column].isnull(),column] = most_common_val.astype(int)"
   ]
  },
  {
   "cell_type": "code",
   "execution_count": 272,
   "metadata": {
    "collapsed": false
   },
   "outputs": [
    {
     "data": {
      "text/plain": [
       "['Functional', 'GarageCars', 'GarageArea', 'SaleType']"
      ]
     },
     "execution_count": 272,
     "metadata": {},
     "output_type": "execute_result"
    }
   ],
   "source": [
    "show_missing(test_df)"
   ]
  },
  {
   "cell_type": "code",
   "execution_count": 273,
   "metadata": {
    "collapsed": false
   },
   "outputs": [
    {
     "data": {
      "text/plain": [
       "2.0    770\n",
       "1.0    407\n",
       "3.0    193\n",
       "0.0     76\n",
       "4.0     11\n",
       "5.0      1\n",
       "Name: GarageCars, dtype: int64"
      ]
     },
     "execution_count": 273,
     "metadata": {},
     "output_type": "execute_result"
    }
   ],
   "source": [
    "# %load 99\n",
    "test_df2['GarageCars'].isnull().sum()\n",
    "test_df2['GarageCars'].value_counts()"
   ]
  },
  {
   "cell_type": "code",
   "execution_count": 274,
   "metadata": {
    "collapsed": false
   },
   "outputs": [],
   "source": [
    "cat_impute_most_common(test_df2,'Functional')"
   ]
  },
  {
   "cell_type": "code",
   "execution_count": 275,
   "metadata": {
    "collapsed": false
   },
   "outputs": [],
   "source": [
    "cat_impute_most_common(test_df2,'GarageCars')"
   ]
  },
  {
   "cell_type": "code",
   "execution_count": 276,
   "metadata": {
    "collapsed": false
   },
   "outputs": [
    {
     "data": {
      "text/plain": [
       "2.0    771\n",
       "1.0    407\n",
       "3.0    193\n",
       "0.0     76\n",
       "4.0     11\n",
       "5.0      1\n",
       "Name: GarageCars, dtype: int64"
      ]
     },
     "execution_count": 276,
     "metadata": {},
     "output_type": "execute_result"
    }
   ],
   "source": [
    "test_df2['GarageCars'].value_counts()"
   ]
  },
  {
   "cell_type": "code",
   "execution_count": 277,
   "metadata": {
    "collapsed": true
   },
   "outputs": [],
   "source": [
    "cat_impute_most_common(test_df2,'GarageArea')\n",
    "cat_impute_most_common(test_df2,'SaleType')"
   ]
  },
  {
   "cell_type": "code",
   "execution_count": 278,
   "metadata": {
    "collapsed": false
   },
   "outputs": [
    {
     "data": {
      "text/plain": [
       "[]"
      ]
     },
     "execution_count": 278,
     "metadata": {},
     "output_type": "execute_result"
    }
   ],
   "source": [
    "show_missing(test_df2)"
   ]
  },
  {
   "cell_type": "markdown",
   "metadata": {},
   "source": [
    "Confirmation that all NaNs of the test data have been replaced. Now we need to go through the DataFrame to encode all of the columns with categorical features."
   ]
  },
  {
   "cell_type": "code",
   "execution_count": 280,
   "metadata": {
    "collapsed": false
   },
   "outputs": [
    {
     "data": {
      "text/html": [
       "<div>\n",
       "<style>\n",
       "    .dataframe thead tr:only-child th {\n",
       "        text-align: right;\n",
       "    }\n",
       "\n",
       "    .dataframe thead th {\n",
       "        text-align: left;\n",
       "    }\n",
       "\n",
       "    .dataframe tbody tr th {\n",
       "        vertical-align: top;\n",
       "    }\n",
       "</style>\n",
       "<table border=\"1\" class=\"dataframe\">\n",
       "  <thead>\n",
       "    <tr style=\"text-align: right;\">\n",
       "      <th></th>\n",
       "      <th>MSSubClass</th>\n",
       "      <th>LotArea</th>\n",
       "      <th>OverallQual</th>\n",
       "      <th>OverallCond</th>\n",
       "      <th>YearBuilt</th>\n",
       "      <th>YearRemodAdd</th>\n",
       "      <th>MasVnrArea</th>\n",
       "      <th>BsmtFinSF1</th>\n",
       "      <th>BsmtFinSF2</th>\n",
       "      <th>BsmtUnfSF</th>\n",
       "      <th>...</th>\n",
       "      <th>SaleType_ConLw</th>\n",
       "      <th>SaleType_New</th>\n",
       "      <th>SaleType_Oth</th>\n",
       "      <th>SaleType_WD</th>\n",
       "      <th>SaleCondition_Abnorml</th>\n",
       "      <th>SaleCondition_AdjLand</th>\n",
       "      <th>SaleCondition_Alloca</th>\n",
       "      <th>SaleCondition_Family</th>\n",
       "      <th>SaleCondition_Normal</th>\n",
       "      <th>SaleCondition_Partial</th>\n",
       "    </tr>\n",
       "    <tr>\n",
       "      <th>Id</th>\n",
       "      <th></th>\n",
       "      <th></th>\n",
       "      <th></th>\n",
       "      <th></th>\n",
       "      <th></th>\n",
       "      <th></th>\n",
       "      <th></th>\n",
       "      <th></th>\n",
       "      <th></th>\n",
       "      <th></th>\n",
       "      <th></th>\n",
       "      <th></th>\n",
       "      <th></th>\n",
       "      <th></th>\n",
       "      <th></th>\n",
       "      <th></th>\n",
       "      <th></th>\n",
       "      <th></th>\n",
       "      <th></th>\n",
       "      <th></th>\n",
       "      <th></th>\n",
       "    </tr>\n",
       "  </thead>\n",
       "  <tbody>\n",
       "    <tr>\n",
       "      <th>1461</th>\n",
       "      <td>20</td>\n",
       "      <td>11622</td>\n",
       "      <td>5</td>\n",
       "      <td>6</td>\n",
       "      <td>1961</td>\n",
       "      <td>1961</td>\n",
       "      <td>0.0</td>\n",
       "      <td>468.0</td>\n",
       "      <td>144.0</td>\n",
       "      <td>270.0</td>\n",
       "      <td>...</td>\n",
       "      <td>0</td>\n",
       "      <td>0</td>\n",
       "      <td>0</td>\n",
       "      <td>1</td>\n",
       "      <td>0</td>\n",
       "      <td>0</td>\n",
       "      <td>0</td>\n",
       "      <td>0</td>\n",
       "      <td>1</td>\n",
       "      <td>0</td>\n",
       "    </tr>\n",
       "    <tr>\n",
       "      <th>1462</th>\n",
       "      <td>20</td>\n",
       "      <td>14267</td>\n",
       "      <td>6</td>\n",
       "      <td>6</td>\n",
       "      <td>1958</td>\n",
       "      <td>1958</td>\n",
       "      <td>108.0</td>\n",
       "      <td>923.0</td>\n",
       "      <td>0.0</td>\n",
       "      <td>406.0</td>\n",
       "      <td>...</td>\n",
       "      <td>0</td>\n",
       "      <td>0</td>\n",
       "      <td>0</td>\n",
       "      <td>1</td>\n",
       "      <td>0</td>\n",
       "      <td>0</td>\n",
       "      <td>0</td>\n",
       "      <td>0</td>\n",
       "      <td>1</td>\n",
       "      <td>0</td>\n",
       "    </tr>\n",
       "    <tr>\n",
       "      <th>1463</th>\n",
       "      <td>60</td>\n",
       "      <td>13830</td>\n",
       "      <td>5</td>\n",
       "      <td>5</td>\n",
       "      <td>1997</td>\n",
       "      <td>1998</td>\n",
       "      <td>0.0</td>\n",
       "      <td>791.0</td>\n",
       "      <td>0.0</td>\n",
       "      <td>137.0</td>\n",
       "      <td>...</td>\n",
       "      <td>0</td>\n",
       "      <td>0</td>\n",
       "      <td>0</td>\n",
       "      <td>1</td>\n",
       "      <td>0</td>\n",
       "      <td>0</td>\n",
       "      <td>0</td>\n",
       "      <td>0</td>\n",
       "      <td>1</td>\n",
       "      <td>0</td>\n",
       "    </tr>\n",
       "    <tr>\n",
       "      <th>1464</th>\n",
       "      <td>60</td>\n",
       "      <td>9978</td>\n",
       "      <td>6</td>\n",
       "      <td>6</td>\n",
       "      <td>1998</td>\n",
       "      <td>1998</td>\n",
       "      <td>20.0</td>\n",
       "      <td>602.0</td>\n",
       "      <td>0.0</td>\n",
       "      <td>324.0</td>\n",
       "      <td>...</td>\n",
       "      <td>0</td>\n",
       "      <td>0</td>\n",
       "      <td>0</td>\n",
       "      <td>1</td>\n",
       "      <td>0</td>\n",
       "      <td>0</td>\n",
       "      <td>0</td>\n",
       "      <td>0</td>\n",
       "      <td>1</td>\n",
       "      <td>0</td>\n",
       "    </tr>\n",
       "    <tr>\n",
       "      <th>1465</th>\n",
       "      <td>120</td>\n",
       "      <td>5005</td>\n",
       "      <td>8</td>\n",
       "      <td>5</td>\n",
       "      <td>1992</td>\n",
       "      <td>1992</td>\n",
       "      <td>0.0</td>\n",
       "      <td>263.0</td>\n",
       "      <td>0.0</td>\n",
       "      <td>1017.0</td>\n",
       "      <td>...</td>\n",
       "      <td>0</td>\n",
       "      <td>0</td>\n",
       "      <td>0</td>\n",
       "      <td>1</td>\n",
       "      <td>0</td>\n",
       "      <td>0</td>\n",
       "      <td>0</td>\n",
       "      <td>0</td>\n",
       "      <td>1</td>\n",
       "      <td>0</td>\n",
       "    </tr>\n",
       "  </tbody>\n",
       "</table>\n",
       "<p>5 rows × 262 columns</p>\n",
       "</div>"
      ],
      "text/plain": [
       "      MSSubClass  LotArea  OverallQual  OverallCond  YearBuilt  YearRemodAdd  \\\n",
       "Id                                                                             \n",
       "1461          20    11622            5            6       1961          1961   \n",
       "1462          20    14267            6            6       1958          1958   \n",
       "1463          60    13830            5            5       1997          1998   \n",
       "1464          60     9978            6            6       1998          1998   \n",
       "1465         120     5005            8            5       1992          1992   \n",
       "\n",
       "      MasVnrArea  BsmtFinSF1  BsmtFinSF2  BsmtUnfSF          ...            \\\n",
       "Id                                                           ...             \n",
       "1461         0.0       468.0       144.0      270.0          ...             \n",
       "1462       108.0       923.0         0.0      406.0          ...             \n",
       "1463         0.0       791.0         0.0      137.0          ...             \n",
       "1464        20.0       602.0         0.0      324.0          ...             \n",
       "1465         0.0       263.0         0.0     1017.0          ...             \n",
       "\n",
       "      SaleType_ConLw  SaleType_New  SaleType_Oth  SaleType_WD  \\\n",
       "Id                                                              \n",
       "1461               0             0             0            1   \n",
       "1462               0             0             0            1   \n",
       "1463               0             0             0            1   \n",
       "1464               0             0             0            1   \n",
       "1465               0             0             0            1   \n",
       "\n",
       "      SaleCondition_Abnorml  SaleCondition_AdjLand  SaleCondition_Alloca  \\\n",
       "Id                                                                         \n",
       "1461                      0                      0                     0   \n",
       "1462                      0                      0                     0   \n",
       "1463                      0                      0                     0   \n",
       "1464                      0                      0                     0   \n",
       "1465                      0                      0                     0   \n",
       "\n",
       "      SaleCondition_Family  SaleCondition_Normal  SaleCondition_Partial  \n",
       "Id                                                                       \n",
       "1461                     0                     1                      0  \n",
       "1462                     0                     1                      0  \n",
       "1463                     0                     1                      0  \n",
       "1464                     0                     1                      0  \n",
       "1465                     0                     1                      0  \n",
       "\n",
       "[5 rows x 262 columns]"
      ]
     },
     "execution_count": 280,
     "metadata": {},
     "output_type": "execute_result"
    }
   ],
   "source": [
    "test_df3 = pd.get_dummies(test_df2)\n",
    "test_df3.head()"
   ]
  },
  {
   "cell_type": "code",
   "execution_count": 281,
   "metadata": {
    "collapsed": false
   },
   "outputs": [
    {
     "data": {
      "text/html": [
       "<div>\n",
       "<style>\n",
       "    .dataframe thead tr:only-child th {\n",
       "        text-align: right;\n",
       "    }\n",
       "\n",
       "    .dataframe thead th {\n",
       "        text-align: left;\n",
       "    }\n",
       "\n",
       "    .dataframe tbody tr th {\n",
       "        vertical-align: top;\n",
       "    }\n",
       "</style>\n",
       "<table border=\"1\" class=\"dataframe\">\n",
       "  <thead>\n",
       "    <tr style=\"text-align: right;\">\n",
       "      <th></th>\n",
       "      <th>MSSubClass</th>\n",
       "      <th>LotArea</th>\n",
       "      <th>OverallQual</th>\n",
       "      <th>OverallCond</th>\n",
       "      <th>YearBuilt</th>\n",
       "      <th>YearRemodAdd</th>\n",
       "      <th>MasVnrArea</th>\n",
       "      <th>BsmtFinSF1</th>\n",
       "      <th>BsmtFinSF2</th>\n",
       "      <th>BsmtUnfSF</th>\n",
       "      <th>...</th>\n",
       "      <th>SaleType_ConLw</th>\n",
       "      <th>SaleType_New</th>\n",
       "      <th>SaleType_Oth</th>\n",
       "      <th>SaleType_WD</th>\n",
       "      <th>SaleCondition_Abnorml</th>\n",
       "      <th>SaleCondition_AdjLand</th>\n",
       "      <th>SaleCondition_Alloca</th>\n",
       "      <th>SaleCondition_Family</th>\n",
       "      <th>SaleCondition_Normal</th>\n",
       "      <th>SaleCondition_Partial</th>\n",
       "    </tr>\n",
       "    <tr>\n",
       "      <th>Id</th>\n",
       "      <th></th>\n",
       "      <th></th>\n",
       "      <th></th>\n",
       "      <th></th>\n",
       "      <th></th>\n",
       "      <th></th>\n",
       "      <th></th>\n",
       "      <th></th>\n",
       "      <th></th>\n",
       "      <th></th>\n",
       "      <th></th>\n",
       "      <th></th>\n",
       "      <th></th>\n",
       "      <th></th>\n",
       "      <th></th>\n",
       "      <th></th>\n",
       "      <th></th>\n",
       "      <th></th>\n",
       "      <th></th>\n",
       "      <th></th>\n",
       "      <th></th>\n",
       "    </tr>\n",
       "  </thead>\n",
       "  <tbody>\n",
       "    <tr>\n",
       "      <th>1461</th>\n",
       "      <td>20</td>\n",
       "      <td>11622</td>\n",
       "      <td>5</td>\n",
       "      <td>6</td>\n",
       "      <td>1961</td>\n",
       "      <td>1961</td>\n",
       "      <td>0.0</td>\n",
       "      <td>468.0</td>\n",
       "      <td>144.0</td>\n",
       "      <td>270.0</td>\n",
       "      <td>...</td>\n",
       "      <td>0</td>\n",
       "      <td>0</td>\n",
       "      <td>0</td>\n",
       "      <td>1</td>\n",
       "      <td>0</td>\n",
       "      <td>0</td>\n",
       "      <td>0</td>\n",
       "      <td>0</td>\n",
       "      <td>1</td>\n",
       "      <td>0</td>\n",
       "    </tr>\n",
       "    <tr>\n",
       "      <th>1462</th>\n",
       "      <td>20</td>\n",
       "      <td>14267</td>\n",
       "      <td>6</td>\n",
       "      <td>6</td>\n",
       "      <td>1958</td>\n",
       "      <td>1958</td>\n",
       "      <td>108.0</td>\n",
       "      <td>923.0</td>\n",
       "      <td>0.0</td>\n",
       "      <td>406.0</td>\n",
       "      <td>...</td>\n",
       "      <td>0</td>\n",
       "      <td>0</td>\n",
       "      <td>0</td>\n",
       "      <td>1</td>\n",
       "      <td>0</td>\n",
       "      <td>0</td>\n",
       "      <td>0</td>\n",
       "      <td>0</td>\n",
       "      <td>1</td>\n",
       "      <td>0</td>\n",
       "    </tr>\n",
       "    <tr>\n",
       "      <th>1463</th>\n",
       "      <td>60</td>\n",
       "      <td>13830</td>\n",
       "      <td>5</td>\n",
       "      <td>5</td>\n",
       "      <td>1997</td>\n",
       "      <td>1998</td>\n",
       "      <td>0.0</td>\n",
       "      <td>791.0</td>\n",
       "      <td>0.0</td>\n",
       "      <td>137.0</td>\n",
       "      <td>...</td>\n",
       "      <td>0</td>\n",
       "      <td>0</td>\n",
       "      <td>0</td>\n",
       "      <td>1</td>\n",
       "      <td>0</td>\n",
       "      <td>0</td>\n",
       "      <td>0</td>\n",
       "      <td>0</td>\n",
       "      <td>1</td>\n",
       "      <td>0</td>\n",
       "    </tr>\n",
       "    <tr>\n",
       "      <th>1464</th>\n",
       "      <td>60</td>\n",
       "      <td>9978</td>\n",
       "      <td>6</td>\n",
       "      <td>6</td>\n",
       "      <td>1998</td>\n",
       "      <td>1998</td>\n",
       "      <td>20.0</td>\n",
       "      <td>602.0</td>\n",
       "      <td>0.0</td>\n",
       "      <td>324.0</td>\n",
       "      <td>...</td>\n",
       "      <td>0</td>\n",
       "      <td>0</td>\n",
       "      <td>0</td>\n",
       "      <td>1</td>\n",
       "      <td>0</td>\n",
       "      <td>0</td>\n",
       "      <td>0</td>\n",
       "      <td>0</td>\n",
       "      <td>1</td>\n",
       "      <td>0</td>\n",
       "    </tr>\n",
       "    <tr>\n",
       "      <th>1465</th>\n",
       "      <td>120</td>\n",
       "      <td>5005</td>\n",
       "      <td>8</td>\n",
       "      <td>5</td>\n",
       "      <td>1992</td>\n",
       "      <td>1992</td>\n",
       "      <td>0.0</td>\n",
       "      <td>263.0</td>\n",
       "      <td>0.0</td>\n",
       "      <td>1017.0</td>\n",
       "      <td>...</td>\n",
       "      <td>0</td>\n",
       "      <td>0</td>\n",
       "      <td>0</td>\n",
       "      <td>1</td>\n",
       "      <td>0</td>\n",
       "      <td>0</td>\n",
       "      <td>0</td>\n",
       "      <td>0</td>\n",
       "      <td>1</td>\n",
       "      <td>0</td>\n",
       "    </tr>\n",
       "  </tbody>\n",
       "</table>\n",
       "<p>5 rows × 278 columns</p>\n",
       "</div>"
      ],
      "text/plain": [
       "      MSSubClass  LotArea  OverallQual  OverallCond  YearBuilt  YearRemodAdd  \\\n",
       "Id                                                                             \n",
       "1461          20    11622            5            6       1961          1961   \n",
       "1462          20    14267            6            6       1958          1958   \n",
       "1463          60    13830            5            5       1997          1998   \n",
       "1464          60     9978            6            6       1998          1998   \n",
       "1465         120     5005            8            5       1992          1992   \n",
       "\n",
       "      MasVnrArea  BsmtFinSF1  BsmtFinSF2  BsmtUnfSF          ...            \\\n",
       "Id                                                           ...             \n",
       "1461         0.0       468.0       144.0      270.0          ...             \n",
       "1462       108.0       923.0         0.0      406.0          ...             \n",
       "1463         0.0       791.0         0.0      137.0          ...             \n",
       "1464        20.0       602.0         0.0      324.0          ...             \n",
       "1465         0.0       263.0         0.0     1017.0          ...             \n",
       "\n",
       "      SaleType_ConLw  SaleType_New  SaleType_Oth  SaleType_WD  \\\n",
       "Id                                                              \n",
       "1461               0             0             0            1   \n",
       "1462               0             0             0            1   \n",
       "1463               0             0             0            1   \n",
       "1464               0             0             0            1   \n",
       "1465               0             0             0            1   \n",
       "\n",
       "      SaleCondition_Abnorml  SaleCondition_AdjLand  SaleCondition_Alloca  \\\n",
       "Id                                                                         \n",
       "1461                      0                      0                     0   \n",
       "1462                      0                      0                     0   \n",
       "1463                      0                      0                     0   \n",
       "1464                      0                      0                     0   \n",
       "1465                      0                      0                     0   \n",
       "\n",
       "      SaleCondition_Family  SaleCondition_Normal  SaleCondition_Partial  \n",
       "Id                                                                       \n",
       "1461                     0                     1                      0  \n",
       "1462                     0                     1                      0  \n",
       "1463                     0                     1                      0  \n",
       "1464                     0                     1                      0  \n",
       "1465                     0                     1                      0  \n",
       "\n",
       "[5 rows x 278 columns]"
      ]
     },
     "execution_count": 281,
     "metadata": {},
     "output_type": "execute_result"
    }
   ],
   "source": [
    "test_df3 = test_df3.reindex(columns=X.columns,fill_value=0)\n",
    "test_df3.head()"
   ]
  },
  {
   "cell_type": "code",
   "execution_count": 282,
   "metadata": {
    "collapsed": false
   },
   "outputs": [
    {
     "data": {
      "text/plain": [
       "(1095, 278)"
      ]
     },
     "execution_count": 282,
     "metadata": {},
     "output_type": "execute_result"
    }
   ],
   "source": [
    "#np.shape(test_df3)\n",
    "#np.shape(house_df4)\n",
    "np.shape(X_train)"
   ]
  },
  {
   "cell_type": "code",
   "execution_count": 288,
   "metadata": {
    "collapsed": false
   },
   "outputs": [],
   "source": [
    "# Now I will be making a prediction on the test data using the linridge model we selected.\n",
    "\n",
    "house_price_prediction = linridge10.predict(test_df3)"
   ]
  },
  {
   "cell_type": "code",
   "execution_count": 289,
   "metadata": {
    "collapsed": false
   },
   "outputs": [
    {
     "data": {
      "text/plain": [
       "(1459,)"
      ]
     },
     "execution_count": 289,
     "metadata": {},
     "output_type": "execute_result"
    }
   ],
   "source": [
    "np.shape(house_price_prediction)"
   ]
  },
  {
   "cell_type": "code",
   "execution_count": 290,
   "metadata": {
    "collapsed": false
   },
   "outputs": [
    {
     "data": {
      "text/plain": [
       "array([ 106804.38105045,  159458.8248512 ,  180697.90570205,\n",
       "        193447.39851751,  192219.24859057,  170910.74043459,\n",
       "        183108.11047361,  159333.56866794,  205039.87283766,\n",
       "        114863.59333707])"
      ]
     },
     "execution_count": 290,
     "metadata": {},
     "output_type": "execute_result"
    }
   ],
   "source": [
    "house_price_prediction[:10]"
   ]
  },
  {
   "cell_type": "code",
   "execution_count": 291,
   "metadata": {
    "collapsed": false
   },
   "outputs": [],
   "source": [
    "price_predict_df = pd.DataFrame(house_price_prediction,index=test_df.index,columns=['SalePrice']) "
   ]
  },
  {
   "cell_type": "code",
   "execution_count": 292,
   "metadata": {
    "collapsed": false
   },
   "outputs": [
    {
     "data": {
      "text/html": [
       "<div>\n",
       "<style>\n",
       "    .dataframe thead tr:only-child th {\n",
       "        text-align: right;\n",
       "    }\n",
       "\n",
       "    .dataframe thead th {\n",
       "        text-align: left;\n",
       "    }\n",
       "\n",
       "    .dataframe tbody tr th {\n",
       "        vertical-align: top;\n",
       "    }\n",
       "</style>\n",
       "<table border=\"1\" class=\"dataframe\">\n",
       "  <thead>\n",
       "    <tr style=\"text-align: right;\">\n",
       "      <th></th>\n",
       "      <th>SalePrice</th>\n",
       "    </tr>\n",
       "    <tr>\n",
       "      <th>Id</th>\n",
       "      <th></th>\n",
       "    </tr>\n",
       "  </thead>\n",
       "  <tbody>\n",
       "    <tr>\n",
       "      <th>1461</th>\n",
       "      <td>106804.381050</td>\n",
       "    </tr>\n",
       "    <tr>\n",
       "      <th>1462</th>\n",
       "      <td>159458.824851</td>\n",
       "    </tr>\n",
       "    <tr>\n",
       "      <th>1463</th>\n",
       "      <td>180697.905702</td>\n",
       "    </tr>\n",
       "    <tr>\n",
       "      <th>1464</th>\n",
       "      <td>193447.398518</td>\n",
       "    </tr>\n",
       "    <tr>\n",
       "      <th>1465</th>\n",
       "      <td>192219.248591</td>\n",
       "    </tr>\n",
       "  </tbody>\n",
       "</table>\n",
       "</div>"
      ],
      "text/plain": [
       "          SalePrice\n",
       "Id                 \n",
       "1461  106804.381050\n",
       "1462  159458.824851\n",
       "1463  180697.905702\n",
       "1464  193447.398518\n",
       "1465  192219.248591"
      ]
     },
     "execution_count": 292,
     "metadata": {},
     "output_type": "execute_result"
    }
   ],
   "source": [
    "price_predict_df.head()"
   ]
  },
  {
   "cell_type": "code",
   "execution_count": 294,
   "metadata": {
    "collapsed": true
   },
   "outputs": [],
   "source": [
    "price_predict_df.to_csv('house_price_submission_Ridge10_bsturm.csv')"
   ]
  },
  {
   "cell_type": "markdown",
   "metadata": {},
   "source": [
    "Now I'd like to try fitting the data using a Lasso model"
   ]
  },
  {
   "cell_type": "code",
   "execution_count": 295,
   "metadata": {
    "collapsed": false
   },
   "outputs": [
    {
     "name": "stdout",
     "output_type": "stream",
     "text": [
      "Training set score: 0.94\n",
      "Test set score: 0.64\n",
      "Number of features used: 240\n"
     ]
    },
    {
     "name": "stderr",
     "output_type": "stream",
     "text": [
      "/Users/bwsturm/anaconda/lib/python3.6/site-packages/sklearn/linear_model/coordinate_descent.py:491: ConvergenceWarning: Objective did not converge. You might want to increase the number of iterations. Fitting data with very small alpha may cause precision problems.\n",
      "  ConvergenceWarning)\n"
     ]
    }
   ],
   "source": [
    "from sklearn.linear_model import Lasso\n",
    "\n",
    "lasso = Lasso().fit(X_train,y_train)\n",
    "\n",
    "print(\"Training set score: {:.2f}\".format(lasso.score(X_train, y_train)))\n",
    "print(\"Test set score: {:.2f}\".format(lasso.score(X_test, y_test)))\n",
    "print(\"Number of features used: {}\".format(np.sum(lasso.coef_ != 0)))"
   ]
  },
  {
   "cell_type": "markdown",
   "metadata": {},
   "source": [
    "It's pretty clear, we are overfitting the data.  So, we will try to increase alpha from the default value of 1.  I'll try alpha of 5,10,20,50,100, and 1000."
   ]
  },
  {
   "cell_type": "code",
   "execution_count": 296,
   "metadata": {
    "collapsed": false
   },
   "outputs": [
    {
     "name": "stdout",
     "output_type": "stream",
     "text": [
      "Training set score: 0.94\n",
      "Test set score: 0.64\n",
      "Number of features used: 224\n"
     ]
    }
   ],
   "source": [
    "lasso5 = Lasso(alpha=5).fit(X_train,y_train)\n",
    "\n",
    "print(\"Training set score: {:.2f}\".format(lasso5.score(X_train, y_train)))\n",
    "print(\"Test set score: {:.2f}\".format(lasso5.score(X_test, y_test)))\n",
    "print(\"Number of features used: {}\".format(np.sum(lasso5.coef_ != 0)))"
   ]
  },
  {
   "cell_type": "code",
   "execution_count": 297,
   "metadata": {
    "collapsed": false
   },
   "outputs": [
    {
     "name": "stdout",
     "output_type": "stream",
     "text": [
      "Training set score: 0.94\n",
      "Test set score: 0.65\n",
      "Number of features used: 201\n"
     ]
    }
   ],
   "source": [
    "lasso10 = Lasso(alpha=10).fit(X_train,y_train)\n",
    "\n",
    "print(\"Training set score: {:.2f}\".format(lasso10.score(X_train, y_train)))\n",
    "print(\"Test set score: {:.2f}\".format(lasso10.score(X_test, y_test)))\n",
    "print(\"Number of features used: {}\".format(np.sum(lasso10.coef_ != 0)))"
   ]
  },
  {
   "cell_type": "code",
   "execution_count": 298,
   "metadata": {
    "collapsed": false
   },
   "outputs": [
    {
     "name": "stdout",
     "output_type": "stream",
     "text": [
      "Training set score: 0.94\n",
      "Test set score: 0.66\n",
      "Number of features used: 175\n"
     ]
    }
   ],
   "source": [
    "# %load 198\n",
    "lasso20 = Lasso(alpha=20).fit(X_train,y_train)\n",
    "\n",
    "print(\"Training set score: {:.2f}\".format(lasso20.score(X_train, y_train)))\n",
    "print(\"Test set score: {:.2f}\".format(lasso20.score(X_test, y_test)))\n",
    "print(\"Number of features used: {}\".format(np.sum(lasso20.coef_ != 0)))"
   ]
  },
  {
   "cell_type": "code",
   "execution_count": 299,
   "metadata": {
    "collapsed": false
   },
   "outputs": [
    {
     "name": "stdout",
     "output_type": "stream",
     "text": [
      "Training set score: 0.94\n",
      "Test set score: 0.69\n",
      "Number of features used: 142\n"
     ]
    }
   ],
   "source": [
    "# %load 198\n",
    "lasso50 = Lasso(alpha=50).fit(X_train,y_train)\n",
    "\n",
    "print(\"Training set score: {:.2f}\".format(lasso50.score(X_train, y_train)))\n",
    "print(\"Test set score: {:.2f}\".format(lasso50.score(X_test, y_test)))\n",
    "print(\"Number of features used: {}\".format(np.sum(lasso50.coef_ != 0)))"
   ]
  },
  {
   "cell_type": "code",
   "execution_count": 300,
   "metadata": {
    "collapsed": false
   },
   "outputs": [
    {
     "name": "stdout",
     "output_type": "stream",
     "text": [
      "Training set score: 0.93\n",
      "Test set score: 0.71\n",
      "Number of features used: 104\n"
     ]
    }
   ],
   "source": [
    "# %load 198\n",
    "lasso100 = Lasso(alpha=100, max_iter=100000).fit(X_train,y_train)\n",
    "\n",
    "print(\"Training set score: {:.2f}\".format(lasso100.score(X_train, y_train)))\n",
    "print(\"Test set score: {:.2f}\".format(lasso100.score(X_test, y_test)))\n",
    "print(\"Number of features used: {}\".format(np.sum(lasso100.coef_ != 0)))"
   ]
  },
  {
   "cell_type": "code",
   "execution_count": 301,
   "metadata": {
    "collapsed": false
   },
   "outputs": [
    {
     "name": "stdout",
     "output_type": "stream",
     "text": [
      "Training set score: 0.87\n",
      "Test set score: 0.71\n",
      "Number of features used: 37\n"
     ]
    }
   ],
   "source": [
    "# %load 198\n",
    "lasso1000 = Lasso(alpha=1000, max_iter=1e5).fit(X_train,y_train)\n",
    "\n",
    "print(\"Training set score: {:.2f}\".format(lasso1000.score(X_train, y_train)))\n",
    "print(\"Test set score: {:.2f}\".format(lasso1000.score(X_test, y_test)))\n",
    "print(\"Number of features used: {}\".format(np.sum(lasso1000.coef_ != 0)))"
   ]
  },
  {
   "cell_type": "code",
   "execution_count": 303,
   "metadata": {
    "collapsed": false
   },
   "outputs": [
    {
     "data": {
      "text/plain": [
       "0.1666947932411208"
      ]
     },
     "execution_count": 303,
     "metadata": {},
     "output_type": "execute_result"
    }
   ],
   "source": [
    "rmsle(y_test,lasso100.predict(X_test))"
   ]
  },
  {
   "cell_type": "markdown",
   "metadata": {},
   "source": [
    "Lasso does worse than Ridge.  So, let's look at some other regression models.  Next, I'm going to explore Decision Trees."
   ]
  },
  {
   "cell_type": "code",
   "execution_count": 304,
   "metadata": {
    "collapsed": false
   },
   "outputs": [
    {
     "name": "stdout",
     "output_type": "stream",
     "text": [
      "Training set score: 1.00\n",
      "Test set score: 0.65\n"
     ]
    }
   ],
   "source": [
    "from sklearn.tree import DecisionTreeRegressor\n",
    "\n",
    "tree = DecisionTreeRegressor().fit(X_train, y_train)\n",
    "\n",
    "print(\"Training set score: {:.2f}\".format(tree.score(X_train, y_train)))\n",
    "print(\"Test set score: {:.2f}\".format(tree.score(X_test, y_test)))"
   ]
  },
  {
   "cell_type": "markdown",
   "metadata": {},
   "source": [
    "Cool!  We are getting a perfect fit on out training data, but a low R^2 score on our test data.  This is classic overfitting.  In order to improve on this, we will do some pre-pruning of our decision tree by setting either max_depth, max_leaf_nodes, or min_samples_leaf."
   ]
  },
  {
   "cell_type": "code",
   "execution_count": 305,
   "metadata": {
    "collapsed": false
   },
   "outputs": [
    {
     "name": "stdout",
     "output_type": "stream",
     "text": [
      "Training set score: 0.87\n",
      "Test set score: 0.81\n"
     ]
    }
   ],
   "source": [
    "tree_maxdep5 = DecisionTreeRegressor(max_depth=5).fit(X_train, y_train)\n",
    "\n",
    "print(\"Training set score: {:.2f}\".format(tree_maxdep5.score(X_train, y_train)))\n",
    "print(\"Test set score: {:.2f}\".format(tree_maxdep5.score(X_test, y_test)))"
   ]
  },
  {
   "cell_type": "code",
   "execution_count": 309,
   "metadata": {
    "collapsed": false
   },
   "outputs": [
    {
     "name": "stdout",
     "output_type": "stream",
     "text": [
      "Training set score: 0.91\n",
      "Test set score: 0.77\n"
     ]
    }
   ],
   "source": [
    "tree_maxdep6 = DecisionTreeRegressor(max_depth=6).fit(X_train, y_train)\n",
    "\n",
    "print(\"Training set score: {:.2f}\".format(tree_maxdep6.score(X_train, y_train)))\n",
    "print(\"Test set score: {:.2f}\".format(tree_maxdep6.score(X_test, y_test)))"
   ]
  },
  {
   "cell_type": "code",
   "execution_count": 308,
   "metadata": {
    "collapsed": false
   },
   "outputs": [
    {
     "name": "stdout",
     "output_type": "stream",
     "text": [
      "Training set score: 0.82\n",
      "Test set score: 0.74\n"
     ]
    }
   ],
   "source": [
    "tree_maxdep4 = DecisionTreeRegressor(max_depth=4).fit(X_train, y_train)\n",
    "\n",
    "print(\"Training set score: {:.2f}\".format(tree_maxdep4.score(X_train, y_train)))\n",
    "print(\"Test set score: {:.2f}\".format(tree_maxdep4.score(X_test, y_test)))"
   ]
  },
  {
   "cell_type": "markdown",
   "metadata": {},
   "source": [
    "Wow!  Decision trees are magical.  Without hardly doing any work, I'm getting a test score of 0.81 using a maximum tree depth of 5.  Out of interest, I'm going to plot the feature importances."
   ]
  },
  {
   "cell_type": "code",
   "execution_count": 335,
   "metadata": {
    "collapsed": false
   },
   "outputs": [
    {
     "data": {
      "image/png": "[encoded data removed]",
      "text/plain": [
       "<matplotlib.figure.Figure at 0x11e00e400>"
      ]
     },
     "metadata": {},
     "output_type": "display_data"
    }
   ],
   "source": [
    "import matplotlib.pyplot as plt\n",
    "\n",
    "def plot_feature_importances_houseprices(model):\n",
    "    n_features = X_train.shape[1]\n",
    "    feature_importance_array = model.feature_importances_\n",
    "    feature_importance_Series = pd.Series(feature_importance_array,index=X_train.columns)\n",
    "    feature_importance_Series.sort_values(ascending=False,inplace=True)\n",
    "    #plt.barh(range(n_features), model.feature_importances_,align='center')\n",
    "    plt.figure(figsize=(10,8))\n",
    "    feature_importance_Series[0:20].plot(kind='barh')\n",
    "    #plt.yticks(np.arange(n_features), X_train.columns)\n",
    "    plt.xlabel(\"Feature importance\")\n",
    "    plt.ylabel(\"Feature\")\n",
    "    plt.ylim(-1,20)\n",
    "    \n",
    "plot_feature_importances_houseprices(tree_maxdep5)\n",
    "plt.show()"
   ]
  },
  {
   "cell_type": "markdown",
   "metadata": {},
   "source": [
    "This plot clearly shows that there are only about 10 features that have significant importance.  I'm surprised how 'OverallQual' dominates in feature importance."
   ]
  },
  {
   "cell_type": "code",
   "execution_count": 336,
   "metadata": {
    "collapsed": false
   },
   "outputs": [
    {
     "data": {
      "text/plain": [
       "0.17977583950478065"
      ]
     },
     "execution_count": 336,
     "metadata": {},
     "output_type": "execute_result"
    }
   ],
   "source": [
    "rmsle(y_test,tree_maxdep5.predict(X_test))"
   ]
  },
  {
   "cell_type": "markdown",
   "metadata": {},
   "source": [
    "Actually, the above RMSLE score is worse than the Ridge regression one.  Just to make sure, I will submit to the Kaggle competition website anyway."
   ]
  },
  {
   "cell_type": "code",
   "execution_count": 337,
   "metadata": {
    "collapsed": true
   },
   "outputs": [],
   "source": [
    "price_prediction_tree = tree_maxdep5.predict(test_df3)\n",
    "price_predict_tree_df = pd.DataFrame(price_prediction_tree,index=test_df3.index,columns=['SalePrice']) "
   ]
  },
  {
   "cell_type": "code",
   "execution_count": 339,
   "metadata": {
    "collapsed": false
   },
   "outputs": [],
   "source": [
    "price_predict_tree_df.to_csv('house_price_submission_DecisionTree_maxdep5.csv')"
   ]
  },
  {
   "cell_type": "markdown",
   "metadata": {},
   "source": [
    "Something I'm curious about is whether or not I can just keep the top 20 features with respect to feature_importance and observe similar test scores.  So, let's give it a try."
   ]
  },
  {
   "cell_type": "code",
   "execution_count": 340,
   "metadata": {
    "collapsed": false
   },
   "outputs": [
    {
     "name": "stdout",
     "output_type": "stream",
     "text": [
      "Variable                               Type                     Data/Info\n",
      "-------------------------------------------------------------------------\n",
      "DecisionTreeRegressor                  ABCMeta                  <class 'sklearn.tree.tree.DecisionTreeRegressor'>\n",
      "Lasso                                  ABCMeta                  <class 'sklearn.linear_mo<...>oordinate_descent.Lasso'>\n",
      "Ridge                                  ABCMeta                  <class 'sklearn.linear_model.ridge.Ridge'>\n",
      "X                                      DataFrame                      MSSubClass  LotArea<...>[1460 rows x 278 columns]\n",
      "X_test                                 DataFrame                      MSSubClass  LotArea<...>n[365 rows x 278 columns]\n",
      "X_train                                DataFrame                      MSSubClass  LotArea<...>[1095 rows x 278 columns]\n",
      "basement_bath_cols                     list                     n=2\n",
      "basementsf_cols                        list                     n=4\n",
      "cat_imputation                         function                 <function cat_imputation at 0x1159372f0>\n",
      "cat_impute_most_common                 function                 <function cat_impute_most_common at 0x115937268>\n",
      "col                                    str                      BsmtHalfBath\n",
      "cols                                   str                      Functional\n",
      "column_names                           Index                    Index(['MSSubClass', 'Lot<...>ype='object', length=278)\n",
      "feature_importance_Series              Series                   MSSubClass               <...>ngth: 278, dtype: float64\n",
      "feature_importance_array               ndarray                  278: 278 elems, type `float64`, 2224 bytes\n",
      "house_df                               DataFrame                      MSSubClass MSZoning<...>n[1460 rows x 80 columns]\n",
      "house_df2                              DataFrame                      MSSubClass MSZoning<...>n[1460 rows x 74 columns]\n",
      "house_df3                              DataFrame                      MSSubClass MSZoning<...>n[1460 rows x 74 columns]\n",
      "house_df4                              DataFrame                      MSSubClass  LotArea<...>[1460 rows x 279 columns]\n",
      "house_price_prediction                 ndarray                  1459: 1459 elems, type `float64`, 11672 bytes\n",
      "house_price_prediction_Series          Series                   Id\\n1461    102220.163108<...>gth: 1459, dtype: float64\n",
      "lasso                                  Lasso                    Lasso(alpha=1.0, copy_X=T<...>0.0001, warm_start=False)\n",
      "lasso10                                Lasso                    Lasso(alpha=10, copy_X=Tr<...>0.0001, warm_start=False)\n",
      "lasso100                               Lasso                    Lasso(alpha=100, copy_X=T<...>0.0001, warm_start=False)\n",
      "lasso1000                              Lasso                    Lasso(alpha=1000, copy_X=<...>0.0001, warm_start=False)\n",
      "lasso20                                Lasso                    Lasso(alpha=20, copy_X=Tr<...>0.0001, warm_start=False)\n",
      "lasso5                                 Lasso                    Lasso(alpha=5, copy_X=Tru<...>0.0001, warm_start=False)\n",
      "lasso50                                Lasso                    Lasso(alpha=50, copy_X=Tr<...>0.0001, warm_start=False)\n",
      "linridge                               Ridge                    Ridge(alpha=1.0, copy_X=T<...>solver='auto', tol=0.001)\n",
      "linridge10                             Ridge                    Ridge(alpha=10, copy_X=Tr<...>solver='auto', tol=0.001)\n",
      "linridge100                            Ridge                    Ridge(alpha=100, copy_X=T<...>solver='auto', tol=0.001)\n",
      "linridge20                             Ridge                    Ridge(alpha=20, copy_X=Tr<...>solver='auto', tol=0.001)\n",
      "linridge5                              Ridge                    Ridge(alpha=5, copy_X=Tru<...>solver='auto', tol=0.001)\n",
      "linridge50                             Ridge                    Ridge(alpha=50, copy_X=Tr<...>solver='auto', tol=0.001)\n",
      "math                                   module                   <module 'math' from '/Use<...>h.cpython-36m-darwin.so'>\n",
      "mean_squared_error                     function                 <function mean_squared_error at 0x114b1c950>\n",
      "np                                     module                   <module 'numpy' from '/Us<...>kages/numpy/__init__.py'>\n",
      "null_features                          Series                   Id               1459\\nMS<...>ion       0\\ndtype: int64\n",
      "pd                                     module                   <module 'pandas' from '/U<...>ages/pandas/__init__.py'>\n",
      "plot_feature_importances_houseprices   function                 <function plot_feature_im<...>useprices at 0x11dfe32f0>\n",
      "plt                                    module                   <module 'matplotlib.pyplo<...>es/matplotlib/pyplot.py'>\n",
      "price_predictS                         Series                   Id\\n1461    102220.163108<...>gth: 1459, dtype: float64\n",
      "price_predict_df                       DataFrame                          SalePrice\\nId  <...>\\n[1459 rows x 1 columns]\n",
      "price_predict_tree_df                  DataFrame                          SalePrice\\nId  <...>\\n[1459 rows x 1 columns]\n",
      "price_prediction_tree                  ndarray                  1459: 1459 elems, type `float64`, 11672 bytes\n",
      "replace_nans                           function                 <function replace_nans at 0x1159378c8>\n",
      "rmsle                                  function                 <function rmsle at 0x115937d08>\n",
      "show_missing                           function                 <function show_missing at 0x115937620>\n",
      "sp                                     module                   <module 'scipy' from '/Us<...>kages/scipy/__init__.py'>\n",
      "test_df                                DataFrame                      MSSubClass MSZoning<...>n[1459 rows x 73 columns]\n",
      "test_df2                               DataFrame                      MSSubClass MSZoning<...>n[1459 rows x 73 columns]\n",
      "test_df3                               DataFrame                      MSSubClass  LotArea<...>[1459 rows x 278 columns]\n",
      "train_test_split                       function                 <function train_test_split at 0x113f838c8>\n",
      "tree                                   DecisionTreeRegressor    DecisionTreeRegressor(cri<...>te=None, splitter='best')\n",
      "tree_maxdep4                           DecisionTreeRegressor    DecisionTreeRegressor(cri<...>te=None, splitter='best')\n",
      "tree_maxdep5                           DecisionTreeRegressor    DecisionTreeRegressor(cri<...>te=None, splitter='best')\n",
      "tree_maxdep6                           DecisionTreeRegressor    DecisionTreeRegressor(cri<...>te=None, splitter='best')\n",
      "tree_maxdep7                           DecisionTreeRegressor    DecisionTreeRegressor(cri<...>te=None, splitter='best')\n",
      "y                                      Series                   Id\\n1       208500\\n2    <...>ength: 1460, dtype: int64\n",
      "y_test                                 Series                   Id\\n530     200624\\n492  <...>Length: 365, dtype: int64\n",
      "y_train                                Series                   Id\\n1293    107500\\n1019 <...>ength: 1095, dtype: int64\n"
     ]
    }
   ],
   "source": [
    "whos"
   ]
  },
  {
   "cell_type": "code",
   "execution_count": 345,
   "metadata": {
    "collapsed": false
   },
   "outputs": [
    {
     "data": {
      "text/plain": [
       "Index(['OverallQual', 'GrLivArea', '2ndFlrSF', 'TotalBsmtSF', 'BsmtFinSF1',\n",
       "       '1stFlrSF', 'CentralAir_N', 'Neighborhood_Edwards', 'WoodDeckSF',\n",
       "       'GarageYrBlt'],\n",
       "      dtype='object')"
      ]
     },
     "execution_count": 345,
     "metadata": {},
     "output_type": "execute_result"
    }
   ],
   "source": [
    "feature_importance_Series.sort_values(ascending=False,inplace=True)\n",
    "feature_importance_Series[:10].index"
   ]
  },
  {
   "cell_type": "code",
   "execution_count": 349,
   "metadata": {
    "collapsed": true
   },
   "outputs": [],
   "source": [
    "house_df_select = house_df4.reindex(columns=feature_importance_Series[:20].index)"
   ]
  },
  {
   "cell_type": "code",
   "execution_count": 350,
   "metadata": {
    "collapsed": false
   },
   "outputs": [
    {
     "data": {
      "text/html": [
       "<div>\n",
       "<style>\n",
       "    .dataframe thead tr:only-child th {\n",
       "        text-align: right;\n",
       "    }\n",
       "\n",
       "    .dataframe thead th {\n",
       "        text-align: left;\n",
       "    }\n",
       "\n",
       "    .dataframe tbody tr th {\n",
       "        vertical-align: top;\n",
       "    }\n",
       "</style>\n",
       "<table border=\"1\" class=\"dataframe\">\n",
       "  <thead>\n",
       "    <tr style=\"text-align: right;\">\n",
       "      <th></th>\n",
       "      <th>OverallQual</th>\n",
       "      <th>GrLivArea</th>\n",
       "      <th>2ndFlrSF</th>\n",
       "      <th>TotalBsmtSF</th>\n",
       "      <th>BsmtFinSF1</th>\n",
       "      <th>1stFlrSF</th>\n",
       "      <th>CentralAir_N</th>\n",
       "      <th>Neighborhood_Edwards</th>\n",
       "      <th>WoodDeckSF</th>\n",
       "      <th>GarageYrBlt</th>\n",
       "      <th>LandContour_Bnk</th>\n",
       "      <th>BsmtExposure_No</th>\n",
       "      <th>KitchenQual_Ex</th>\n",
       "      <th>GarageType_Attchd</th>\n",
       "      <th>OverallCond</th>\n",
       "      <th>Condition1_PosN</th>\n",
       "      <th>Condition1_RRAn</th>\n",
       "      <th>Condition1_RRNe</th>\n",
       "      <th>Condition1_RRNn</th>\n",
       "      <th>Condition2_PosA</th>\n",
       "    </tr>\n",
       "    <tr>\n",
       "      <th>Id</th>\n",
       "      <th></th>\n",
       "      <th></th>\n",
       "      <th></th>\n",
       "      <th></th>\n",
       "      <th></th>\n",
       "      <th></th>\n",
       "      <th></th>\n",
       "      <th></th>\n",
       "      <th></th>\n",
       "      <th></th>\n",
       "      <th></th>\n",
       "      <th></th>\n",
       "      <th></th>\n",
       "      <th></th>\n",
       "      <th></th>\n",
       "      <th></th>\n",
       "      <th></th>\n",
       "      <th></th>\n",
       "      <th></th>\n",
       "      <th></th>\n",
       "    </tr>\n",
       "  </thead>\n",
       "  <tbody>\n",
       "    <tr>\n",
       "      <th>1</th>\n",
       "      <td>7</td>\n",
       "      <td>1710</td>\n",
       "      <td>854</td>\n",
       "      <td>856</td>\n",
       "      <td>706</td>\n",
       "      <td>856</td>\n",
       "      <td>0</td>\n",
       "      <td>0</td>\n",
       "      <td>0</td>\n",
       "      <td>2003.0</td>\n",
       "      <td>0</td>\n",
       "      <td>1</td>\n",
       "      <td>0</td>\n",
       "      <td>1</td>\n",
       "      <td>5</td>\n",
       "      <td>0</td>\n",
       "      <td>0</td>\n",
       "      <td>0</td>\n",
       "      <td>0</td>\n",
       "      <td>0</td>\n",
       "    </tr>\n",
       "    <tr>\n",
       "      <th>2</th>\n",
       "      <td>6</td>\n",
       "      <td>1262</td>\n",
       "      <td>0</td>\n",
       "      <td>1262</td>\n",
       "      <td>978</td>\n",
       "      <td>1262</td>\n",
       "      <td>0</td>\n",
       "      <td>0</td>\n",
       "      <td>298</td>\n",
       "      <td>1976.0</td>\n",
       "      <td>0</td>\n",
       "      <td>0</td>\n",
       "      <td>0</td>\n",
       "      <td>1</td>\n",
       "      <td>8</td>\n",
       "      <td>0</td>\n",
       "      <td>0</td>\n",
       "      <td>0</td>\n",
       "      <td>0</td>\n",
       "      <td>0</td>\n",
       "    </tr>\n",
       "    <tr>\n",
       "      <th>3</th>\n",
       "      <td>7</td>\n",
       "      <td>1786</td>\n",
       "      <td>866</td>\n",
       "      <td>920</td>\n",
       "      <td>486</td>\n",
       "      <td>920</td>\n",
       "      <td>0</td>\n",
       "      <td>0</td>\n",
       "      <td>0</td>\n",
       "      <td>2001.0</td>\n",
       "      <td>0</td>\n",
       "      <td>0</td>\n",
       "      <td>0</td>\n",
       "      <td>1</td>\n",
       "      <td>5</td>\n",
       "      <td>0</td>\n",
       "      <td>0</td>\n",
       "      <td>0</td>\n",
       "      <td>0</td>\n",
       "      <td>0</td>\n",
       "    </tr>\n",
       "    <tr>\n",
       "      <th>4</th>\n",
       "      <td>7</td>\n",
       "      <td>1717</td>\n",
       "      <td>756</td>\n",
       "      <td>756</td>\n",
       "      <td>216</td>\n",
       "      <td>961</td>\n",
       "      <td>0</td>\n",
       "      <td>0</td>\n",
       "      <td>0</td>\n",
       "      <td>1998.0</td>\n",
       "      <td>0</td>\n",
       "      <td>1</td>\n",
       "      <td>0</td>\n",
       "      <td>0</td>\n",
       "      <td>5</td>\n",
       "      <td>0</td>\n",
       "      <td>0</td>\n",
       "      <td>0</td>\n",
       "      <td>0</td>\n",
       "      <td>0</td>\n",
       "    </tr>\n",
       "    <tr>\n",
       "      <th>5</th>\n",
       "      <td>8</td>\n",
       "      <td>2198</td>\n",
       "      <td>1053</td>\n",
       "      <td>1145</td>\n",
       "      <td>655</td>\n",
       "      <td>1145</td>\n",
       "      <td>0</td>\n",
       "      <td>0</td>\n",
       "      <td>192</td>\n",
       "      <td>2000.0</td>\n",
       "      <td>0</td>\n",
       "      <td>0</td>\n",
       "      <td>0</td>\n",
       "      <td>1</td>\n",
       "      <td>5</td>\n",
       "      <td>0</td>\n",
       "      <td>0</td>\n",
       "      <td>0</td>\n",
       "      <td>0</td>\n",
       "      <td>0</td>\n",
       "    </tr>\n",
       "  </tbody>\n",
       "</table>\n",
       "</div>"
      ],
      "text/plain": [
       "    OverallQual  GrLivArea  2ndFlrSF  TotalBsmtSF  BsmtFinSF1  1stFlrSF  \\\n",
       "Id                                                                        \n",
       "1             7       1710       854          856         706       856   \n",
       "2             6       1262         0         1262         978      1262   \n",
       "3             7       1786       866          920         486       920   \n",
       "4             7       1717       756          756         216       961   \n",
       "5             8       2198      1053         1145         655      1145   \n",
       "\n",
       "    CentralAir_N  Neighborhood_Edwards  WoodDeckSF  GarageYrBlt  \\\n",
       "Id                                                                \n",
       "1              0                     0           0       2003.0   \n",
       "2              0                     0         298       1976.0   \n",
       "3              0                     0           0       2001.0   \n",
       "4              0                     0           0       1998.0   \n",
       "5              0                     0         192       2000.0   \n",
       "\n",
       "    LandContour_Bnk  BsmtExposure_No  KitchenQual_Ex  GarageType_Attchd  \\\n",
       "Id                                                                        \n",
       "1                 0                1               0                  1   \n",
       "2                 0                0               0                  1   \n",
       "3                 0                0               0                  1   \n",
       "4                 0                1               0                  0   \n",
       "5                 0                0               0                  1   \n",
       "\n",
       "    OverallCond  Condition1_PosN  Condition1_RRAn  Condition1_RRNe  \\\n",
       "Id                                                                   \n",
       "1             5                0                0                0   \n",
       "2             8                0                0                0   \n",
       "3             5                0                0                0   \n",
       "4             5                0                0                0   \n",
       "5             5                0                0                0   \n",
       "\n",
       "    Condition1_RRNn  Condition2_PosA  \n",
       "Id                                    \n",
       "1                 0                0  \n",
       "2                 0                0  \n",
       "3                 0                0  \n",
       "4                 0                0  \n",
       "5                 0                0  "
      ]
     },
     "execution_count": 350,
     "metadata": {},
     "output_type": "execute_result"
    }
   ],
   "source": [
    "house_df_select.head()"
   ]
  },
  {
   "cell_type": "code",
   "execution_count": 354,
   "metadata": {
    "collapsed": false
   },
   "outputs": [
    {
     "data": {
      "text/plain": [
       "(1460, 20)"
      ]
     },
     "execution_count": 354,
     "metadata": {},
     "output_type": "execute_result"
    }
   ],
   "source": [
    "y = house_df4['SalePrice']  # setting y to be the target value (e.g., 'SalePrice')\n",
    "X = house_df_select # setting X to be everything but the target value\n",
    "X.shape"
   ]
  },
  {
   "cell_type": "markdown",
   "metadata": {},
   "source": [
    "X now only contains 20 features"
   ]
  },
  {
   "cell_type": "code",
   "execution_count": 355,
   "metadata": {
    "collapsed": true
   },
   "outputs": [],
   "source": [
    "X_train, X_test, y_train, y_test = train_test_split(X,y,random_state=0)"
   ]
  },
  {
   "cell_type": "markdown",
   "metadata": {},
   "source": [
    "Now we'll test out the Decision Tree Regression score on the dataset with 20 features only."
   ]
  },
  {
   "cell_type": "code",
   "execution_count": 356,
   "metadata": {
    "collapsed": false
   },
   "outputs": [
    {
     "name": "stdout",
     "output_type": "stream",
     "text": [
      "Training set score: 0.87\n",
      "Test set score: 0.78\n"
     ]
    }
   ],
   "source": [
    "tree_maxdep5_20feat = DecisionTreeRegressor(max_depth=5).fit(X_train, y_train)\n",
    "\n",
    "print(\"Training set score: {:.2f}\".format(tree_maxdep5_20feat.score(X_train, y_train)))\n",
    "print(\"Test set score: {:.2f}\".format(tree_maxdep5_20feat.score(X_test, y_test)))"
   ]
  },
  {
   "cell_type": "code",
   "execution_count": 357,
   "metadata": {
    "collapsed": false
   },
   "outputs": [
    {
     "name": "stdout",
     "output_type": "stream",
     "text": [
      "Training set score: 0.91\n",
      "Test set score: 0.78\n"
     ]
    }
   ],
   "source": [
    "tree_maxdep6_20feat = DecisionTreeRegressor(max_depth=6).fit(X_train, y_train)\n",
    "\n",
    "print(\"Training set score: {:.2f}\".format(tree_maxdep6_20feat.score(X_train, y_train)))\n",
    "print(\"Test set score: {:.2f}\".format(tree_maxdep6_20feat.score(X_test, y_test)))"
   ]
  },
  {
   "cell_type": "code",
   "execution_count": 359,
   "metadata": {
    "collapsed": false
   },
   "outputs": [
    {
     "name": "stdout",
     "output_type": "stream",
     "text": [
      "Training set score: 0.82\n",
      "Test set score: 0.78\n"
     ]
    }
   ],
   "source": [
    "tree_maxdep4_20feat = DecisionTreeRegressor(max_depth=4).fit(X_train, y_train)\n",
    "\n",
    "print(\"Training set score: {:.2f}\".format(tree_maxdep4_20feat.score(X_train, y_train)))\n",
    "print(\"Test set score: {:.2f}\".format(tree_maxdep4_20feat.score(X_test, y_test)))"
   ]
  },
  {
   "cell_type": "code",
   "execution_count": 361,
   "metadata": {
    "collapsed": false
   },
   "outputs": [
    {
     "name": "stdout",
     "output_type": "stream",
     "text": [
      "Training set score: 0.74\n",
      "Test set score: 0.74\n"
     ]
    }
   ],
   "source": [
    "tree_maxdep3_20feat = DecisionTreeRegressor(max_depth=3).fit(X_train, y_train)\n",
    "\n",
    "print(\"Training set score: {:.2f}\".format(tree_maxdep3_20feat.score(X_train, y_train)))\n",
    "print(\"Test set score: {:.2f}\".format(tree_maxdep3_20feat.score(X_test, y_test)))"
   ]
  },
  {
   "cell_type": "code",
   "execution_count": 365,
   "metadata": {
    "collapsed": false
   },
   "outputs": [
    {
     "data": {
      "text/plain": [
       "0.18778279547355442"
      ]
     },
     "execution_count": 365,
     "metadata": {},
     "output_type": "execute_result"
    }
   ],
   "source": [
    "rmsle(y_test,tree_maxdep5_20feat.predict(X_test))"
   ]
  },
  {
   "cell_type": "markdown",
   "metadata": {},
   "source": [
    "Now we will select the top 20 features for the test data so that we can make a prediction on this data using the previous models"
   ]
  },
  {
   "cell_type": "code",
   "execution_count": 366,
   "metadata": {
    "collapsed": true
   },
   "outputs": [],
   "source": [
    "test_df_select = test_df3.reindex(columns=feature_importance_Series[:20].index)"
   ]
  },
  {
   "cell_type": "code",
   "execution_count": 367,
   "metadata": {
    "collapsed": false
   },
   "outputs": [
    {
     "data": {
      "text/html": [
       "<div>\n",
       "<style>\n",
       "    .dataframe thead tr:only-child th {\n",
       "        text-align: right;\n",
       "    }\n",
       "\n",
       "    .dataframe thead th {\n",
       "        text-align: left;\n",
       "    }\n",
       "\n",
       "    .dataframe tbody tr th {\n",
       "        vertical-align: top;\n",
       "    }\n",
       "</style>\n",
       "<table border=\"1\" class=\"dataframe\">\n",
       "  <thead>\n",
       "    <tr style=\"text-align: right;\">\n",
       "      <th></th>\n",
       "      <th>OverallQual</th>\n",
       "      <th>GrLivArea</th>\n",
       "      <th>2ndFlrSF</th>\n",
       "      <th>TotalBsmtSF</th>\n",
       "      <th>BsmtFinSF1</th>\n",
       "      <th>1stFlrSF</th>\n",
       "      <th>CentralAir_N</th>\n",
       "      <th>Neighborhood_Edwards</th>\n",
       "      <th>WoodDeckSF</th>\n",
       "      <th>GarageYrBlt</th>\n",
       "      <th>LandContour_Bnk</th>\n",
       "      <th>BsmtExposure_No</th>\n",
       "      <th>KitchenQual_Ex</th>\n",
       "      <th>GarageType_Attchd</th>\n",
       "      <th>OverallCond</th>\n",
       "      <th>Condition1_PosN</th>\n",
       "      <th>Condition1_RRAn</th>\n",
       "      <th>Condition1_RRNe</th>\n",
       "      <th>Condition1_RRNn</th>\n",
       "      <th>Condition2_PosA</th>\n",
       "    </tr>\n",
       "    <tr>\n",
       "      <th>Id</th>\n",
       "      <th></th>\n",
       "      <th></th>\n",
       "      <th></th>\n",
       "      <th></th>\n",
       "      <th></th>\n",
       "      <th></th>\n",
       "      <th></th>\n",
       "      <th></th>\n",
       "      <th></th>\n",
       "      <th></th>\n",
       "      <th></th>\n",
       "      <th></th>\n",
       "      <th></th>\n",
       "      <th></th>\n",
       "      <th></th>\n",
       "      <th></th>\n",
       "      <th></th>\n",
       "      <th></th>\n",
       "      <th></th>\n",
       "      <th></th>\n",
       "    </tr>\n",
       "  </thead>\n",
       "  <tbody>\n",
       "    <tr>\n",
       "      <th>1461</th>\n",
       "      <td>5</td>\n",
       "      <td>896</td>\n",
       "      <td>0</td>\n",
       "      <td>882.0</td>\n",
       "      <td>468.0</td>\n",
       "      <td>896</td>\n",
       "      <td>0</td>\n",
       "      <td>0</td>\n",
       "      <td>140</td>\n",
       "      <td>1961.0</td>\n",
       "      <td>0</td>\n",
       "      <td>1</td>\n",
       "      <td>0</td>\n",
       "      <td>1</td>\n",
       "      <td>6</td>\n",
       "      <td>0</td>\n",
       "      <td>0</td>\n",
       "      <td>0</td>\n",
       "      <td>0</td>\n",
       "      <td>0</td>\n",
       "    </tr>\n",
       "    <tr>\n",
       "      <th>1462</th>\n",
       "      <td>6</td>\n",
       "      <td>1329</td>\n",
       "      <td>0</td>\n",
       "      <td>1329.0</td>\n",
       "      <td>923.0</td>\n",
       "      <td>1329</td>\n",
       "      <td>0</td>\n",
       "      <td>0</td>\n",
       "      <td>393</td>\n",
       "      <td>1958.0</td>\n",
       "      <td>0</td>\n",
       "      <td>1</td>\n",
       "      <td>0</td>\n",
       "      <td>1</td>\n",
       "      <td>6</td>\n",
       "      <td>0</td>\n",
       "      <td>0</td>\n",
       "      <td>0</td>\n",
       "      <td>0</td>\n",
       "      <td>0</td>\n",
       "    </tr>\n",
       "    <tr>\n",
       "      <th>1463</th>\n",
       "      <td>5</td>\n",
       "      <td>1629</td>\n",
       "      <td>701</td>\n",
       "      <td>928.0</td>\n",
       "      <td>791.0</td>\n",
       "      <td>928</td>\n",
       "      <td>0</td>\n",
       "      <td>0</td>\n",
       "      <td>212</td>\n",
       "      <td>1997.0</td>\n",
       "      <td>0</td>\n",
       "      <td>1</td>\n",
       "      <td>0</td>\n",
       "      <td>1</td>\n",
       "      <td>5</td>\n",
       "      <td>0</td>\n",
       "      <td>0</td>\n",
       "      <td>0</td>\n",
       "      <td>0</td>\n",
       "      <td>0</td>\n",
       "    </tr>\n",
       "    <tr>\n",
       "      <th>1464</th>\n",
       "      <td>6</td>\n",
       "      <td>1604</td>\n",
       "      <td>678</td>\n",
       "      <td>926.0</td>\n",
       "      <td>602.0</td>\n",
       "      <td>926</td>\n",
       "      <td>0</td>\n",
       "      <td>0</td>\n",
       "      <td>360</td>\n",
       "      <td>1998.0</td>\n",
       "      <td>0</td>\n",
       "      <td>1</td>\n",
       "      <td>0</td>\n",
       "      <td>1</td>\n",
       "      <td>6</td>\n",
       "      <td>0</td>\n",
       "      <td>0</td>\n",
       "      <td>0</td>\n",
       "      <td>0</td>\n",
       "      <td>0</td>\n",
       "    </tr>\n",
       "    <tr>\n",
       "      <th>1465</th>\n",
       "      <td>8</td>\n",
       "      <td>1280</td>\n",
       "      <td>0</td>\n",
       "      <td>1280.0</td>\n",
       "      <td>263.0</td>\n",
       "      <td>1280</td>\n",
       "      <td>0</td>\n",
       "      <td>0</td>\n",
       "      <td>0</td>\n",
       "      <td>1992.0</td>\n",
       "      <td>0</td>\n",
       "      <td>1</td>\n",
       "      <td>0</td>\n",
       "      <td>1</td>\n",
       "      <td>5</td>\n",
       "      <td>0</td>\n",
       "      <td>0</td>\n",
       "      <td>0</td>\n",
       "      <td>0</td>\n",
       "      <td>0</td>\n",
       "    </tr>\n",
       "  </tbody>\n",
       "</table>\n",
       "</div>"
      ],
      "text/plain": [
       "      OverallQual  GrLivArea  2ndFlrSF  TotalBsmtSF  BsmtFinSF1  1stFlrSF  \\\n",
       "Id                                                                          \n",
       "1461            5        896         0        882.0       468.0       896   \n",
       "1462            6       1329         0       1329.0       923.0      1329   \n",
       "1463            5       1629       701        928.0       791.0       928   \n",
       "1464            6       1604       678        926.0       602.0       926   \n",
       "1465            8       1280         0       1280.0       263.0      1280   \n",
       "\n",
       "      CentralAir_N  Neighborhood_Edwards  WoodDeckSF  GarageYrBlt  \\\n",
       "Id                                                                  \n",
       "1461             0                     0         140       1961.0   \n",
       "1462             0                     0         393       1958.0   \n",
       "1463             0                     0         212       1997.0   \n",
       "1464             0                     0         360       1998.0   \n",
       "1465             0                     0           0       1992.0   \n",
       "\n",
       "      LandContour_Bnk  BsmtExposure_No  KitchenQual_Ex  GarageType_Attchd  \\\n",
       "Id                                                                          \n",
       "1461                0                1               0                  1   \n",
       "1462                0                1               0                  1   \n",
       "1463                0                1               0                  1   \n",
       "1464                0                1               0                  1   \n",
       "1465                0                1               0                  1   \n",
       "\n",
       "      OverallCond  Condition1_PosN  Condition1_RRAn  Condition1_RRNe  \\\n",
       "Id                                                                     \n",
       "1461            6                0                0                0   \n",
       "1462            6                0                0                0   \n",
       "1463            5                0                0                0   \n",
       "1464            6                0                0                0   \n",
       "1465            5                0                0                0   \n",
       "\n",
       "      Condition1_RRNn  Condition2_PosA  \n",
       "Id                                      \n",
       "1461                0                0  \n",
       "1462                0                0  \n",
       "1463                0                0  \n",
       "1464                0                0  \n",
       "1465                0                0  "
      ]
     },
     "execution_count": 367,
     "metadata": {},
     "output_type": "execute_result"
    }
   ],
   "source": [
    "test_df_select.head()"
   ]
  },
  {
   "cell_type": "code",
   "execution_count": 369,
   "metadata": {
    "collapsed": false
   },
   "outputs": [],
   "source": [
    "price_prediction_tree_20feat = tree_maxdep5_20feat.predict(test_df_select)\n",
    "price_predict_tree_df = pd.DataFrame(price_prediction_tree_20feat,index=test_df_select.index,columns=['SalePrice']) \n",
    "price_predict_tree_df.to_csv('house_price_submission_DecisionTree_maxdep5_20feat.csv')"
   ]
  },
  {
   "cell_type": "markdown",
   "metadata": {},
   "source": [
    "Now I want to try out using the Random Forest model."
   ]
  },
  {
   "cell_type": "code",
   "execution_count": 372,
   "metadata": {
    "collapsed": true
   },
   "outputs": [],
   "source": [
    "from sklearn.ensemble import RandomForestRegressor"
   ]
  },
  {
   "cell_type": "code",
   "execution_count": 371,
   "metadata": {
    "collapsed": true
   },
   "outputs": [],
   "source": [
    "#loading the original data set with all features\n",
    "y = house_df4['SalePrice']  # setting y to be the target value (e.g., 'SalePrice')\n",
    "X = house_df4.drop('SalePrice',axis=1) # setting X to be everything but the target value\n",
    "X_train, X_test, y_train, y_test = train_test_split(X,y,random_state=0)"
   ]
  },
  {
   "cell_type": "code",
   "execution_count": 374,
   "metadata": {
    "collapsed": false
   },
   "outputs": [
    {
     "name": "stdout",
     "output_type": "stream",
     "text": [
      "Training set score: 0.96\n",
      "Test set score: 0.83\n"
     ]
    }
   ],
   "source": [
    "random_forest = RandomForestRegressor(n_estimators=10, random_state=0).fit(X_train,y_train)\n",
    "\n",
    "print(\"Training set score: {:.2f}\".format(random_forest.score(X_train, y_train)))\n",
    "print(\"Test set score: {:.2f}\".format(random_forest.score(X_test, y_test)))\n"
   ]
  },
  {
   "cell_type": "code",
   "execution_count": 375,
   "metadata": {
    "collapsed": false
   },
   "outputs": [
    {
     "name": "stdout",
     "output_type": "stream",
     "text": [
      "Training set score: 0.98\n",
      "Test set score: 0.83\n"
     ]
    }
   ],
   "source": [
    "random_forest_nest50 = RandomForestRegressor(n_estimators=50, random_state=0).fit(X_train,y_train)\n",
    "\n",
    "print(\"Training set score: {:.2f}\".format(random_forest_nest50.score(X_train, y_train)))\n",
    "print(\"Test set score: {:.2f}\".format(random_forest_nest50.score(X_test, y_test)))\n"
   ]
  },
  {
   "cell_type": "code",
   "execution_count": 376,
   "metadata": {
    "collapsed": false
   },
   "outputs": [
    {
     "name": "stdout",
     "output_type": "stream",
     "text": [
      "Training set score: 0.98\n",
      "Test set score: 0.84\n"
     ]
    }
   ],
   "source": [
    "random_forest_nest100 = RandomForestRegressor(n_estimators=100, random_state=0).fit(X_train,y_train)\n",
    "\n",
    "print(\"Training set score: {:.2f}\".format(random_forest_nest100.score(X_train, y_train)))\n",
    "print(\"Test set score: {:.2f}\".format(random_forest_nest100.score(X_test, y_test)))\n"
   ]
  },
  {
   "cell_type": "code",
   "execution_count": 377,
   "metadata": {
    "collapsed": false
   },
   "outputs": [
    {
     "name": "stdout",
     "output_type": "stream",
     "text": [
      "Training set score: 0.91\n",
      "Test set score: 0.83\n"
     ]
    }
   ],
   "source": [
    "random_forest_nest100_maxdep5 = RandomForestRegressor(n_estimators=100, random_state=0, max_depth=5).fit(X_train,y_train)\n",
    "\n",
    "print(\"Training set score: {:.2f}\".format(random_forest_nest100_maxdep5.score(X_train, y_train)))\n",
    "print(\"Test set score: {:.2f}\".format(random_forest_nest100_maxdep5.score(X_test, y_test)))\n"
   ]
  },
  {
   "cell_type": "code",
   "execution_count": 378,
   "metadata": {
    "collapsed": false
   },
   "outputs": [
    {
     "name": "stdout",
     "output_type": "stream",
     "text": [
      "Training set score: 0.87\n",
      "Test set score: 0.81\n"
     ]
    }
   ],
   "source": [
    "random_forest_nest100_maxdep4 = RandomForestRegressor(n_estimators=100, random_state=0, max_depth=4).fit(X_train,y_train)\n",
    "\n",
    "print(\"Training set score: {:.2f}\".format(random_forest_nest100_maxdep4.score(X_train, y_train)))\n",
    "print(\"Test set score: {:.2f}\".format(random_forest_nest100_maxdep4.score(X_test, y_test)))\n"
   ]
  },
  {
   "cell_type": "code",
   "execution_count": 379,
   "metadata": {
    "collapsed": false
   },
   "outputs": [
    {
     "name": "stdout",
     "output_type": "stream",
     "text": [
      "Training set score: 0.94\n",
      "Test set score: 0.84\n"
     ]
    }
   ],
   "source": [
    "random_forest_nest100_maxdep6 = RandomForestRegressor(n_estimators=100, random_state=0, max_depth=6).fit(X_train,y_train)\n",
    "\n",
    "print(\"Training set score: {:.2f}\".format(random_forest_nest100_maxdep6.score(X_train, y_train)))\n",
    "print(\"Test set score: {:.2f}\".format(random_forest_nest100_maxdep6.score(X_test, y_test)))"
   ]
  },
  {
   "cell_type": "code",
   "execution_count": 380,
   "metadata": {
    "collapsed": false
   },
   "outputs": [
    {
     "name": "stdout",
     "output_type": "stream",
     "text": [
      "Training set score: 0.96\n",
      "Test set score: 0.84\n"
     ]
    }
   ],
   "source": [
    "random_forest_nest100_maxdep7 = RandomForestRegressor(n_estimators=100, random_state=0, max_depth=7).fit(X_train,y_train)\n",
    "\n",
    "print(\"Training set score: {:.2f}\".format(random_forest_nest100_maxdep7.score(X_train, y_train)))\n",
    "print(\"Test set score: {:.2f}\".format(random_forest_nest100_maxdep7.score(X_test, y_test)))"
   ]
  },
  {
   "cell_type": "code",
   "execution_count": 386,
   "metadata": {
    "collapsed": false
   },
   "outputs": [
    {
     "name": "stdout",
     "output_type": "stream",
     "text": [
      "Training set score: 0.96\n",
      "Test set score: 0.84\n"
     ]
    }
   ],
   "source": [
    "random_forest_nest100_maxdep8 = RandomForestRegressor(n_estimators=100, random_state=0, max_depth=8).fit(X_train,y_train)\n",
    "\n",
    "print(\"Training set score: {:.2f}\".format(random_forest_nest100_maxdep8.score(X_train, y_train)))\n",
    "print(\"Test set score: {:.2f}\".format(random_forest_nest100_maxdep8.score(X_test, y_test)))"
   ]
  },
  {
   "cell_type": "code",
   "execution_count": 381,
   "metadata": {
    "collapsed": false
   },
   "outputs": [
    {
     "data": {
      "text/plain": [
       "0.13786424566639191"
      ]
     },
     "execution_count": 381,
     "metadata": {},
     "output_type": "execute_result"
    }
   ],
   "source": [
    "rmsle(y_test,random_forest_nest100.predict(X_test))"
   ]
  },
  {
   "cell_type": "markdown",
   "metadata": {},
   "source": [
    "This is our best score so far!  Let's submit to the Kaggle site."
   ]
  },
  {
   "cell_type": "code",
   "execution_count": 382,
   "metadata": {
    "collapsed": true
   },
   "outputs": [],
   "source": [
    "price_prediction_random_forest_nest100 = random_forest_nest100.predict(test_df3)\n",
    "price_predict_random_forest_nest100_df = pd.DataFrame(price_prediction_random_forest_nest100,index=test_df3.index,columns=['SalePrice']) \n",
    "price_predict_random_forest_nest100_df.to_csv('house_price_submission_RandomForest_nestimator100.csv')"
   ]
  },
  {
   "cell_type": "code",
   "execution_count": 387,
   "metadata": {
    "collapsed": false
   },
   "outputs": [
    {
     "data": {
      "text/plain": [
       "0.13889869674098937"
      ]
     },
     "execution_count": 387,
     "metadata": {},
     "output_type": "execute_result"
    }
   ],
   "source": [
    "rmsle(y_test,random_forest_nest100_maxdep8.predict(X_test))"
   ]
  },
  {
   "cell_type": "code",
   "execution_count": 388,
   "metadata": {
    "collapsed": true
   },
   "outputs": [],
   "source": [
    "price_prediction_random_forest_nest100_maxdep8 = random_forest_nest100_maxdep8.predict(test_df3)\n",
    "price_predict_random_forest_nest100_maxdep8_df = pd.DataFrame(price_prediction_random_forest_nest100_maxdep8,index=test_df3.index,columns=['SalePrice']) \n",
    "price_predict_random_forest_nest100_maxdep8_df.to_csv('house_price_submission_RandomForest_nestimator100_maxdepth8.csv')"
   ]
  },
  {
   "cell_type": "code",
   "execution_count": 389,
   "metadata": {
    "collapsed": false
   },
   "outputs": [
    {
     "name": "stdout",
     "output_type": "stream",
     "text": [
      "Training set score: 0.98\n",
      "Test set score: 0.84\n"
     ]
    }
   ],
   "source": [
    "random_forest_nest200 = RandomForestRegressor(n_estimators=200, random_state=0).fit(X_train,y_train)\n",
    "\n",
    "print(\"Training set score: {:.2f}\".format(random_forest_nest200.score(X_train, y_train)))\n",
    "print(\"Test set score: {:.2f}\".format(random_forest_nest200.score(X_test, y_test)))\n"
   ]
  },
  {
   "cell_type": "code",
   "execution_count": 391,
   "metadata": {
    "collapsed": false
   },
   "outputs": [
    {
     "data": {
      "text/plain": [
       "0.1369750367738588"
      ]
     },
     "execution_count": 391,
     "metadata": {},
     "output_type": "execute_result"
    }
   ],
   "source": [
    "# %load 381\n",
    "rmsle(y_test,random_forest_nest200.predict(X_test))"
   ]
  },
  {
   "cell_type": "code",
   "execution_count": 392,
   "metadata": {
    "collapsed": true
   },
   "outputs": [],
   "source": [
    "price_prediction_random_forest_nest200 = random_forest_nest200.predict(test_df3)\n",
    "price_predict_random_forest_nest200_df = pd.DataFrame(price_prediction_random_forest_nest200,index=test_df3.index,columns=['SalePrice']) \n",
    "price_predict_random_forest_nest200_df.to_csv('house_price_submission_RandomForest_nestimator200.csv')"
   ]
  },
  {
   "cell_type": "markdown",
   "metadata": {},
   "source": [
    "After submitting my results to the Kaggle site, the Random Forest model did slightly worse than the Ridge regression model.  I'm actually a bit surprised by this since the RMSLE score that I calculated on the test data was better for the Random Forest model.  The next model I'd like to try is Gradient boosted trees.  After completing that, I want to try to scale my data for the Ridge model, since I forgot to do that before."
   ]
  },
  {
   "cell_type": "code",
   "execution_count": 393,
   "metadata": {
    "collapsed": false
   },
   "outputs": [
    {
     "name": "stdout",
     "output_type": "stream",
     "text": [
      "Training set score: 0.72\n",
      "Test set score: 0.67\n"
     ]
    }
   ],
   "source": [
    "from sklearn.ensemble import GradientBoostingRegressor\n",
    "\n",
    "grad_boost = GradientBoostingRegressor(learning_rate=0.1, n_estimators=10, random_state=0).fit(X_train,y_train)\n",
    "\n",
    "print(\"Training set score: {:.2f}\".format(grad_boost.score(X_train, y_train)))\n",
    "print(\"Test set score: {:.2f}\".format(grad_boost.score(X_test, y_test)))"
   ]
  },
  {
   "cell_type": "code",
   "execution_count": 394,
   "metadata": {
    "collapsed": false
   },
   "outputs": [
    {
     "name": "stdout",
     "output_type": "stream",
     "text": [
      "Training set score: 0.93\n",
      "Test set score: 0.75\n"
     ]
    }
   ],
   "source": [
    "from sklearn.ensemble import GradientBoostingRegressor\n",
    "\n",
    "grad_boost_lr1 = GradientBoostingRegressor(learning_rate=1, n_estimators=10, random_state=0).fit(X_train,y_train)\n",
    "\n",
    "print(\"Training set score: {:.2f}\".format(grad_boost_lr1.score(X_train, y_train)))\n",
    "print(\"Test set score: {:.2f}\".format(grad_boost_lr1.score(X_test, y_test)))"
   ]
  },
  {
   "cell_type": "code",
   "execution_count": 398,
   "metadata": {
    "collapsed": false
   },
   "outputs": [
    {
     "name": "stdout",
     "output_type": "stream",
     "text": [
      "Training set score: 1.00\n",
      "Test set score: 0.75\n"
     ]
    }
   ],
   "source": [
    "from sklearn.ensemble import GradientBoostingRegressor\n",
    "\n",
    "grad_boost_lr1_nest100 = GradientBoostingRegressor(learning_rate=1, n_estimators=100, random_state=0).fit(X_train,y_train)\n",
    "\n",
    "print(\"Training set score: {:.2f}\".format(grad_boost_lr1_nest100.score(X_train, y_train)))\n",
    "print(\"Test set score: {:.2f}\".format(grad_boost_lr1_nest100.score(X_test, y_test)))"
   ]
  },
  {
   "cell_type": "code",
   "execution_count": 399,
   "metadata": {
    "collapsed": false
   },
   "outputs": [
    {
     "name": "stdout",
     "output_type": "stream",
     "text": [
      "Training set score: 0.97\n",
      "Test set score: 0.89\n"
     ]
    }
   ],
   "source": [
    "from sklearn.ensemble import GradientBoostingRegressor\n",
    "\n",
    "grad_boost_lr01_nest100 = GradientBoostingRegressor(learning_rate=.1, n_estimators=100, random_state=0).fit(X_train,y_train)\n",
    "\n",
    "print(\"Training set score: {:.2f}\".format(grad_boost_lr01_nest100.score(X_train, y_train)))\n",
    "print(\"Test set score: {:.2f}\".format(grad_boost_lr01_nest100.score(X_test, y_test)))"
   ]
  },
  {
   "cell_type": "code",
   "execution_count": 400,
   "metadata": {
    "collapsed": false
   },
   "outputs": [
    {
     "name": "stdout",
     "output_type": "stream",
     "text": [
      "Training set score: 0.70\n",
      "Test set score: 0.68\n"
     ]
    }
   ],
   "source": [
    "from sklearn.ensemble import GradientBoostingRegressor\n",
    "\n",
    "grad_boost_lr001_nest100 = GradientBoostingRegressor(learning_rate=.01, n_estimators=100, random_state=0).fit(X_train,y_train)\n",
    "\n",
    "print(\"Training set score: {:.2f}\".format(grad_boost_lr001_nest100.score(X_train, y_train)))\n",
    "print(\"Test set score: {:.2f}\".format(grad_boost_lr001_nest100.score(X_test, y_test)))"
   ]
  },
  {
   "cell_type": "code",
   "execution_count": 401,
   "metadata": {
    "collapsed": false
   },
   "outputs": [
    {
     "data": {
      "text/plain": [
       "0.12498800115199528"
      ]
     },
     "execution_count": 401,
     "metadata": {},
     "output_type": "execute_result"
    }
   ],
   "source": [
    "rmsle(y_test,grad_boost_lr01_nest100.predict(X_test))"
   ]
  },
  {
   "cell_type": "code",
   "execution_count": 403,
   "metadata": {
    "collapsed": false
   },
   "outputs": [],
   "source": [
    "price_prediction_grad_boost = grad_boost_lr01_nest100.predict(test_df3)\n",
    "price_predict_grad_boost_df = pd.DataFrame(price_prediction_grad_boost,index=test_df3.index,columns=['SalePrice']) \n",
    "price_predict_grad_boost_df.to_csv('house_price_submission_GradientBoosting.csv')"
   ]
  },
  {
   "cell_type": "markdown",
   "metadata": {},
   "source": [
    "I submitted the above prediction to the Kaggle competition and received my best score yet.  I now placed 1399 out of 2569.  I'm still hoping to do a bit better."
   ]
  },
  {
   "cell_type": "code",
   "execution_count": 407,
   "metadata": {
    "collapsed": false
   },
   "outputs": [
    {
     "name": "stdout",
     "output_type": "stream",
     "text": [
      "Training set score: 0.97\n",
      "Test set score: 0.89\n"
     ]
    }
   ],
   "source": [
    "from sklearn.ensemble import GradientBoostingRegressor\n",
    "\n",
    "grad_boost_lr001_nest1000 = GradientBoostingRegressor(learning_rate=.01, n_estimators=1000, random_state=0).fit(X_train,y_train)\n",
    "\n",
    "print(\"Training set score: {:.2f}\".format(grad_boost_lr001_nest1000.score(X_train, y_train)))\n",
    "print(\"Test set score: {:.2f}\".format(grad_boost_lr001_nest1000.score(X_test, y_test)))"
   ]
  },
  {
   "cell_type": "code",
   "execution_count": 408,
   "metadata": {
    "collapsed": false
   },
   "outputs": [
    {
     "data": {
      "text/plain": [
       "0.12521390643920344"
      ]
     },
     "execution_count": 408,
     "metadata": {},
     "output_type": "execute_result"
    }
   ],
   "source": [
    "rmsle(y_test,grad_boost_lr001_nest1000.predict(X_test))"
   ]
  },
  {
   "cell_type": "code",
   "execution_count": 409,
   "metadata": {
    "collapsed": false
   },
   "outputs": [
    {
     "name": "stdout",
     "output_type": "stream",
     "text": [
      "Training set score: 0.95\n",
      "Test set score: 0.89\n"
     ]
    }
   ],
   "source": [
    "from sklearn.ensemble import GradientBoostingRegressor\n",
    "\n",
    "grad_boost_lr01_nest100_maxdep2 = GradientBoostingRegressor(learning_rate=.1, n_estimators=100, random_state=0, max_depth=2).fit(X_train,y_train)\n",
    "\n",
    "print(\"Training set score: {:.2f}\".format(grad_boost_lr01_nest100_maxdep2.score(X_train, y_train)))\n",
    "print(\"Test set score: {:.2f}\".format(grad_boost_lr01_nest100_maxdep2.score(X_test, y_test)))"
   ]
  },
  {
   "cell_type": "code",
   "execution_count": 412,
   "metadata": {
    "collapsed": false
   },
   "outputs": [
    {
     "data": {
      "text/plain": [
       "0.13089228161783822"
      ]
     },
     "execution_count": 412,
     "metadata": {},
     "output_type": "execute_result"
    }
   ],
   "source": [
    "rmsle(y_test,grad_boost_lr01_nest100_maxdep2.predict(X_test))"
   ]
  },
  {
   "cell_type": "code",
   "execution_count": 413,
   "metadata": {
    "collapsed": false
   },
   "outputs": [
    {
     "name": "stdout",
     "output_type": "stream",
     "text": [
      "Training set score: 0.99\n",
      "Test set score: 0.92\n"
     ]
    }
   ],
   "source": [
    "from sklearn.ensemble import GradientBoostingRegressor\n",
    "\n",
    "grad_boost_lr01_nest1000_maxdep2 = GradientBoostingRegressor(learning_rate=.1, n_estimators=1000, random_state=0, max_depth=2).fit(X_train,y_train)\n",
    "\n",
    "print(\"Training set score: {:.2f}\".format(grad_boost_lr01_nest1000_maxdep2.score(X_train, y_train)))\n",
    "print(\"Test set score: {:.2f}\".format(grad_boost_lr01_nest1000_maxdep2.score(X_test, y_test)))"
   ]
  },
  {
   "cell_type": "code",
   "execution_count": 414,
   "metadata": {
    "collapsed": false
   },
   "outputs": [
    {
     "data": {
      "text/plain": [
       "0.11848330077553172"
      ]
     },
     "execution_count": 414,
     "metadata": {},
     "output_type": "execute_result"
    }
   ],
   "source": [
    "rmsle(y_test,grad_boost_lr01_nest1000_maxdep2.predict(X_test))"
   ]
  },
  {
   "cell_type": "markdown",
   "metadata": {},
   "source": [
    "Cool!  This is significantly better than before.  Definitely submitting this to the Kaggle competition site."
   ]
  },
  {
   "cell_type": "code",
   "execution_count": 415,
   "metadata": {
    "collapsed": true
   },
   "outputs": [],
   "source": [
    "price_prediction_grad_boost_ver2 = grad_boost_lr01_nest1000_maxdep2.predict(test_df3)\n",
    "price_predict_grad_boost_ver2_df = pd.DataFrame(price_prediction_grad_boost_ver2,index=test_df3.index,columns=['SalePrice']) \n",
    "price_predict_grad_boost_ver2_df.to_csv('house_price_submission_GradientBoosting_ver2.csv')"
   ]
  },
  {
   "cell_type": "markdown",
   "metadata": {},
   "source": [
    "I just submitted to the Kaggle site with the best score yet.  I got 1363 out of 2569.  "
   ]
  },
  {
   "cell_type": "markdown",
   "metadata": {},
   "source": [
    "Now I'd like to try feature scaling using the MinMaxScaler method."
   ]
  },
  {
   "cell_type": "code",
   "execution_count": 416,
   "metadata": {
    "collapsed": true
   },
   "outputs": [],
   "source": [
    "from sklearn.preprocessing import MinMaxScaler\n",
    "\n",
    "scaler = MinMaxScaler()\n",
    "scaler.fit(X_train)\n",
    "X_train_scaled = scaler.transform(X_train)\n",
    "X_test_scaled = scaler.transform(X_test)"
   ]
  },
  {
   "cell_type": "markdown",
   "metadata": {},
   "source": [
    "Next, I'm going to try Ridge regression on the scaled data."
   ]
  },
  {
   "cell_type": "code",
   "execution_count": 417,
   "metadata": {
    "collapsed": false
   },
   "outputs": [
    {
     "name": "stdout",
     "output_type": "stream",
     "text": [
      "Training set score: 0.91\n",
      "Test set score: 0.78\n"
     ]
    }
   ],
   "source": [
    "linridge10_scaled = Ridge(alpha=10).fit(X_train_scaled,y_train)\n",
    "print(\"Training set score: {:.2f}\".format(linridge10_scaled.score(X_train_scaled, y_train)))\n",
    "print(\"Test set score: {:.2f}\".format(linridge10_scaled.score(X_test_scaled, y_test)))"
   ]
  },
  {
   "cell_type": "code",
   "execution_count": 418,
   "metadata": {
    "collapsed": false
   },
   "outputs": [
    {
     "name": "stdout",
     "output_type": "stream",
     "text": [
      "Training set score: 0.90\n",
      "Test set score: 0.79\n"
     ]
    }
   ],
   "source": [
    "linridge20_scaled = Ridge(alpha=20).fit(X_train_scaled,y_train)\n",
    "print(\"Training set score: {:.2f}\".format(linridge20_scaled.score(X_train_scaled, y_train)))\n",
    "print(\"Test set score: {:.2f}\".format(linridge20_scaled.score(X_test_scaled, y_test)))"
   ]
  },
  {
   "cell_type": "code",
   "execution_count": 419,
   "metadata": {
    "collapsed": false
   },
   "outputs": [
    {
     "name": "stdout",
     "output_type": "stream",
     "text": [
      "Training set score: 0.87\n",
      "Test set score: 0.78\n"
     ]
    }
   ],
   "source": [
    "linridge50_scaled = Ridge(alpha=50).fit(X_train_scaled,y_train)\n",
    "print(\"Training set score: {:.2f}\".format(linridge50_scaled.score(X_train_scaled, y_train)))\n",
    "print(\"Test set score: {:.2f}\".format(linridge50_scaled.score(X_test_scaled, y_test)))"
   ]
  },
  {
   "cell_type": "code",
   "execution_count": 422,
   "metadata": {
    "collapsed": false
   },
   "outputs": [
    {
     "data": {
      "text/plain": [
       "0.14981824656844414"
      ]
     },
     "execution_count": 422,
     "metadata": {},
     "output_type": "execute_result"
    }
   ],
   "source": [
    "rmsle(y_test,linridge20_scaled.predict(X_test_scaled))"
   ]
  },
  {
   "cell_type": "code",
   "execution_count": 429,
   "metadata": {
    "collapsed": false
   },
   "outputs": [
    {
     "data": {
      "text/html": [
       "<div>\n",
       "<style>\n",
       "    .dataframe thead tr:only-child th {\n",
       "        text-align: right;\n",
       "    }\n",
       "\n",
       "    .dataframe thead th {\n",
       "        text-align: left;\n",
       "    }\n",
       "\n",
       "    .dataframe tbody tr th {\n",
       "        vertical-align: top;\n",
       "    }\n",
       "</style>\n",
       "<table border=\"1\" class=\"dataframe\">\n",
       "  <thead>\n",
       "    <tr style=\"text-align: right;\">\n",
       "      <th></th>\n",
       "      <th>MSSubClass</th>\n",
       "      <th>LotArea</th>\n",
       "      <th>OverallQual</th>\n",
       "      <th>OverallCond</th>\n",
       "      <th>YearBuilt</th>\n",
       "      <th>YearRemodAdd</th>\n",
       "      <th>MasVnrArea</th>\n",
       "      <th>BsmtFinSF1</th>\n",
       "      <th>BsmtFinSF2</th>\n",
       "      <th>BsmtUnfSF</th>\n",
       "      <th>...</th>\n",
       "      <th>SaleType_ConLw</th>\n",
       "      <th>SaleType_New</th>\n",
       "      <th>SaleType_Oth</th>\n",
       "      <th>SaleType_WD</th>\n",
       "      <th>SaleCondition_Abnorml</th>\n",
       "      <th>SaleCondition_AdjLand</th>\n",
       "      <th>SaleCondition_Alloca</th>\n",
       "      <th>SaleCondition_Family</th>\n",
       "      <th>SaleCondition_Normal</th>\n",
       "      <th>SaleCondition_Partial</th>\n",
       "    </tr>\n",
       "    <tr>\n",
       "      <th>Id</th>\n",
       "      <th></th>\n",
       "      <th></th>\n",
       "      <th></th>\n",
       "      <th></th>\n",
       "      <th></th>\n",
       "      <th></th>\n",
       "      <th></th>\n",
       "      <th></th>\n",
       "      <th></th>\n",
       "      <th></th>\n",
       "      <th></th>\n",
       "      <th></th>\n",
       "      <th></th>\n",
       "      <th></th>\n",
       "      <th></th>\n",
       "      <th></th>\n",
       "      <th></th>\n",
       "      <th></th>\n",
       "      <th></th>\n",
       "      <th></th>\n",
       "      <th></th>\n",
       "    </tr>\n",
       "  </thead>\n",
       "  <tbody>\n",
       "    <tr>\n",
       "      <th>530</th>\n",
       "      <td>20</td>\n",
       "      <td>32668</td>\n",
       "      <td>6</td>\n",
       "      <td>3</td>\n",
       "      <td>1957</td>\n",
       "      <td>1975</td>\n",
       "      <td>0.0</td>\n",
       "      <td>1219</td>\n",
       "      <td>0</td>\n",
       "      <td>816</td>\n",
       "      <td>...</td>\n",
       "      <td>0</td>\n",
       "      <td>0</td>\n",
       "      <td>0</td>\n",
       "      <td>1</td>\n",
       "      <td>0</td>\n",
       "      <td>0</td>\n",
       "      <td>1</td>\n",
       "      <td>0</td>\n",
       "      <td>0</td>\n",
       "      <td>0</td>\n",
       "    </tr>\n",
       "    <tr>\n",
       "      <th>492</th>\n",
       "      <td>50</td>\n",
       "      <td>9490</td>\n",
       "      <td>6</td>\n",
       "      <td>7</td>\n",
       "      <td>1941</td>\n",
       "      <td>1950</td>\n",
       "      <td>0.0</td>\n",
       "      <td>403</td>\n",
       "      <td>165</td>\n",
       "      <td>238</td>\n",
       "      <td>...</td>\n",
       "      <td>0</td>\n",
       "      <td>0</td>\n",
       "      <td>0</td>\n",
       "      <td>1</td>\n",
       "      <td>0</td>\n",
       "      <td>0</td>\n",
       "      <td>0</td>\n",
       "      <td>0</td>\n",
       "      <td>1</td>\n",
       "      <td>0</td>\n",
       "    </tr>\n",
       "    <tr>\n",
       "      <th>460</th>\n",
       "      <td>50</td>\n",
       "      <td>7015</td>\n",
       "      <td>5</td>\n",
       "      <td>4</td>\n",
       "      <td>1950</td>\n",
       "      <td>1950</td>\n",
       "      <td>161.0</td>\n",
       "      <td>185</td>\n",
       "      <td>0</td>\n",
       "      <td>524</td>\n",
       "      <td>...</td>\n",
       "      <td>0</td>\n",
       "      <td>0</td>\n",
       "      <td>0</td>\n",
       "      <td>1</td>\n",
       "      <td>0</td>\n",
       "      <td>0</td>\n",
       "      <td>0</td>\n",
       "      <td>0</td>\n",
       "      <td>1</td>\n",
       "      <td>0</td>\n",
       "    </tr>\n",
       "    <tr>\n",
       "      <th>280</th>\n",
       "      <td>60</td>\n",
       "      <td>10005</td>\n",
       "      <td>7</td>\n",
       "      <td>5</td>\n",
       "      <td>1977</td>\n",
       "      <td>1977</td>\n",
       "      <td>299.0</td>\n",
       "      <td>392</td>\n",
       "      <td>0</td>\n",
       "      <td>768</td>\n",
       "      <td>...</td>\n",
       "      <td>0</td>\n",
       "      <td>0</td>\n",
       "      <td>0</td>\n",
       "      <td>1</td>\n",
       "      <td>0</td>\n",
       "      <td>0</td>\n",
       "      <td>0</td>\n",
       "      <td>0</td>\n",
       "      <td>1</td>\n",
       "      <td>0</td>\n",
       "    </tr>\n",
       "    <tr>\n",
       "      <th>656</th>\n",
       "      <td>160</td>\n",
       "      <td>1680</td>\n",
       "      <td>6</td>\n",
       "      <td>5</td>\n",
       "      <td>1971</td>\n",
       "      <td>1971</td>\n",
       "      <td>381.0</td>\n",
       "      <td>0</td>\n",
       "      <td>0</td>\n",
       "      <td>525</td>\n",
       "      <td>...</td>\n",
       "      <td>0</td>\n",
       "      <td>0</td>\n",
       "      <td>0</td>\n",
       "      <td>1</td>\n",
       "      <td>0</td>\n",
       "      <td>0</td>\n",
       "      <td>0</td>\n",
       "      <td>1</td>\n",
       "      <td>0</td>\n",
       "      <td>0</td>\n",
       "    </tr>\n",
       "  </tbody>\n",
       "</table>\n",
       "<p>5 rows × 278 columns</p>\n",
       "</div>"
      ],
      "text/plain": [
       "     MSSubClass  LotArea  OverallQual  OverallCond  YearBuilt  YearRemodAdd  \\\n",
       "Id                                                                            \n",
       "530          20    32668            6            3       1957          1975   \n",
       "492          50     9490            6            7       1941          1950   \n",
       "460          50     7015            5            4       1950          1950   \n",
       "280          60    10005            7            5       1977          1977   \n",
       "656         160     1680            6            5       1971          1971   \n",
       "\n",
       "     MasVnrArea  BsmtFinSF1  BsmtFinSF2  BsmtUnfSF          ...            \\\n",
       "Id                                                          ...             \n",
       "530         0.0        1219           0        816          ...             \n",
       "492         0.0         403         165        238          ...             \n",
       "460       161.0         185           0        524          ...             \n",
       "280       299.0         392           0        768          ...             \n",
       "656       381.0           0           0        525          ...             \n",
       "\n",
       "     SaleType_ConLw  SaleType_New  SaleType_Oth  SaleType_WD  \\\n",
       "Id                                                             \n",
       "530               0             0             0            1   \n",
       "492               0             0             0            1   \n",
       "460               0             0             0            1   \n",
       "280               0             0             0            1   \n",
       "656               0             0             0            1   \n",
       "\n",
       "     SaleCondition_Abnorml  SaleCondition_AdjLand  SaleCondition_Alloca  \\\n",
       "Id                                                                        \n",
       "530                      0                      0                     1   \n",
       "492                      0                      0                     0   \n",
       "460                      0                      0                     0   \n",
       "280                      0                      0                     0   \n",
       "656                      0                      0                     0   \n",
       "\n",
       "     SaleCondition_Family  SaleCondition_Normal  SaleCondition_Partial  \n",
       "Id                                                                      \n",
       "530                     0                     0                      0  \n",
       "492                     0                     1                      0  \n",
       "460                     0                     1                      0  \n",
       "280                     0                     1                      0  \n",
       "656                     1                     0                      0  \n",
       "\n",
       "[5 rows x 278 columns]"
      ]
     },
     "execution_count": 429,
     "metadata": {},
     "output_type": "execute_result"
    }
   ],
   "source": [
    "X_test.head()"
   ]
  },
  {
   "cell_type": "code",
   "execution_count": 431,
   "metadata": {
    "collapsed": true
   },
   "outputs": [],
   "source": [
    "from sklearn.linear_model import Lasso"
   ]
  },
  {
   "cell_type": "code",
   "execution_count": 432,
   "metadata": {
    "collapsed": false
   },
   "outputs": [
    {
     "name": "stdout",
     "output_type": "stream",
     "text": [
      "Training set score: 0.94\n",
      "Test set score: 0.63\n"
     ]
    }
   ],
   "source": [
    "lasso_scaled = Lasso(max_iter=1e5, alpha=0.1).fit(X_train_scaled, y_train)\n",
    "print(\"Training set score: {:.2f}\".format(lasso_scaled.score(X_train_scaled, y_train)))\n",
    "print(\"Test set score: {:.2f}\".format(lasso_scaled.score(X_test_scaled, y_test)))"
   ]
  },
  {
   "cell_type": "code",
   "execution_count": 434,
   "metadata": {
    "collapsed": false
   },
   "outputs": [
    {
     "name": "stdout",
     "output_type": "stream",
     "text": [
      "Training set score: 0.94\n",
      "Test set score: 0.63\n"
     ]
    }
   ],
   "source": [
    "lasso_scaled = Lasso(max_iter=5e5, alpha=0.01).fit(X_train_scaled, y_train)\n",
    "print(\"Training set score: {:.2f}\".format(lasso_scaled.score(X_train_scaled, y_train)))\n",
    "print(\"Test set score: {:.2f}\".format(lasso_scaled.score(X_test_scaled, y_test)))"
   ]
  },
  {
   "cell_type": "code",
   "execution_count": 436,
   "metadata": {
    "collapsed": false
   },
   "outputs": [
    {
     "name": "stdout",
     "output_type": "stream",
     "text": [
      "Training set score: 0.94\n",
      "Test set score: 0.64\n"
     ]
    }
   ],
   "source": [
    "# %load 434\n",
    "lasso_scaled = Lasso(max_iter=1e5, alpha=1).fit(X_train_scaled, y_train)\n",
    "print(\"Training set score: {:.2f}\".format(lasso_scaled.score(X_train_scaled, y_train)))\n",
    "print(\"Test set score: {:.2f}\".format(lasso_scaled.score(X_test_scaled, y_test)))"
   ]
  },
  {
   "cell_type": "code",
   "execution_count": 440,
   "metadata": {
    "collapsed": false
   },
   "outputs": [
    {
     "name": "stdout",
     "output_type": "stream",
     "text": [
      "Training set score: 0.94\n",
      "Test set score: 0.66\n"
     ]
    }
   ],
   "source": [
    "# %load 436\n",
    "# %load 434\n",
    "lasso_scaled = Lasso(max_iter=1e5, alpha=10).fit(X_train_scaled, y_train)\n",
    "print(\"Training set score: {:.2f}\".format(lasso_scaled.score(X_train_scaled, y_train)))\n",
    "print(\"Test set score: {:.2f}\".format(lasso_scaled.score(X_test_scaled, y_test)))"
   ]
  },
  {
   "cell_type": "code",
   "execution_count": 456,
   "metadata": {
    "collapsed": false
   },
   "outputs": [
    {
     "name": "stdout",
     "output_type": "stream",
     "text": [
      "Training set score: 0.93\n",
      "Test set score: 0.75\n"
     ]
    }
   ],
   "source": [
    "lasso_scaled_alpha100 = Lasso(max_iter=1e5, alpha=100).fit(X_train_scaled, y_train)\n",
    "print(\"Training set score: {:.2f}\".format(lasso_scaled_alpha100.score(X_train_scaled, y_train)))\n",
    "print(\"Test set score: {:.2f}\".format(lasso_scaled_alpha100.score(X_test_scaled, y_test)))"
   ]
  },
  {
   "cell_type": "code",
   "execution_count": 457,
   "metadata": {
    "collapsed": false
   },
   "outputs": [
    {
     "name": "stdout",
     "output_type": "stream",
     "text": [
      "Training set score: 0.88\n",
      "Test set score: 0.78\n"
     ]
    }
   ],
   "source": [
    "lasso_scaled_alpha500 = Lasso(max_iter=1e5, alpha=500).fit(X_train_scaled, y_train)\n",
    "print(\"Training set score: {:.2f}\".format(lasso_scaled_alpha500.score(X_train_scaled, y_train)))\n",
    "print(\"Test set score: {:.2f}\".format(lasso_scaled_alpha500.score(X_test_scaled, y_test)))"
   ]
  },
  {
   "cell_type": "code",
   "execution_count": 458,
   "metadata": {
    "collapsed": false
   },
   "outputs": [
    {
     "name": "stdout",
     "output_type": "stream",
     "text": [
      "Training set score: 0.85\n",
      "Test set score: 0.78\n"
     ]
    }
   ],
   "source": [
    "lasso_scaled_alpha1000 = Lasso(max_iter=1e5, alpha=1000).fit(X_train_scaled, y_train)\n",
    "print(\"Training set score: {:.2f}\".format(lasso_scaled_alpha1000.score(X_train_scaled, y_train)))\n",
    "print(\"Test set score: {:.2f}\".format(lasso_scaled_alpha1000.score(X_test_scaled, y_test)))"
   ]
  },
  {
   "cell_type": "code",
   "execution_count": 459,
   "metadata": {
    "collapsed": false
   },
   "outputs": [
    {
     "name": "stdout",
     "output_type": "stream",
     "text": [
      "Training set score: 0.85\n",
      "Test set score: 0.78\n"
     ]
    }
   ],
   "source": [
    "lasso_scaled_alpha900 = Lasso(max_iter=1e5, alpha=900).fit(X_train_scaled, y_train)\n",
    "print(\"Training set score: {:.2f}\".format(lasso_scaled_alpha900.score(X_train_scaled, y_train)))\n",
    "print(\"Test set score: {:.2f}\".format(lasso_scaled_alpha900.score(X_test_scaled, y_test)))"
   ]
  },
  {
   "cell_type": "code",
   "execution_count": 460,
   "metadata": {
    "collapsed": false
   },
   "outputs": [
    {
     "data": {
      "text/plain": [
       "0.14980717135258659"
      ]
     },
     "execution_count": 460,
     "metadata": {},
     "output_type": "execute_result"
    }
   ],
   "source": [
    "rmsle(y_test,lasso_scaled_alpha500.predict(X_test_scaled))"
   ]
  },
  {
   "cell_type": "code",
   "execution_count": 511,
   "metadata": {
    "collapsed": false
   },
   "outputs": [
    {
     "data": {
      "application/javascript": [
       "/* Put everything inside the global mpl namespace */\n",
       "window.mpl = {};\n",
       "\n",
       "\n",
       "mpl.get_websocket_type = function() {\n",
       "    if (typeof(WebSocket) !== 'undefined') {\n",
       "        return WebSocket;\n",
       "    } else if (typeof(MozWebSocket) !== 'undefined') {\n",
       "        return MozWebSocket;\n",
       "    } else {\n",
       "        alert('Your browser does not have WebSocket support.' +\n",
       "              'Please try Chrome, Safari or Firefox ≥ 6. ' +\n",
       "              'Firefox 4 and 5 are also supported but you ' +\n",
       "              'have to enable WebSockets in about:config.');\n",
       "    };\n",
       "}\n",
       "\n",
       "mpl.figure = function(figure_id, websocket, ondownload, parent_element) {\n",
       "    this.id = figure_id;\n",
       "\n",
       "    this.ws = websocket;\n",
       "\n",
       "    this.supports_binary = (this.ws.binaryType != undefined);\n",
       "\n",
       "    if (!this.supports_binary) {\n",
       "        var warnings = document.getElementById(\"mpl-warnings\");\n",
       "        if (warnings) {\n",
       "            warnings.style.display = 'block';\n",
       "            warnings.textContent = (\n",
       "                \"This browser does not support binary websocket messages. \" +\n",
       "                    \"Performance may be slow.\");\n",
       "        }\n",
       "    }\n",
       "\n",
       "    this.imageObj = new Image();\n",
       "\n",
       "    this.context = undefined;\n",
       "    this.message = undefined;\n",
       "    this.canvas = undefined;\n",
       "    this.rubberband_canvas = undefined;\n",
       "    this.rubberband_context = undefined;\n",
       "    this.format_dropdown = undefined;\n",
       "\n",
       "    this.image_mode = 'full';\n",
       "\n",
       "    this.root = $('<div/>');\n",
       "    this._root_extra_style(this.root)\n",
       "    this.root.attr('style', 'display: inline-block');\n",
       "\n",
       "    $(parent_element).append(this.root);\n",
       "\n",
       "    this._init_header(this);\n",
       "    this._init_canvas(this);\n",
       "    this._init_toolbar(this);\n",
       "\n",
       "    var fig = this;\n",
       "\n",
       "    this.waiting = false;\n",
       "\n",
       "    this.ws.onopen =  function () {\n",
       "            fig.send_message(\"supports_binary\", {value: fig.supports_binary});\n",
       "            fig.send_message(\"send_image_mode\", {});\n",
       "            if (mpl.ratio != 1) {\n",
       "                fig.send_message(\"set_dpi_ratio\", {'dpi_ratio': mpl.ratio});\n",
       "            }\n",
       "            fig.send_message(\"refresh\", {});\n",
       "        }\n",
       "\n",
       "    this.imageObj.onload = function() {\n",
       "            if (fig.image_mode == 'full') {\n",
       "                // Full images could contain transparency (where diff images\n",
       "                // almost always do), so we need to clear the canvas so that\n",
       "                // there is no ghosting.\n",
       "                fig.context.clearRect(0, 0, fig.canvas.width, fig.canvas.height);\n",
       "            }\n",
       "            fig.context.drawImage(fig.imageObj, 0, 0);\n",
       "        };\n",
       "\n",
       "    this.imageObj.onunload = function() {\n",
       "        fig.ws.close();\n",
       "    }\n",
       "\n",
       "    this.ws.onmessage = this._make_on_message_function(this);\n",
       "\n",
       "    this.ondownload = ondownload;\n",
       "}\n",
       "\n",
       "mpl.figure.prototype._init_header = function() {\n",
       "    var titlebar = $(\n",
       "        '<div class=\"ui-dialog-titlebar ui-widget-header ui-corner-all ' +\n",
       "        'ui-helper-clearfix\"/>');\n",
       "    var titletext = $(\n",
       "        '<div class=\"ui-dialog-title\" style=\"width: 100%; ' +\n",
       "        'text-align: center; padding: 3px;\"/>');\n",
       "    titlebar.append(titletext)\n",
       "    this.root.append(titlebar);\n",
       "    this.header = titletext[0];\n",
       "}\n",
       "\n",
       "\n",
       "\n",
       "mpl.figure.prototype._canvas_extra_style = function(canvas_div) {\n",
       "\n",
       "}\n",
       "\n",
       "\n",
       "mpl.figure.prototype._root_extra_style = function(canvas_div) {\n",
       "\n",
       "}\n",
       "\n",
       "mpl.figure.prototype._init_canvas = function() {\n",
       "    var fig = this;\n",
       "\n",
       "    var canvas_div = $('<div/>');\n",
       "\n",
       "    canvas_div.attr('style', 'position: relative; clear: both; outline: 0');\n",
       "\n",
       "    function canvas_keyboard_event(event) {\n",
       "        return fig.key_event(event, event['data']);\n",
       "    }\n",
       "\n",
       "    canvas_div.keydown('key_press', canvas_keyboard_event);\n",
       "    canvas_div.keyup('key_release', canvas_keyboard_event);\n",
       "    this.canvas_div = canvas_div\n",
       "    this._canvas_extra_style(canvas_div)\n",
       "    this.root.append(canvas_div);\n",
       "\n",
       "    var canvas = $('<canvas/>');\n",
       "    canvas.addClass('mpl-canvas');\n",
       "    canvas.attr('style', \"left: 0; top: 0; z-index: 0; outline: 0\")\n",
       "\n",
       "    this.canvas = canvas[0];\n",
       "    this.context = canvas[0].getContext(\"2d\");\n",
       "\n",
       "    var backingStore = this.context.backingStorePixelRatio ||\n",
       "\tthis.context.webkitBackingStorePixelRatio ||\n",
       "\tthis.context.mozBackingStorePixelRatio ||\n",
       "\tthis.context.msBackingStorePixelRatio ||\n",
       "\tthis.context.oBackingStorePixelRatio ||\n",
       "\tthis.context.backingStorePixelRatio || 1;\n",
       "\n",
       "    mpl.ratio = (window.devicePixelRatio || 1) / backingStore;\n",
       "\n",
       "    var rubberband = $('<canvas/>');\n",
       "    rubberband.attr('style', \"position: absolute; left: 0; top: 0; z-index: 1;\")\n",
       "\n",
       "    var pass_mouse_events = true;\n",
       "\n",
       "    canvas_div.resizable({\n",
       "        start: function(event, ui) {\n",
       "            pass_mouse_events = false;\n",
       "        },\n",
       "        resize: function(event, ui) {\n",
       "            fig.request_resize(ui.size.width, ui.size.height);\n",
       "        },\n",
       "        stop: function(event, ui) {\n",
       "            pass_mouse_events = true;\n",
       "            fig.request_resize(ui.size.width, ui.size.height);\n",
       "        },\n",
       "    });\n",
       "\n",
       "    function mouse_event_fn(event) {\n",
       "        if (pass_mouse_events)\n",
       "            return fig.mouse_event(event, event['data']);\n",
       "    }\n",
       "\n",
       "    rubberband.mousedown('button_press', mouse_event_fn);\n",
       "    rubberband.mouseup('button_release', mouse_event_fn);\n",
       "    // Throttle sequential mouse events to 1 every 20ms.\n",
       "    rubberband.mousemove('motion_notify', mouse_event_fn);\n",
       "\n",
       "    rubberband.mouseenter('figure_enter', mouse_event_fn);\n",
       "    rubberband.mouseleave('figure_leave', mouse_event_fn);\n",
       "\n",
       "    canvas_div.on(\"wheel\", function (event) {\n",
       "        event = event.originalEvent;\n",
       "        event['data'] = 'scroll'\n",
       "        if (event.deltaY < 0) {\n",
       "            event.step = 1;\n",
       "        } else {\n",
       "            event.step = -1;\n",
       "        }\n",
       "        mouse_event_fn(event);\n",
       "    });\n",
       "\n",
       "    canvas_div.append(canvas);\n",
       "    canvas_div.append(rubberband);\n",
       "\n",
       "    this.rubberband = rubberband;\n",
       "    this.rubberband_canvas = rubberband[0];\n",
       "    this.rubberband_context = rubberband[0].getContext(\"2d\");\n",
       "    this.rubberband_context.strokeStyle = \"#000000\";\n",
       "\n",
       "    this._resize_canvas = function(width, height) {\n",
       "        // Keep the size of the canvas, canvas container, and rubber band\n",
       "        // canvas in synch.\n",
       "        canvas_div.css('width', width)\n",
       "        canvas_div.css('height', height)\n",
       "\n",
       "        canvas.attr('width', width * mpl.ratio);\n",
       "        canvas.attr('height', height * mpl.ratio);\n",
       "        canvas.attr('style', 'width: ' + width + 'px; height: ' + height + 'px;');\n",
       "\n",
       "        rubberband.attr('width', width);\n",
       "        rubberband.attr('height', height);\n",
       "    }\n",
       "\n",
       "    // Set the figure to an initial 600x600px, this will subsequently be updated\n",
       "    // upon first draw.\n",
       "    this._resize_canvas(600, 600);\n",
       "\n",
       "    // Disable right mouse context menu.\n",
       "    $(this.rubberband_canvas).bind(\"contextmenu\",function(e){\n",
       "        return false;\n",
       "    });\n",
       "\n",
       "    function set_focus () {\n",
       "        canvas.focus();\n",
       "        canvas_div.focus();\n",
       "    }\n",
       "\n",
       "    window.setTimeout(set_focus, 100);\n",
       "}\n",
       "\n",
       "mpl.figure.prototype._init_toolbar = function() {\n",
       "    var fig = this;\n",
       "\n",
       "    var nav_element = $('<div/>')\n",
       "    nav_element.attr('style', 'width: 100%');\n",
       "    this.root.append(nav_element);\n",
       "\n",
       "    // Define a callback function for later on.\n",
       "    function toolbar_event(event) {\n",
       "        return fig.toolbar_button_onclick(event['data']);\n",
       "    }\n",
       "    function toolbar_mouse_event(event) {\n",
       "        return fig.toolbar_button_onmouseover(event['data']);\n",
       "    }\n",
       "\n",
       "    for(var toolbar_ind in mpl.toolbar_items) {\n",
       "        var name = mpl.toolbar_items[toolbar_ind][0];\n",
       "        var tooltip = mpl.toolbar_items[toolbar_ind][1];\n",
       "        var image = mpl.toolbar_items[toolbar_ind][2];\n",
       "        var method_name = mpl.toolbar_items[toolbar_ind][3];\n",
       "\n",
       "        if (!name) {\n",
       "            // put a spacer in here.\n",
       "            continue;\n",
       "        }\n",
       "        var button = $('<button/>');\n",
       "        button.addClass('ui-button ui-widget ui-state-default ui-corner-all ' +\n",
       "                        'ui-button-icon-only');\n",
       "        button.attr('role', 'button');\n",
       "        button.attr('aria-disabled', 'false');\n",
       "        button.click(method_name, toolbar_event);\n",
       "        button.mouseover(tooltip, toolbar_mouse_event);\n",
       "\n",
       "        var icon_img = $('<span/>');\n",
       "        icon_img.addClass('ui-button-icon-primary ui-icon');\n",
       "        icon_img.addClass(image);\n",
       "        icon_img.addClass('ui-corner-all');\n",
       "\n",
       "        var tooltip_span = $('<span/>');\n",
       "        tooltip_span.addClass('ui-button-text');\n",
       "        tooltip_span.html(tooltip);\n",
       "\n",
       "        button.append(icon_img);\n",
       "        button.append(tooltip_span);\n",
       "\n",
       "        nav_element.append(button);\n",
       "    }\n",
       "\n",
       "    var fmt_picker_span = $('<span/>');\n",
       "\n",
       "    var fmt_picker = $('<select/>');\n",
       "    fmt_picker.addClass('mpl-toolbar-option ui-widget ui-widget-content');\n",
       "    fmt_picker_span.append(fmt_picker);\n",
       "    nav_element.append(fmt_picker_span);\n",
       "    this.format_dropdown = fmt_picker[0];\n",
       "\n",
       "    for (var ind in mpl.extensions) {\n",
       "        var fmt = mpl.extensions[ind];\n",
       "        var option = $(\n",
       "            '<option/>', {selected: fmt === mpl.default_extension}).html(fmt);\n",
       "        fmt_picker.append(option)\n",
       "    }\n",
       "\n",
       "    // Add hover states to the ui-buttons\n",
       "    $( \".ui-button\" ).hover(\n",
       "        function() { $(this).addClass(\"ui-state-hover\");},\n",
       "        function() { $(this).removeClass(\"ui-state-hover\");}\n",
       "    );\n",
       "\n",
       "    var status_bar = $('<span class=\"mpl-message\"/>');\n",
       "    nav_element.append(status_bar);\n",
       "    this.message = status_bar[0];\n",
       "}\n",
       "\n",
       "mpl.figure.prototype.request_resize = function(x_pixels, y_pixels) {\n",
       "    // Request matplotlib to resize the figure. Matplotlib will then trigger a resize in the client,\n",
       "    // which will in turn request a refresh of the image.\n",
       "    this.send_message('resize', {'width': x_pixels, 'height': y_pixels});\n",
       "}\n",
       "\n",
       "mpl.figure.prototype.send_message = function(type, properties) {\n",
       "    properties['type'] = type;\n",
       "    properties['figure_id'] = this.id;\n",
       "    this.ws.send(JSON.stringify(properties));\n",
       "}\n",
       "\n",
       "mpl.figure.prototype.send_draw_message = function() {\n",
       "    if (!this.waiting) {\n",
       "        this.waiting = true;\n",
       "        this.ws.send(JSON.stringify({type: \"draw\", figure_id: this.id}));\n",
       "    }\n",
       "}\n",
       "\n",
       "\n",
       "mpl.figure.prototype.handle_save = function(fig, msg) {\n",
       "    var format_dropdown = fig.format_dropdown;\n",
       "    var format = format_dropdown.options[format_dropdown.selectedIndex].value;\n",
       "    fig.ondownload(fig, format);\n",
       "}\n",
       "\n",
       "\n",
       "mpl.figure.prototype.handle_resize = function(fig, msg) {\n",
       "    var size = msg['size'];\n",
       "    if (size[0] != fig.canvas.width || size[1] != fig.canvas.height) {\n",
       "        fig._resize_canvas(size[0], size[1]);\n",
       "        fig.send_message(\"refresh\", {});\n",
       "    };\n",
       "}\n",
       "\n",
       "mpl.figure.prototype.handle_rubberband = function(fig, msg) {\n",
       "    var x0 = msg['x0'] / mpl.ratio;\n",
       "    var y0 = (fig.canvas.height - msg['y0']) / mpl.ratio;\n",
       "    var x1 = msg['x1'] / mpl.ratio;\n",
       "    var y1 = (fig.canvas.height - msg['y1']) / mpl.ratio;\n",
       "    x0 = Math.floor(x0) + 0.5;\n",
       "    y0 = Math.floor(y0) + 0.5;\n",
       "    x1 = Math.floor(x1) + 0.5;\n",
       "    y1 = Math.floor(y1) + 0.5;\n",
       "    var min_x = Math.min(x0, x1);\n",
       "    var min_y = Math.min(y0, y1);\n",
       "    var width = Math.abs(x1 - x0);\n",
       "    var height = Math.abs(y1 - y0);\n",
       "\n",
       "    fig.rubberband_context.clearRect(\n",
       "        0, 0, fig.canvas.width, fig.canvas.height);\n",
       "\n",
       "    fig.rubberband_context.strokeRect(min_x, min_y, width, height);\n",
       "}\n",
       "\n",
       "mpl.figure.prototype.handle_figure_label = function(fig, msg) {\n",
       "    // Updates the figure title.\n",
       "    fig.header.textContent = msg['label'];\n",
       "}\n",
       "\n",
       "mpl.figure.prototype.handle_cursor = function(fig, msg) {\n",
       "    var cursor = msg['cursor'];\n",
       "    switch(cursor)\n",
       "    {\n",
       "    case 0:\n",
       "        cursor = 'pointer';\n",
       "        break;\n",
       "    case 1:\n",
       "        cursor = 'default';\n",
       "        break;\n",
       "    case 2:\n",
       "        cursor = 'crosshair';\n",
       "        break;\n",
       "    case 3:\n",
       "        cursor = 'move';\n",
       "        break;\n",
       "    }\n",
       "    fig.rubberband_canvas.style.cursor = cursor;\n",
       "}\n",
       "\n",
       "mpl.figure.prototype.handle_message = function(fig, msg) {\n",
       "    fig.message.textContent = msg['message'];\n",
       "}\n",
       "\n",
       "mpl.figure.prototype.handle_draw = function(fig, msg) {\n",
       "    // Request the server to send over a new figure.\n",
       "    fig.send_draw_message();\n",
       "}\n",
       "\n",
       "mpl.figure.prototype.handle_image_mode = function(fig, msg) {\n",
       "    fig.image_mode = msg['mode'];\n",
       "}\n",
       "\n",
       "mpl.figure.prototype.updated_canvas_event = function() {\n",
       "    // Called whenever the canvas gets updated.\n",
       "    this.send_message(\"ack\", {});\n",
       "}\n",
       "\n",
       "// A function to construct a web socket function for onmessage handling.\n",
       "// Called in the figure constructor.\n",
       "mpl.figure.prototype._make_on_message_function = function(fig) {\n",
       "    return function socket_on_message(evt) {\n",
       "        if (evt.data instanceof Blob) {\n",
       "            /* FIXME: We get \"Resource interpreted as Image but\n",
       "             * transferred with MIME type text/plain:\" errors on\n",
       "             * Chrome.  But how to set the MIME type?  It doesn't seem\n",
       "             * to be part of the websocket stream */\n",
       "            evt.data.type = \"image/png\";\n",
       "\n",
       "            /* Free the memory for the previous frames */\n",
       "            if (fig.imageObj.src) {\n",
       "                (window.URL || window.webkitURL).revokeObjectURL(\n",
       "                    fig.imageObj.src);\n",
       "            }\n",
       "\n",
       "            fig.imageObj.src = (window.URL || window.webkitURL).createObjectURL(\n",
       "                evt.data);\n",
       "            fig.updated_canvas_event();\n",
       "            fig.waiting = false;\n",
       "            return;\n",
       "        }\n",
       "        else if (typeof evt.data === 'string' && evt.data.slice(0, 21) == \"data:image/png;base64\") {\n",
       "            fig.imageObj.src = evt.data;\n",
       "            fig.updated_canvas_event();\n",
       "            fig.waiting = false;\n",
       "            return;\n",
       "        }\n",
       "\n",
       "        var msg = JSON.parse(evt.data);\n",
       "        var msg_type = msg['type'];\n",
       "\n",
       "        // Call the  \"handle_{type}\" callback, which takes\n",
       "        // the figure and JSON message as its only arguments.\n",
       "        try {\n",
       "            var callback = fig[\"handle_\" + msg_type];\n",
       "        } catch (e) {\n",
       "            console.log(\"No handler for the '\" + msg_type + \"' message type: \", msg);\n",
       "            return;\n",
       "        }\n",
       "\n",
       "        if (callback) {\n",
       "            try {\n",
       "                // console.log(\"Handling '\" + msg_type + \"' message: \", msg);\n",
       "                callback(fig, msg);\n",
       "            } catch (e) {\n",
       "                console.log(\"Exception inside the 'handler_\" + msg_type + \"' callback:\", e, e.stack, msg);\n",
       "            }\n",
       "        }\n",
       "    };\n",
       "}\n",
       "\n",
       "// from http://stackoverflow.com/questions/1114465/getting-mouse-location-in-canvas\n",
       "mpl.findpos = function(e) {\n",
       "    //this section is from http://www.quirksmode.org/js/events_properties.html\n",
       "    var targ;\n",
       "    if (!e)\n",
       "        e = window.event;\n",
       "    if (e.target)\n",
       "        targ = e.target;\n",
       "    else if (e.srcElement)\n",
       "        targ = e.srcElement;\n",
       "    if (targ.nodeType == 3) // defeat Safari bug\n",
       "        targ = targ.parentNode;\n",
       "\n",
       "    // jQuery normalizes the pageX and pageY\n",
       "    // pageX,Y are the mouse positions relative to the document\n",
       "    // offset() returns the position of the element relative to the document\n",
       "    var x = e.pageX - $(targ).offset().left;\n",
       "    var y = e.pageY - $(targ).offset().top;\n",
       "\n",
       "    return {\"x\": x, \"y\": y};\n",
       "};\n",
       "\n",
       "/*\n",
       " * return a copy of an object with only non-object keys\n",
       " * we need this to avoid circular references\n",
       " * http://stackoverflow.com/a/24161582/3208463\n",
       " */\n",
       "function simpleKeys (original) {\n",
       "  return Object.keys(original).reduce(function (obj, key) {\n",
       "    if (typeof original[key] !== 'object')\n",
       "        obj[key] = original[key]\n",
       "    return obj;\n",
       "  }, {});\n",
       "}\n",
       "\n",
       "mpl.figure.prototype.mouse_event = function(event, name) {\n",
       "    var canvas_pos = mpl.findpos(event)\n",
       "\n",
       "    if (name === 'button_press')\n",
       "    {\n",
       "        this.canvas.focus();\n",
       "        this.canvas_div.focus();\n",
       "    }\n",
       "\n",
       "    var x = canvas_pos.x * mpl.ratio;\n",
       "    var y = canvas_pos.y * mpl.ratio;\n",
       "\n",
       "    this.send_message(name, {x: x, y: y, button: event.button,\n",
       "                             step: event.step,\n",
       "                             guiEvent: simpleKeys(event)});\n",
       "\n",
       "    /* This prevents the web browser from automatically changing to\n",
       "     * the text insertion cursor when the button is pressed.  We want\n",
       "     * to control all of the cursor setting manually through the\n",
       "     * 'cursor' event from matplotlib */\n",
       "    event.preventDefault();\n",
       "    return false;\n",
       "}\n",
       "\n",
       "mpl.figure.prototype._key_event_extra = function(event, name) {\n",
       "    // Handle any extra behaviour associated with a key event\n",
       "}\n",
       "\n",
       "mpl.figure.prototype.key_event = function(event, name) {\n",
       "\n",
       "    // Prevent repeat events\n",
       "    if (name == 'key_press')\n",
       "    {\n",
       "        if (event.which === this._key)\n",
       "            return;\n",
       "        else\n",
       "            this._key = event.which;\n",
       "    }\n",
       "    if (name == 'key_release')\n",
       "        this._key = null;\n",
       "\n",
       "    var value = '';\n",
       "    if (event.ctrlKey && event.which != 17)\n",
       "        value += \"ctrl+\";\n",
       "    if (event.altKey && event.which != 18)\n",
       "        value += \"alt+\";\n",
       "    if (event.shiftKey && event.which != 16)\n",
       "        value += \"shift+\";\n",
       "\n",
       "    value += 'k';\n",
       "    value += event.which.toString();\n",
       "\n",
       "    this._key_event_extra(event, name);\n",
       "\n",
       "    this.send_message(name, {key: value,\n",
       "                             guiEvent: simpleKeys(event)});\n",
       "    return false;\n",
       "}\n",
       "\n",
       "mpl.figure.prototype.toolbar_button_onclick = function(name) {\n",
       "    if (name == 'download') {\n",
       "        this.handle_save(this, null);\n",
       "    } else {\n",
       "        this.send_message(\"toolbar_button\", {name: name});\n",
       "    }\n",
       "};\n",
       "\n",
       "mpl.figure.prototype.toolbar_button_onmouseover = function(tooltip) {\n",
       "    this.message.textContent = tooltip;\n",
       "};\n",
       "mpl.toolbar_items = [[\"Home\", \"Reset original view\", \"fa fa-home icon-home\", \"home\"], [\"Back\", \"Back to  previous view\", \"fa fa-arrow-left icon-arrow-left\", \"back\"], [\"Forward\", \"Forward to next view\", \"fa fa-arrow-right icon-arrow-right\", \"forward\"], [\"\", \"\", \"\", \"\"], [\"Pan\", \"Pan axes with left mouse, zoom with right\", \"fa fa-arrows icon-move\", \"pan\"], [\"Zoom\", \"Zoom to rectangle\", \"fa fa-square-o icon-check-empty\", \"zoom\"], [\"\", \"\", \"\", \"\"], [\"Download\", \"Download plot\", \"fa fa-floppy-o icon-save\", \"download\"]];\n",
       "\n",
       "mpl.extensions = [\"eps\", \"jpeg\", \"pdf\", \"png\", \"ps\", \"raw\", \"svg\", \"tif\"];\n",
       "\n",
       "mpl.default_extension = \"png\";var comm_websocket_adapter = function(comm) {\n",
       "    // Create a \"websocket\"-like object which calls the given IPython comm\n",
       "    // object with the appropriate methods. Currently this is a non binary\n",
       "    // socket, so there is still some room for performance tuning.\n",
       "    var ws = {};\n",
       "\n",
       "    ws.close = function() {\n",
       "        comm.close()\n",
       "    };\n",
       "    ws.send = function(m) {\n",
       "        //console.log('sending', m);\n",
       "        comm.send(m);\n",
       "    };\n",
       "    // Register the callback with on_msg.\n",
       "    comm.on_msg(function(msg) {\n",
       "        //console.log('receiving', msg['content']['data'], msg);\n",
       "        // Pass the mpl event to the overriden (by mpl) onmessage function.\n",
       "        ws.onmessage(msg['content']['data'])\n",
       "    });\n",
       "    return ws;\n",
       "}\n",
       "\n",
       "mpl.mpl_figure_comm = function(comm, msg) {\n",
       "    // This is the function which gets called when the mpl process\n",
       "    // starts-up an IPython Comm through the \"matplotlib\" channel.\n",
       "\n",
       "    var id = msg.content.data.id;\n",
       "    // Get hold of the div created by the display call when the Comm\n",
       "    // socket was opened in Python.\n",
       "    var element = $(\"#\" + id);\n",
       "    var ws_proxy = comm_websocket_adapter(comm)\n",
       "\n",
       "    function ondownload(figure, format) {\n",
       "        window.open(figure.imageObj.src);\n",
       "    }\n",
       "\n",
       "    var fig = new mpl.figure(id, ws_proxy,\n",
       "                           ondownload,\n",
       "                           element.get(0));\n",
       "\n",
       "    // Call onopen now - mpl needs it, as it is assuming we've passed it a real\n",
       "    // web socket which is closed, not our websocket->open comm proxy.\n",
       "    ws_proxy.onopen();\n",
       "\n",
       "    fig.parent_element = element.get(0);\n",
       "    fig.cell_info = mpl.find_output_cell(\"<div id='\" + id + \"'></div>\");\n",
       "    if (!fig.cell_info) {\n",
       "        console.error(\"Failed to find cell for figure\", id, fig);\n",
       "        return;\n",
       "    }\n",
       "\n",
       "    var output_index = fig.cell_info[2]\n",
       "    var cell = fig.cell_info[0];\n",
       "\n",
       "};\n",
       "\n",
       "mpl.figure.prototype.handle_close = function(fig, msg) {\n",
       "    var width = fig.canvas.width/mpl.ratio\n",
       "    fig.root.unbind('remove')\n",
       "\n",
       "    // Update the output cell to use the data from the current canvas.\n",
       "    fig.push_to_output();\n",
       "    var dataURL = fig.canvas.toDataURL();\n",
       "    // Re-enable the keyboard manager in IPython - without this line, in FF,\n",
       "    // the notebook keyboard shortcuts fail.\n",
       "    IPython.keyboard_manager.enable()\n",
       "    $(fig.parent_element).html('<img src=\"' + dataURL + '\" width=\"' + width + '\">');\n",
       "    fig.close_ws(fig, msg);\n",
       "}\n",
       "\n",
       "mpl.figure.prototype.close_ws = function(fig, msg){\n",
       "    fig.send_message('closing', msg);\n",
       "    // fig.ws.close()\n",
       "}\n",
       "\n",
       "mpl.figure.prototype.push_to_output = function(remove_interactive) {\n",
       "    // Turn the data on the canvas into data in the output cell.\n",
       "    var width = this.canvas.width/mpl.ratio\n",
       "    var dataURL = this.canvas.toDataURL();\n",
       "    this.cell_info[1]['text/html'] = '<img src=\"' + dataURL + '\" width=\"' + width + '\">';\n",
       "}\n",
       "\n",
       "mpl.figure.prototype.updated_canvas_event = function() {\n",
       "    // Tell IPython that the notebook contents must change.\n",
       "    IPython.notebook.set_dirty(true);\n",
       "    this.send_message(\"ack\", {});\n",
       "    var fig = this;\n",
       "    // Wait a second, then push the new image to the DOM so\n",
       "    // that it is saved nicely (might be nice to debounce this).\n",
       "    setTimeout(function () { fig.push_to_output() }, 1000);\n",
       "}\n",
       "\n",
       "mpl.figure.prototype._init_toolbar = function() {\n",
       "    var fig = this;\n",
       "\n",
       "    var nav_element = $('<div/>')\n",
       "    nav_element.attr('style', 'width: 100%');\n",
       "    this.root.append(nav_element);\n",
       "\n",
       "    // Define a callback function for later on.\n",
       "    function toolbar_event(event) {\n",
       "        return fig.toolbar_button_onclick(event['data']);\n",
       "    }\n",
       "    function toolbar_mouse_event(event) {\n",
       "        return fig.toolbar_button_onmouseover(event['data']);\n",
       "    }\n",
       "\n",
       "    for(var toolbar_ind in mpl.toolbar_items){\n",
       "        var name = mpl.toolbar_items[toolbar_ind][0];\n",
       "        var tooltip = mpl.toolbar_items[toolbar_ind][1];\n",
       "        var image = mpl.toolbar_items[toolbar_ind][2];\n",
       "        var method_name = mpl.toolbar_items[toolbar_ind][3];\n",
       "\n",
       "        if (!name) { continue; };\n",
       "\n",
       "        var button = $('<button class=\"btn btn-default\" href=\"#\" title=\"' + name + '\"><i class=\"fa ' + image + ' fa-lg\"></i></button>');\n",
       "        button.click(method_name, toolbar_event);\n",
       "        button.mouseover(tooltip, toolbar_mouse_event);\n",
       "        nav_element.append(button);\n",
       "    }\n",
       "\n",
       "    // Add the status bar.\n",
       "    var status_bar = $('<span class=\"mpl-message\" style=\"text-align:right; float: right;\"/>');\n",
       "    nav_element.append(status_bar);\n",
       "    this.message = status_bar[0];\n",
       "\n",
       "    // Add the close button to the window.\n",
       "    var buttongrp = $('<div class=\"btn-group inline pull-right\"></div>');\n",
       "    var button = $('<button class=\"btn btn-mini btn-primary\" href=\"#\" title=\"Stop Interaction\"><i class=\"fa fa-power-off icon-remove icon-large\"></i></button>');\n",
       "    button.click(function (evt) { fig.handle_close(fig, {}); } );\n",
       "    button.mouseover('Stop Interaction', toolbar_mouse_event);\n",
       "    buttongrp.append(button);\n",
       "    var titlebar = this.root.find($('.ui-dialog-titlebar'));\n",
       "    titlebar.prepend(buttongrp);\n",
       "}\n",
       "\n",
       "mpl.figure.prototype._root_extra_style = function(el){\n",
       "    var fig = this\n",
       "    el.on(\"remove\", function(){\n",
       "\tfig.close_ws(fig, {});\n",
       "    });\n",
       "}\n",
       "\n",
       "mpl.figure.prototype._canvas_extra_style = function(el){\n",
       "    // this is important to make the div 'focusable\n",
       "    el.attr('tabindex', 0)\n",
       "    // reach out to IPython and tell the keyboard manager to turn it's self\n",
       "    // off when our div gets focus\n",
       "\n",
       "    // location in version 3\n",
       "    if (IPython.notebook.keyboard_manager) {\n",
       "        IPython.notebook.keyboard_manager.register_events(el);\n",
       "    }\n",
       "    else {\n",
       "        // location in version 2\n",
       "        IPython.keyboard_manager.register_events(el);\n",
       "    }\n",
       "\n",
       "}\n",
       "\n",
       "mpl.figure.prototype._key_event_extra = function(event, name) {\n",
       "    var manager = IPython.notebook.keyboard_manager;\n",
       "    if (!manager)\n",
       "        manager = IPython.keyboard_manager;\n",
       "\n",
       "    // Check for shift+enter\n",
       "    if (event.shiftKey && event.which == 13) {\n",
       "        this.canvas_div.blur();\n",
       "        event.shiftKey = false;\n",
       "        // Send a \"J\" for go to next cell\n",
       "        event.which = 74;\n",
       "        event.keyCode = 74;\n",
       "        manager.command_mode();\n",
       "        manager.handle_keydown(event);\n",
       "    }\n",
       "}\n",
       "\n",
       "mpl.figure.prototype.handle_save = function(fig, msg) {\n",
       "    fig.ondownload(fig, null);\n",
       "}\n",
       "\n",
       "\n",
       "mpl.find_output_cell = function(html_output) {\n",
       "    // Return the cell and output element which can be found *uniquely* in the notebook.\n",
       "    // Note - this is a bit hacky, but it is done because the \"notebook_saving.Notebook\"\n",
       "    // IPython event is triggered only after the cells have been serialised, which for\n",
       "    // our purposes (turning an active figure into a static one), is too late.\n",
       "    var cells = IPython.notebook.get_cells();\n",
       "    var ncells = cells.length;\n",
       "    for (var i=0; i<ncells; i++) {\n",
       "        var cell = cells[i];\n",
       "        if (cell.cell_type === 'code'){\n",
       "            for (var j=0; j<cell.output_area.outputs.length; j++) {\n",
       "                var data = cell.output_area.outputs[j];\n",
       "                if (data.data) {\n",
       "                    // IPython >= 3 moved mimebundle to data attribute of output\n",
       "                    data = data.data;\n",
       "                }\n",
       "                if (data['text/html'] == html_output) {\n",
       "                    return [cell, data, j];\n",
       "                }\n",
       "            }\n",
       "        }\n",
       "    }\n",
       "}\n",
       "\n",
       "// Register the function which deals with the matplotlib target/channel.\n",
       "// The kernel may be null if the page has been refreshed.\n",
       "if (IPython.notebook.kernel != null) {\n",
       "    IPython.notebook.kernel.comm_manager.register_target('matplotlib', mpl.mpl_figure_comm);\n",
       "}\n"
      ],
      "text/plain": [
       "<IPython.core.display.Javascript object>"
      ]
     },
     "metadata": {},
     "output_type": "display_data"
    },
    {
     "data": {
      "text/html": [
       "<img src=\"data:image/png;base64,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\" width=\"640\">"
      ],
      "text/plain": [
       "<IPython.core.display.HTML object>"
      ]
     },
     "metadata": {},
     "output_type": "display_data"
    },
    {
     "data": {
      "text/plain": [
       "Text(0.5,0,'Living Area')"
      ]
     },
     "execution_count": 511,
     "metadata": {},
     "output_type": "execute_result"
    }
   ],
   "source": [
    "import matplotlib.pyplot as plt\n",
    "%matplotlib notebook\n",
    "\n",
    "plt.scatter(X_train['GrLivArea'],y_train)\n",
    "plt.ylabel('House Price')\n",
    "plt.xlabel('Living Area')"
   ]
  },
  {
   "cell_type": "markdown",
   "metadata": {},
   "source": [
    "The plot above shows that there is an outlier beyond 4500 sqaure feet.  So, I'm going to delete that point."
   ]
  },
  {
   "cell_type": "code",
   "execution_count": 512,
   "metadata": {
    "collapsed": true
   },
   "outputs": [],
   "source": [
    "def remove_outlier():\n",
    "    mask = X_train['GrLivArea'] < 4500\n",
    "    X_train_better = X_train[mask]\n",
    "    y_train_better = y_train[mask]\n",
    "    \n",
    "    return X_train_better, y_train_better\n"
   ]
  },
  {
   "cell_type": "code",
   "execution_count": 513,
   "metadata": {
    "collapsed": true
   },
   "outputs": [],
   "source": [
    "X_train, y_train = remove_outlier()"
   ]
  },
  {
   "cell_type": "code",
   "execution_count": 514,
   "metadata": {
    "collapsed": false
   },
   "outputs": [
    {
     "data": {
      "text/plain": [
       "Text(0.5,23.5222,'Living Area')"
      ]
     },
     "execution_count": 514,
     "metadata": {},
     "output_type": "execute_result"
    }
   ],
   "source": [
    "plt.scatter(X_train['GrLivArea'],y_train)\n",
    "plt.ylabel('House Price')\n",
    "plt.xlabel('Living Area')"
   ]
  },
  {
   "cell_type": "code",
   "execution_count": 519,
   "metadata": {
    "collapsed": false
   },
   "outputs": [
    {
     "name": "stdout",
     "output_type": "stream",
     "text": [
      "Training set score: 0.94\n",
      "Test set score: 0.71\n"
     ]
    }
   ],
   "source": [
    "linridge10 = Ridge(alpha=10).fit(X_train,y_train)\n",
    "print(\"Training set score: {:.2f}\".format(linridge10.score(X_train, y_train)))\n",
    "print(\"Test set score: {:.2f}\".format(linridge10.score(X_test, y_test)))"
   ]
  },
  {
   "cell_type": "code",
   "execution_count": 523,
   "metadata": {
    "collapsed": false
   },
   "outputs": [
    {
     "data": {
      "application/javascript": [
       "/* Put everything inside the global mpl namespace */\n",
       "window.mpl = {};\n",
       "\n",
       "\n",
       "mpl.get_websocket_type = function() {\n",
       "    if (typeof(WebSocket) !== 'undefined') {\n",
       "        return WebSocket;\n",
       "    } else if (typeof(MozWebSocket) !== 'undefined') {\n",
       "        return MozWebSocket;\n",
       "    } else {\n",
       "        alert('Your browser does not have WebSocket support.' +\n",
       "              'Please try Chrome, Safari or Firefox ≥ 6. ' +\n",
       "              'Firefox 4 and 5 are also supported but you ' +\n",
       "              'have to enable WebSockets in about:config.');\n",
       "    };\n",
       "}\n",
       "\n",
       "mpl.figure = function(figure_id, websocket, ondownload, parent_element) {\n",
       "    this.id = figure_id;\n",
       "\n",
       "    this.ws = websocket;\n",
       "\n",
       "    this.supports_binary = (this.ws.binaryType != undefined);\n",
       "\n",
       "    if (!this.supports_binary) {\n",
       "        var warnings = document.getElementById(\"mpl-warnings\");\n",
       "        if (warnings) {\n",
       "            warnings.style.display = 'block';\n",
       "            warnings.textContent = (\n",
       "                \"This browser does not support binary websocket messages. \" +\n",
       "                    \"Performance may be slow.\");\n",
       "        }\n",
       "    }\n",
       "\n",
       "    this.imageObj = new Image();\n",
       "\n",
       "    this.context = undefined;\n",
       "    this.message = undefined;\n",
       "    this.canvas = undefined;\n",
       "    this.rubberband_canvas = undefined;\n",
       "    this.rubberband_context = undefined;\n",
       "    this.format_dropdown = undefined;\n",
       "\n",
       "    this.image_mode = 'full';\n",
       "\n",
       "    this.root = $('<div/>');\n",
       "    this._root_extra_style(this.root)\n",
       "    this.root.attr('style', 'display: inline-block');\n",
       "\n",
       "    $(parent_element).append(this.root);\n",
       "\n",
       "    this._init_header(this);\n",
       "    this._init_canvas(this);\n",
       "    this._init_toolbar(this);\n",
       "\n",
       "    var fig = this;\n",
       "\n",
       "    this.waiting = false;\n",
       "\n",
       "    this.ws.onopen =  function () {\n",
       "            fig.send_message(\"supports_binary\", {value: fig.supports_binary});\n",
       "            fig.send_message(\"send_image_mode\", {});\n",
       "            if (mpl.ratio != 1) {\n",
       "                fig.send_message(\"set_dpi_ratio\", {'dpi_ratio': mpl.ratio});\n",
       "            }\n",
       "            fig.send_message(\"refresh\", {});\n",
       "        }\n",
       "\n",
       "    this.imageObj.onload = function() {\n",
       "            if (fig.image_mode == 'full') {\n",
       "                // Full images could contain transparency (where diff images\n",
       "                // almost always do), so we need to clear the canvas so that\n",
       "                // there is no ghosting.\n",
       "                fig.context.clearRect(0, 0, fig.canvas.width, fig.canvas.height);\n",
       "            }\n",
       "            fig.context.drawImage(fig.imageObj, 0, 0);\n",
       "        };\n",
       "\n",
       "    this.imageObj.onunload = function() {\n",
       "        fig.ws.close();\n",
       "    }\n",
       "\n",
       "    this.ws.onmessage = this._make_on_message_function(this);\n",
       "\n",
       "    this.ondownload = ondownload;\n",
       "}\n",
       "\n",
       "mpl.figure.prototype._init_header = function() {\n",
       "    var titlebar = $(\n",
       "        '<div class=\"ui-dialog-titlebar ui-widget-header ui-corner-all ' +\n",
       "        'ui-helper-clearfix\"/>');\n",
       "    var titletext = $(\n",
       "        '<div class=\"ui-dialog-title\" style=\"width: 100%; ' +\n",
       "        'text-align: center; padding: 3px;\"/>');\n",
       "    titlebar.append(titletext)\n",
       "    this.root.append(titlebar);\n",
       "    this.header = titletext[0];\n",
       "}\n",
       "\n",
       "\n",
       "\n",
       "mpl.figure.prototype._canvas_extra_style = function(canvas_div) {\n",
       "\n",
       "}\n",
       "\n",
       "\n",
       "mpl.figure.prototype._root_extra_style = function(canvas_div) {\n",
       "\n",
       "}\n",
       "\n",
       "mpl.figure.prototype._init_canvas = function() {\n",
       "    var fig = this;\n",
       "\n",
       "    var canvas_div = $('<div/>');\n",
       "\n",
       "    canvas_div.attr('style', 'position: relative; clear: both; outline: 0');\n",
       "\n",
       "    function canvas_keyboard_event(event) {\n",
       "        return fig.key_event(event, event['data']);\n",
       "    }\n",
       "\n",
       "    canvas_div.keydown('key_press', canvas_keyboard_event);\n",
       "    canvas_div.keyup('key_release', canvas_keyboard_event);\n",
       "    this.canvas_div = canvas_div\n",
       "    this._canvas_extra_style(canvas_div)\n",
       "    this.root.append(canvas_div);\n",
       "\n",
       "    var canvas = $('<canvas/>');\n",
       "    canvas.addClass('mpl-canvas');\n",
       "    canvas.attr('style', \"left: 0; top: 0; z-index: 0; outline: 0\")\n",
       "\n",
       "    this.canvas = canvas[0];\n",
       "    this.context = canvas[0].getContext(\"2d\");\n",
       "\n",
       "    var backingStore = this.context.backingStorePixelRatio ||\n",
       "\tthis.context.webkitBackingStorePixelRatio ||\n",
       "\tthis.context.mozBackingStorePixelRatio ||\n",
       "\tthis.context.msBackingStorePixelRatio ||\n",
       "\tthis.context.oBackingStorePixelRatio ||\n",
       "\tthis.context.backingStorePixelRatio || 1;\n",
       "\n",
       "    mpl.ratio = (window.devicePixelRatio || 1) / backingStore;\n",
       "\n",
       "    var rubberband = $('<canvas/>');\n",
       "    rubberband.attr('style', \"position: absolute; left: 0; top: 0; z-index: 1;\")\n",
       "\n",
       "    var pass_mouse_events = true;\n",
       "\n",
       "    canvas_div.resizable({\n",
       "        start: function(event, ui) {\n",
       "            pass_mouse_events = false;\n",
       "        },\n",
       "        resize: function(event, ui) {\n",
       "            fig.request_resize(ui.size.width, ui.size.height);\n",
       "        },\n",
       "        stop: function(event, ui) {\n",
       "            pass_mouse_events = true;\n",
       "            fig.request_resize(ui.size.width, ui.size.height);\n",
       "        },\n",
       "    });\n",
       "\n",
       "    function mouse_event_fn(event) {\n",
       "        if (pass_mouse_events)\n",
       "            return fig.mouse_event(event, event['data']);\n",
       "    }\n",
       "\n",
       "    rubberband.mousedown('button_press', mouse_event_fn);\n",
       "    rubberband.mouseup('button_release', mouse_event_fn);\n",
       "    // Throttle sequential mouse events to 1 every 20ms.\n",
       "    rubberband.mousemove('motion_notify', mouse_event_fn);\n",
       "\n",
       "    rubberband.mouseenter('figure_enter', mouse_event_fn);\n",
       "    rubberband.mouseleave('figure_leave', mouse_event_fn);\n",
       "\n",
       "    canvas_div.on(\"wheel\", function (event) {\n",
       "        event = event.originalEvent;\n",
       "        event['data'] = 'scroll'\n",
       "        if (event.deltaY < 0) {\n",
       "            event.step = 1;\n",
       "        } else {\n",
       "            event.step = -1;\n",
       "        }\n",
       "        mouse_event_fn(event);\n",
       "    });\n",
       "\n",
       "    canvas_div.append(canvas);\n",
       "    canvas_div.append(rubberband);\n",
       "\n",
       "    this.rubberband = rubberband;\n",
       "    this.rubberband_canvas = rubberband[0];\n",
       "    this.rubberband_context = rubberband[0].getContext(\"2d\");\n",
       "    this.rubberband_context.strokeStyle = \"#000000\";\n",
       "\n",
       "    this._resize_canvas = function(width, height) {\n",
       "        // Keep the size of the canvas, canvas container, and rubber band\n",
       "        // canvas in synch.\n",
       "        canvas_div.css('width', width)\n",
       "        canvas_div.css('height', height)\n",
       "\n",
       "        canvas.attr('width', width * mpl.ratio);\n",
       "        canvas.attr('height', height * mpl.ratio);\n",
       "        canvas.attr('style', 'width: ' + width + 'px; height: ' + height + 'px;');\n",
       "\n",
       "        rubberband.attr('width', width);\n",
       "        rubberband.attr('height', height);\n",
       "    }\n",
       "\n",
       "    // Set the figure to an initial 600x600px, this will subsequently be updated\n",
       "    // upon first draw.\n",
       "    this._resize_canvas(600, 600);\n",
       "\n",
       "    // Disable right mouse context menu.\n",
       "    $(this.rubberband_canvas).bind(\"contextmenu\",function(e){\n",
       "        return false;\n",
       "    });\n",
       "\n",
       "    function set_focus () {\n",
       "        canvas.focus();\n",
       "        canvas_div.focus();\n",
       "    }\n",
       "\n",
       "    window.setTimeout(set_focus, 100);\n",
       "}\n",
       "\n",
       "mpl.figure.prototype._init_toolbar = function() {\n",
       "    var fig = this;\n",
       "\n",
       "    var nav_element = $('<div/>')\n",
       "    nav_element.attr('style', 'width: 100%');\n",
       "    this.root.append(nav_element);\n",
       "\n",
       "    // Define a callback function for later on.\n",
       "    function toolbar_event(event) {\n",
       "        return fig.toolbar_button_onclick(event['data']);\n",
       "    }\n",
       "    function toolbar_mouse_event(event) {\n",
       "        return fig.toolbar_button_onmouseover(event['data']);\n",
       "    }\n",
       "\n",
       "    for(var toolbar_ind in mpl.toolbar_items) {\n",
       "        var name = mpl.toolbar_items[toolbar_ind][0];\n",
       "        var tooltip = mpl.toolbar_items[toolbar_ind][1];\n",
       "        var image = mpl.toolbar_items[toolbar_ind][2];\n",
       "        var method_name = mpl.toolbar_items[toolbar_ind][3];\n",
       "\n",
       "        if (!name) {\n",
       "            // put a spacer in here.\n",
       "            continue;\n",
       "        }\n",
       "        var button = $('<button/>');\n",
       "        button.addClass('ui-button ui-widget ui-state-default ui-corner-all ' +\n",
       "                        'ui-button-icon-only');\n",
       "        button.attr('role', 'button');\n",
       "        button.attr('aria-disabled', 'false');\n",
       "        button.click(method_name, toolbar_event);\n",
       "        button.mouseover(tooltip, toolbar_mouse_event);\n",
       "\n",
       "        var icon_img = $('<span/>');\n",
       "        icon_img.addClass('ui-button-icon-primary ui-icon');\n",
       "        icon_img.addClass(image);\n",
       "        icon_img.addClass('ui-corner-all');\n",
       "\n",
       "        var tooltip_span = $('<span/>');\n",
       "        tooltip_span.addClass('ui-button-text');\n",
       "        tooltip_span.html(tooltip);\n",
       "\n",
       "        button.append(icon_img);\n",
       "        button.append(tooltip_span);\n",
       "\n",
       "        nav_element.append(button);\n",
       "    }\n",
       "\n",
       "    var fmt_picker_span = $('<span/>');\n",
       "\n",
       "    var fmt_picker = $('<select/>');\n",
       "    fmt_picker.addClass('mpl-toolbar-option ui-widget ui-widget-content');\n",
       "    fmt_picker_span.append(fmt_picker);\n",
       "    nav_element.append(fmt_picker_span);\n",
       "    this.format_dropdown = fmt_picker[0];\n",
       "\n",
       "    for (var ind in mpl.extensions) {\n",
       "        var fmt = mpl.extensions[ind];\n",
       "        var option = $(\n",
       "            '<option/>', {selected: fmt === mpl.default_extension}).html(fmt);\n",
       "        fmt_picker.append(option)\n",
       "    }\n",
       "\n",
       "    // Add hover states to the ui-buttons\n",
       "    $( \".ui-button\" ).hover(\n",
       "        function() { $(this).addClass(\"ui-state-hover\");},\n",
       "        function() { $(this).removeClass(\"ui-state-hover\");}\n",
       "    );\n",
       "\n",
       "    var status_bar = $('<span class=\"mpl-message\"/>');\n",
       "    nav_element.append(status_bar);\n",
       "    this.message = status_bar[0];\n",
       "}\n",
       "\n",
       "mpl.figure.prototype.request_resize = function(x_pixels, y_pixels) {\n",
       "    // Request matplotlib to resize the figure. Matplotlib will then trigger a resize in the client,\n",
       "    // which will in turn request a refresh of the image.\n",
       "    this.send_message('resize', {'width': x_pixels, 'height': y_pixels});\n",
       "}\n",
       "\n",
       "mpl.figure.prototype.send_message = function(type, properties) {\n",
       "    properties['type'] = type;\n",
       "    properties['figure_id'] = this.id;\n",
       "    this.ws.send(JSON.stringify(properties));\n",
       "}\n",
       "\n",
       "mpl.figure.prototype.send_draw_message = function() {\n",
       "    if (!this.waiting) {\n",
       "        this.waiting = true;\n",
       "        this.ws.send(JSON.stringify({type: \"draw\", figure_id: this.id}));\n",
       "    }\n",
       "}\n",
       "\n",
       "\n",
       "mpl.figure.prototype.handle_save = function(fig, msg) {\n",
       "    var format_dropdown = fig.format_dropdown;\n",
       "    var format = format_dropdown.options[format_dropdown.selectedIndex].value;\n",
       "    fig.ondownload(fig, format);\n",
       "}\n",
       "\n",
       "\n",
       "mpl.figure.prototype.handle_resize = function(fig, msg) {\n",
       "    var size = msg['size'];\n",
       "    if (size[0] != fig.canvas.width || size[1] != fig.canvas.height) {\n",
       "        fig._resize_canvas(size[0], size[1]);\n",
       "        fig.send_message(\"refresh\", {});\n",
       "    };\n",
       "}\n",
       "\n",
       "mpl.figure.prototype.handle_rubberband = function(fig, msg) {\n",
       "    var x0 = msg['x0'] / mpl.ratio;\n",
       "    var y0 = (fig.canvas.height - msg['y0']) / mpl.ratio;\n",
       "    var x1 = msg['x1'] / mpl.ratio;\n",
       "    var y1 = (fig.canvas.height - msg['y1']) / mpl.ratio;\n",
       "    x0 = Math.floor(x0) + 0.5;\n",
       "    y0 = Math.floor(y0) + 0.5;\n",
       "    x1 = Math.floor(x1) + 0.5;\n",
       "    y1 = Math.floor(y1) + 0.5;\n",
       "    var min_x = Math.min(x0, x1);\n",
       "    var min_y = Math.min(y0, y1);\n",
       "    var width = Math.abs(x1 - x0);\n",
       "    var height = Math.abs(y1 - y0);\n",
       "\n",
       "    fig.rubberband_context.clearRect(\n",
       "        0, 0, fig.canvas.width, fig.canvas.height);\n",
       "\n",
       "    fig.rubberband_context.strokeRect(min_x, min_y, width, height);\n",
       "}\n",
       "\n",
       "mpl.figure.prototype.handle_figure_label = function(fig, msg) {\n",
       "    // Updates the figure title.\n",
       "    fig.header.textContent = msg['label'];\n",
       "}\n",
       "\n",
       "mpl.figure.prototype.handle_cursor = function(fig, msg) {\n",
       "    var cursor = msg['cursor'];\n",
       "    switch(cursor)\n",
       "    {\n",
       "    case 0:\n",
       "        cursor = 'pointer';\n",
       "        break;\n",
       "    case 1:\n",
       "        cursor = 'default';\n",
       "        break;\n",
       "    case 2:\n",
       "        cursor = 'crosshair';\n",
       "        break;\n",
       "    case 3:\n",
       "        cursor = 'move';\n",
       "        break;\n",
       "    }\n",
       "    fig.rubberband_canvas.style.cursor = cursor;\n",
       "}\n",
       "\n",
       "mpl.figure.prototype.handle_message = function(fig, msg) {\n",
       "    fig.message.textContent = msg['message'];\n",
       "}\n",
       "\n",
       "mpl.figure.prototype.handle_draw = function(fig, msg) {\n",
       "    // Request the server to send over a new figure.\n",
       "    fig.send_draw_message();\n",
       "}\n",
       "\n",
       "mpl.figure.prototype.handle_image_mode = function(fig, msg) {\n",
       "    fig.image_mode = msg['mode'];\n",
       "}\n",
       "\n",
       "mpl.figure.prototype.updated_canvas_event = function() {\n",
       "    // Called whenever the canvas gets updated.\n",
       "    this.send_message(\"ack\", {});\n",
       "}\n",
       "\n",
       "// A function to construct a web socket function for onmessage handling.\n",
       "// Called in the figure constructor.\n",
       "mpl.figure.prototype._make_on_message_function = function(fig) {\n",
       "    return function socket_on_message(evt) {\n",
       "        if (evt.data instanceof Blob) {\n",
       "            /* FIXME: We get \"Resource interpreted as Image but\n",
       "             * transferred with MIME type text/plain:\" errors on\n",
       "             * Chrome.  But how to set the MIME type?  It doesn't seem\n",
       "             * to be part of the websocket stream */\n",
       "            evt.data.type = \"image/png\";\n",
       "\n",
       "            /* Free the memory for the previous frames */\n",
       "            if (fig.imageObj.src) {\n",
       "                (window.URL || window.webkitURL).revokeObjectURL(\n",
       "                    fig.imageObj.src);\n",
       "            }\n",
       "\n",
       "            fig.imageObj.src = (window.URL || window.webkitURL).createObjectURL(\n",
       "                evt.data);\n",
       "            fig.updated_canvas_event();\n",
       "            fig.waiting = false;\n",
       "            return;\n",
       "        }\n",
       "        else if (typeof evt.data === 'string' && evt.data.slice(0, 21) == \"data:image/png;base64\") {\n",
       "            fig.imageObj.src = evt.data;\n",
       "            fig.updated_canvas_event();\n",
       "            fig.waiting = false;\n",
       "            return;\n",
       "        }\n",
       "\n",
       "        var msg = JSON.parse(evt.data);\n",
       "        var msg_type = msg['type'];\n",
       "\n",
       "        // Call the  \"handle_{type}\" callback, which takes\n",
       "        // the figure and JSON message as its only arguments.\n",
       "        try {\n",
       "            var callback = fig[\"handle_\" + msg_type];\n",
       "        } catch (e) {\n",
       "            console.log(\"No handler for the '\" + msg_type + \"' message type: \", msg);\n",
       "            return;\n",
       "        }\n",
       "\n",
       "        if (callback) {\n",
       "            try {\n",
       "                // console.log(\"Handling '\" + msg_type + \"' message: \", msg);\n",
       "                callback(fig, msg);\n",
       "            } catch (e) {\n",
       "                console.log(\"Exception inside the 'handler_\" + msg_type + \"' callback:\", e, e.stack, msg);\n",
       "            }\n",
       "        }\n",
       "    };\n",
       "}\n",
       "\n",
       "// from http://stackoverflow.com/questions/1114465/getting-mouse-location-in-canvas\n",
       "mpl.findpos = function(e) {\n",
       "    //this section is from http://www.quirksmode.org/js/events_properties.html\n",
       "    var targ;\n",
       "    if (!e)\n",
       "        e = window.event;\n",
       "    if (e.target)\n",
       "        targ = e.target;\n",
       "    else if (e.srcElement)\n",
       "        targ = e.srcElement;\n",
       "    if (targ.nodeType == 3) // defeat Safari bug\n",
       "        targ = targ.parentNode;\n",
       "\n",
       "    // jQuery normalizes the pageX and pageY\n",
       "    // pageX,Y are the mouse positions relative to the document\n",
       "    // offset() returns the position of the element relative to the document\n",
       "    var x = e.pageX - $(targ).offset().left;\n",
       "    var y = e.pageY - $(targ).offset().top;\n",
       "\n",
       "    return {\"x\": x, \"y\": y};\n",
       "};\n",
       "\n",
       "/*\n",
       " * return a copy of an object with only non-object keys\n",
       " * we need this to avoid circular references\n",
       " * http://stackoverflow.com/a/24161582/3208463\n",
       " */\n",
       "function simpleKeys (original) {\n",
       "  return Object.keys(original).reduce(function (obj, key) {\n",
       "    if (typeof original[key] !== 'object')\n",
       "        obj[key] = original[key]\n",
       "    return obj;\n",
       "  }, {});\n",
       "}\n",
       "\n",
       "mpl.figure.prototype.mouse_event = function(event, name) {\n",
       "    var canvas_pos = mpl.findpos(event)\n",
       "\n",
       "    if (name === 'button_press')\n",
       "    {\n",
       "        this.canvas.focus();\n",
       "        this.canvas_div.focus();\n",
       "    }\n",
       "\n",
       "    var x = canvas_pos.x * mpl.ratio;\n",
       "    var y = canvas_pos.y * mpl.ratio;\n",
       "\n",
       "    this.send_message(name, {x: x, y: y, button: event.button,\n",
       "                             step: event.step,\n",
       "                             guiEvent: simpleKeys(event)});\n",
       "\n",
       "    /* This prevents the web browser from automatically changing to\n",
       "     * the text insertion cursor when the button is pressed.  We want\n",
       "     * to control all of the cursor setting manually through the\n",
       "     * 'cursor' event from matplotlib */\n",
       "    event.preventDefault();\n",
       "    return false;\n",
       "}\n",
       "\n",
       "mpl.figure.prototype._key_event_extra = function(event, name) {\n",
       "    // Handle any extra behaviour associated with a key event\n",
       "}\n",
       "\n",
       "mpl.figure.prototype.key_event = function(event, name) {\n",
       "\n",
       "    // Prevent repeat events\n",
       "    if (name == 'key_press')\n",
       "    {\n",
       "        if (event.which === this._key)\n",
       "            return;\n",
       "        else\n",
       "            this._key = event.which;\n",
       "    }\n",
       "    if (name == 'key_release')\n",
       "        this._key = null;\n",
       "\n",
       "    var value = '';\n",
       "    if (event.ctrlKey && event.which != 17)\n",
       "        value += \"ctrl+\";\n",
       "    if (event.altKey && event.which != 18)\n",
       "        value += \"alt+\";\n",
       "    if (event.shiftKey && event.which != 16)\n",
       "        value += \"shift+\";\n",
       "\n",
       "    value += 'k';\n",
       "    value += event.which.toString();\n",
       "\n",
       "    this._key_event_extra(event, name);\n",
       "\n",
       "    this.send_message(name, {key: value,\n",
       "                             guiEvent: simpleKeys(event)});\n",
       "    return false;\n",
       "}\n",
       "\n",
       "mpl.figure.prototype.toolbar_button_onclick = function(name) {\n",
       "    if (name == 'download') {\n",
       "        this.handle_save(this, null);\n",
       "    } else {\n",
       "        this.send_message(\"toolbar_button\", {name: name});\n",
       "    }\n",
       "};\n",
       "\n",
       "mpl.figure.prototype.toolbar_button_onmouseover = function(tooltip) {\n",
       "    this.message.textContent = tooltip;\n",
       "};\n",
       "mpl.toolbar_items = [[\"Home\", \"Reset original view\", \"fa fa-home icon-home\", \"home\"], [\"Back\", \"Back to  previous view\", \"fa fa-arrow-left icon-arrow-left\", \"back\"], [\"Forward\", \"Forward to next view\", \"fa fa-arrow-right icon-arrow-right\", \"forward\"], [\"\", \"\", \"\", \"\"], [\"Pan\", \"Pan axes with left mouse, zoom with right\", \"fa fa-arrows icon-move\", \"pan\"], [\"Zoom\", \"Zoom to rectangle\", \"fa fa-square-o icon-check-empty\", \"zoom\"], [\"\", \"\", \"\", \"\"], [\"Download\", \"Download plot\", \"fa fa-floppy-o icon-save\", \"download\"]];\n",
       "\n",
       "mpl.extensions = [\"eps\", \"jpeg\", \"pdf\", \"png\", \"ps\", \"raw\", \"svg\", \"tif\"];\n",
       "\n",
       "mpl.default_extension = \"png\";var comm_websocket_adapter = function(comm) {\n",
       "    // Create a \"websocket\"-like object which calls the given IPython comm\n",
       "    // object with the appropriate methods. Currently this is a non binary\n",
       "    // socket, so there is still some room for performance tuning.\n",
       "    var ws = {};\n",
       "\n",
       "    ws.close = function() {\n",
       "        comm.close()\n",
       "    };\n",
       "    ws.send = function(m) {\n",
       "        //console.log('sending', m);\n",
       "        comm.send(m);\n",
       "    };\n",
       "    // Register the callback with on_msg.\n",
       "    comm.on_msg(function(msg) {\n",
       "        //console.log('receiving', msg['content']['data'], msg);\n",
       "        // Pass the mpl event to the overriden (by mpl) onmessage function.\n",
       "        ws.onmessage(msg['content']['data'])\n",
       "    });\n",
       "    return ws;\n",
       "}\n",
       "\n",
       "mpl.mpl_figure_comm = function(comm, msg) {\n",
       "    // This is the function which gets called when the mpl process\n",
       "    // starts-up an IPython Comm through the \"matplotlib\" channel.\n",
       "\n",
       "    var id = msg.content.data.id;\n",
       "    // Get hold of the div created by the display call when the Comm\n",
       "    // socket was opened in Python.\n",
       "    var element = $(\"#\" + id);\n",
       "    var ws_proxy = comm_websocket_adapter(comm)\n",
       "\n",
       "    function ondownload(figure, format) {\n",
       "        window.open(figure.imageObj.src);\n",
       "    }\n",
       "\n",
       "    var fig = new mpl.figure(id, ws_proxy,\n",
       "                           ondownload,\n",
       "                           element.get(0));\n",
       "\n",
       "    // Call onopen now - mpl needs it, as it is assuming we've passed it a real\n",
       "    // web socket which is closed, not our websocket->open comm proxy.\n",
       "    ws_proxy.onopen();\n",
       "\n",
       "    fig.parent_element = element.get(0);\n",
       "    fig.cell_info = mpl.find_output_cell(\"<div id='\" + id + \"'></div>\");\n",
       "    if (!fig.cell_info) {\n",
       "        console.error(\"Failed to find cell for figure\", id, fig);\n",
       "        return;\n",
       "    }\n",
       "\n",
       "    var output_index = fig.cell_info[2]\n",
       "    var cell = fig.cell_info[0];\n",
       "\n",
       "};\n",
       "\n",
       "mpl.figure.prototype.handle_close = function(fig, msg) {\n",
       "    var width = fig.canvas.width/mpl.ratio\n",
       "    fig.root.unbind('remove')\n",
       "\n",
       "    // Update the output cell to use the data from the current canvas.\n",
       "    fig.push_to_output();\n",
       "    var dataURL = fig.canvas.toDataURL();\n",
       "    // Re-enable the keyboard manager in IPython - without this line, in FF,\n",
       "    // the notebook keyboard shortcuts fail.\n",
       "    IPython.keyboard_manager.enable()\n",
       "    $(fig.parent_element).html('<img src=\"' + dataURL + '\" width=\"' + width + '\">');\n",
       "    fig.close_ws(fig, msg);\n",
       "}\n",
       "\n",
       "mpl.figure.prototype.close_ws = function(fig, msg){\n",
       "    fig.send_message('closing', msg);\n",
       "    // fig.ws.close()\n",
       "}\n",
       "\n",
       "mpl.figure.prototype.push_to_output = function(remove_interactive) {\n",
       "    // Turn the data on the canvas into data in the output cell.\n",
       "    var width = this.canvas.width/mpl.ratio\n",
       "    var dataURL = this.canvas.toDataURL();\n",
       "    this.cell_info[1]['text/html'] = '<img src=\"' + dataURL + '\" width=\"' + width + '\">';\n",
       "}\n",
       "\n",
       "mpl.figure.prototype.updated_canvas_event = function() {\n",
       "    // Tell IPython that the notebook contents must change.\n",
       "    IPython.notebook.set_dirty(true);\n",
       "    this.send_message(\"ack\", {});\n",
       "    var fig = this;\n",
       "    // Wait a second, then push the new image to the DOM so\n",
       "    // that it is saved nicely (might be nice to debounce this).\n",
       "    setTimeout(function () { fig.push_to_output() }, 1000);\n",
       "}\n",
       "\n",
       "mpl.figure.prototype._init_toolbar = function() {\n",
       "    var fig = this;\n",
       "\n",
       "    var nav_element = $('<div/>')\n",
       "    nav_element.attr('style', 'width: 100%');\n",
       "    this.root.append(nav_element);\n",
       "\n",
       "    // Define a callback function for later on.\n",
       "    function toolbar_event(event) {\n",
       "        return fig.toolbar_button_onclick(event['data']);\n",
       "    }\n",
       "    function toolbar_mouse_event(event) {\n",
       "        return fig.toolbar_button_onmouseover(event['data']);\n",
       "    }\n",
       "\n",
       "    for(var toolbar_ind in mpl.toolbar_items){\n",
       "        var name = mpl.toolbar_items[toolbar_ind][0];\n",
       "        var tooltip = mpl.toolbar_items[toolbar_ind][1];\n",
       "        var image = mpl.toolbar_items[toolbar_ind][2];\n",
       "        var method_name = mpl.toolbar_items[toolbar_ind][3];\n",
       "\n",
       "        if (!name) { continue; };\n",
       "\n",
       "        var button = $('<button class=\"btn btn-default\" href=\"#\" title=\"' + name + '\"><i class=\"fa ' + image + ' fa-lg\"></i></button>');\n",
       "        button.click(method_name, toolbar_event);\n",
       "        button.mouseover(tooltip, toolbar_mouse_event);\n",
       "        nav_element.append(button);\n",
       "    }\n",
       "\n",
       "    // Add the status bar.\n",
       "    var status_bar = $('<span class=\"mpl-message\" style=\"text-align:right; float: right;\"/>');\n",
       "    nav_element.append(status_bar);\n",
       "    this.message = status_bar[0];\n",
       "\n",
       "    // Add the close button to the window.\n",
       "    var buttongrp = $('<div class=\"btn-group inline pull-right\"></div>');\n",
       "    var button = $('<button class=\"btn btn-mini btn-primary\" href=\"#\" title=\"Stop Interaction\"><i class=\"fa fa-power-off icon-remove icon-large\"></i></button>');\n",
       "    button.click(function (evt) { fig.handle_close(fig, {}); } );\n",
       "    button.mouseover('Stop Interaction', toolbar_mouse_event);\n",
       "    buttongrp.append(button);\n",
       "    var titlebar = this.root.find($('.ui-dialog-titlebar'));\n",
       "    titlebar.prepend(buttongrp);\n",
       "}\n",
       "\n",
       "mpl.figure.prototype._root_extra_style = function(el){\n",
       "    var fig = this\n",
       "    el.on(\"remove\", function(){\n",
       "\tfig.close_ws(fig, {});\n",
       "    });\n",
       "}\n",
       "\n",
       "mpl.figure.prototype._canvas_extra_style = function(el){\n",
       "    // this is important to make the div 'focusable\n",
       "    el.attr('tabindex', 0)\n",
       "    // reach out to IPython and tell the keyboard manager to turn it's self\n",
       "    // off when our div gets focus\n",
       "\n",
       "    // location in version 3\n",
       "    if (IPython.notebook.keyboard_manager) {\n",
       "        IPython.notebook.keyboard_manager.register_events(el);\n",
       "    }\n",
       "    else {\n",
       "        // location in version 2\n",
       "        IPython.keyboard_manager.register_events(el);\n",
       "    }\n",
       "\n",
       "}\n",
       "\n",
       "mpl.figure.prototype._key_event_extra = function(event, name) {\n",
       "    var manager = IPython.notebook.keyboard_manager;\n",
       "    if (!manager)\n",
       "        manager = IPython.keyboard_manager;\n",
       "\n",
       "    // Check for shift+enter\n",
       "    if (event.shiftKey && event.which == 13) {\n",
       "        this.canvas_div.blur();\n",
       "        event.shiftKey = false;\n",
       "        // Send a \"J\" for go to next cell\n",
       "        event.which = 74;\n",
       "        event.keyCode = 74;\n",
       "        manager.command_mode();\n",
       "        manager.handle_keydown(event);\n",
       "    }\n",
       "}\n",
       "\n",
       "mpl.figure.prototype.handle_save = function(fig, msg) {\n",
       "    fig.ondownload(fig, null);\n",
       "}\n",
       "\n",
       "\n",
       "mpl.find_output_cell = function(html_output) {\n",
       "    // Return the cell and output element which can be found *uniquely* in the notebook.\n",
       "    // Note - this is a bit hacky, but it is done because the \"notebook_saving.Notebook\"\n",
       "    // IPython event is triggered only after the cells have been serialised, which for\n",
       "    // our purposes (turning an active figure into a static one), is too late.\n",
       "    var cells = IPython.notebook.get_cells();\n",
       "    var ncells = cells.length;\n",
       "    for (var i=0; i<ncells; i++) {\n",
       "        var cell = cells[i];\n",
       "        if (cell.cell_type === 'code'){\n",
       "            for (var j=0; j<cell.output_area.outputs.length; j++) {\n",
       "                var data = cell.output_area.outputs[j];\n",
       "                if (data.data) {\n",
       "                    // IPython >= 3 moved mimebundle to data attribute of output\n",
       "                    data = data.data;\n",
       "                }\n",
       "                if (data['text/html'] == html_output) {\n",
       "                    return [cell, data, j];\n",
       "                }\n",
       "            }\n",
       "        }\n",
       "    }\n",
       "}\n",
       "\n",
       "// Register the function which deals with the matplotlib target/channel.\n",
       "// The kernel may be null if the page has been refreshed.\n",
       "if (IPython.notebook.kernel != null) {\n",
       "    IPython.notebook.kernel.comm_manager.register_target('matplotlib', mpl.mpl_figure_comm);\n",
       "}\n"
      ],
      "text/plain": [
       "<IPython.core.display.Javascript object>"
      ]
     },
     "metadata": {},
     "output_type": "display_data"
    },
    {
     "data": {
      "text/html": [
       "<img src=\"data:image/png;base64,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\" width=\"640\">"
      ],
      "text/plain": [
       "<IPython.core.display.HTML object>"
      ]
     },
     "metadata": {},
     "output_type": "display_data"
    },
    {
     "data": {
      "text/plain": [
       "Text(0.5,0,'Living Area')"
      ]
     },
     "execution_count": 523,
     "metadata": {},
     "output_type": "execute_result"
    }
   ],
   "source": [
    "plt.figure()\n",
    "plt.scatter(X_test['GrLivArea'],y_test)\n",
    "plt.ylabel('House Price')\n",
    "plt.xlabel('Living Area')"
   ]
  },
  {
   "cell_type": "code",
   "execution_count": 524,
   "metadata": {
    "collapsed": true
   },
   "outputs": [],
   "source": [
    "def remove_outlier_test():\n",
    "    mask = X_test['GrLivArea'] < 5000\n",
    "    X_test_better = X_test[mask]\n",
    "    y_test_better = y_test[mask]\n",
    "    \n",
    "    return X_test_better, y_test_better\n"
   ]
  },
  {
   "cell_type": "code",
   "execution_count": 525,
   "metadata": {
    "collapsed": true
   },
   "outputs": [],
   "source": [
    "X_test, y_test = remove_outlier_test()"
   ]
  },
  {
   "cell_type": "code",
   "execution_count": 544,
   "metadata": {
    "collapsed": false
   },
   "outputs": [
    {
     "data": {
      "application/javascript": [
       "/* Put everything inside the global mpl namespace */\n",
       "window.mpl = {};\n",
       "\n",
       "\n",
       "mpl.get_websocket_type = function() {\n",
       "    if (typeof(WebSocket) !== 'undefined') {\n",
       "        return WebSocket;\n",
       "    } else if (typeof(MozWebSocket) !== 'undefined') {\n",
       "        return MozWebSocket;\n",
       "    } else {\n",
       "        alert('Your browser does not have WebSocket support.' +\n",
       "              'Please try Chrome, Safari or Firefox ≥ 6. ' +\n",
       "              'Firefox 4 and 5 are also supported but you ' +\n",
       "              'have to enable WebSockets in about:config.');\n",
       "    };\n",
       "}\n",
       "\n",
       "mpl.figure = function(figure_id, websocket, ondownload, parent_element) {\n",
       "    this.id = figure_id;\n",
       "\n",
       "    this.ws = websocket;\n",
       "\n",
       "    this.supports_binary = (this.ws.binaryType != undefined);\n",
       "\n",
       "    if (!this.supports_binary) {\n",
       "        var warnings = document.getElementById(\"mpl-warnings\");\n",
       "        if (warnings) {\n",
       "            warnings.style.display = 'block';\n",
       "            warnings.textContent = (\n",
       "                \"This browser does not support binary websocket messages. \" +\n",
       "                    \"Performance may be slow.\");\n",
       "        }\n",
       "    }\n",
       "\n",
       "    this.imageObj = new Image();\n",
       "\n",
       "    this.context = undefined;\n",
       "    this.message = undefined;\n",
       "    this.canvas = undefined;\n",
       "    this.rubberband_canvas = undefined;\n",
       "    this.rubberband_context = undefined;\n",
       "    this.format_dropdown = undefined;\n",
       "\n",
       "    this.image_mode = 'full';\n",
       "\n",
       "    this.root = $('<div/>');\n",
       "    this._root_extra_style(this.root)\n",
       "    this.root.attr('style', 'display: inline-block');\n",
       "\n",
       "    $(parent_element).append(this.root);\n",
       "\n",
       "    this._init_header(this);\n",
       "    this._init_canvas(this);\n",
       "    this._init_toolbar(this);\n",
       "\n",
       "    var fig = this;\n",
       "\n",
       "    this.waiting = false;\n",
       "\n",
       "    this.ws.onopen =  function () {\n",
       "            fig.send_message(\"supports_binary\", {value: fig.supports_binary});\n",
       "            fig.send_message(\"send_image_mode\", {});\n",
       "            if (mpl.ratio != 1) {\n",
       "                fig.send_message(\"set_dpi_ratio\", {'dpi_ratio': mpl.ratio});\n",
       "            }\n",
       "            fig.send_message(\"refresh\", {});\n",
       "        }\n",
       "\n",
       "    this.imageObj.onload = function() {\n",
       "            if (fig.image_mode == 'full') {\n",
       "                // Full images could contain transparency (where diff images\n",
       "                // almost always do), so we need to clear the canvas so that\n",
       "                // there is no ghosting.\n",
       "                fig.context.clearRect(0, 0, fig.canvas.width, fig.canvas.height);\n",
       "            }\n",
       "            fig.context.drawImage(fig.imageObj, 0, 0);\n",
       "        };\n",
       "\n",
       "    this.imageObj.onunload = function() {\n",
       "        fig.ws.close();\n",
       "    }\n",
       "\n",
       "    this.ws.onmessage = this._make_on_message_function(this);\n",
       "\n",
       "    this.ondownload = ondownload;\n",
       "}\n",
       "\n",
       "mpl.figure.prototype._init_header = function() {\n",
       "    var titlebar = $(\n",
       "        '<div class=\"ui-dialog-titlebar ui-widget-header ui-corner-all ' +\n",
       "        'ui-helper-clearfix\"/>');\n",
       "    var titletext = $(\n",
       "        '<div class=\"ui-dialog-title\" style=\"width: 100%; ' +\n",
       "        'text-align: center; padding: 3px;\"/>');\n",
       "    titlebar.append(titletext)\n",
       "    this.root.append(titlebar);\n",
       "    this.header = titletext[0];\n",
       "}\n",
       "\n",
       "\n",
       "\n",
       "mpl.figure.prototype._canvas_extra_style = function(canvas_div) {\n",
       "\n",
       "}\n",
       "\n",
       "\n",
       "mpl.figure.prototype._root_extra_style = function(canvas_div) {\n",
       "\n",
       "}\n",
       "\n",
       "mpl.figure.prototype._init_canvas = function() {\n",
       "    var fig = this;\n",
       "\n",
       "    var canvas_div = $('<div/>');\n",
       "\n",
       "    canvas_div.attr('style', 'position: relative; clear: both; outline: 0');\n",
       "\n",
       "    function canvas_keyboard_event(event) {\n",
       "        return fig.key_event(event, event['data']);\n",
       "    }\n",
       "\n",
       "    canvas_div.keydown('key_press', canvas_keyboard_event);\n",
       "    canvas_div.keyup('key_release', canvas_keyboard_event);\n",
       "    this.canvas_div = canvas_div\n",
       "    this._canvas_extra_style(canvas_div)\n",
       "    this.root.append(canvas_div);\n",
       "\n",
       "    var canvas = $('<canvas/>');\n",
       "    canvas.addClass('mpl-canvas');\n",
       "    canvas.attr('style', \"left: 0; top: 0; z-index: 0; outline: 0\")\n",
       "\n",
       "    this.canvas = canvas[0];\n",
       "    this.context = canvas[0].getContext(\"2d\");\n",
       "\n",
       "    var backingStore = this.context.backingStorePixelRatio ||\n",
       "\tthis.context.webkitBackingStorePixelRatio ||\n",
       "\tthis.context.mozBackingStorePixelRatio ||\n",
       "\tthis.context.msBackingStorePixelRatio ||\n",
       "\tthis.context.oBackingStorePixelRatio ||\n",
       "\tthis.context.backingStorePixelRatio || 1;\n",
       "\n",
       "    mpl.ratio = (window.devicePixelRatio || 1) / backingStore;\n",
       "\n",
       "    var rubberband = $('<canvas/>');\n",
       "    rubberband.attr('style', \"position: absolute; left: 0; top: 0; z-index: 1;\")\n",
       "\n",
       "    var pass_mouse_events = true;\n",
       "\n",
       "    canvas_div.resizable({\n",
       "        start: function(event, ui) {\n",
       "            pass_mouse_events = false;\n",
       "        },\n",
       "        resize: function(event, ui) {\n",
       "            fig.request_resize(ui.size.width, ui.size.height);\n",
       "        },\n",
       "        stop: function(event, ui) {\n",
       "            pass_mouse_events = true;\n",
       "            fig.request_resize(ui.size.width, ui.size.height);\n",
       "        },\n",
       "    });\n",
       "\n",
       "    function mouse_event_fn(event) {\n",
       "        if (pass_mouse_events)\n",
       "            return fig.mouse_event(event, event['data']);\n",
       "    }\n",
       "\n",
       "    rubberband.mousedown('button_press', mouse_event_fn);\n",
       "    rubberband.mouseup('button_release', mouse_event_fn);\n",
       "    // Throttle sequential mouse events to 1 every 20ms.\n",
       "    rubberband.mousemove('motion_notify', mouse_event_fn);\n",
       "\n",
       "    rubberband.mouseenter('figure_enter', mouse_event_fn);\n",
       "    rubberband.mouseleave('figure_leave', mouse_event_fn);\n",
       "\n",
       "    canvas_div.on(\"wheel\", function (event) {\n",
       "        event = event.originalEvent;\n",
       "        event['data'] = 'scroll'\n",
       "        if (event.deltaY < 0) {\n",
       "            event.step = 1;\n",
       "        } else {\n",
       "            event.step = -1;\n",
       "        }\n",
       "        mouse_event_fn(event);\n",
       "    });\n",
       "\n",
       "    canvas_div.append(canvas);\n",
       "    canvas_div.append(rubberband);\n",
       "\n",
       "    this.rubberband = rubberband;\n",
       "    this.rubberband_canvas = rubberband[0];\n",
       "    this.rubberband_context = rubberband[0].getContext(\"2d\");\n",
       "    this.rubberband_context.strokeStyle = \"#000000\";\n",
       "\n",
       "    this._resize_canvas = function(width, height) {\n",
       "        // Keep the size of the canvas, canvas container, and rubber band\n",
       "        // canvas in synch.\n",
       "        canvas_div.css('width', width)\n",
       "        canvas_div.css('height', height)\n",
       "\n",
       "        canvas.attr('width', width * mpl.ratio);\n",
       "        canvas.attr('height', height * mpl.ratio);\n",
       "        canvas.attr('style', 'width: ' + width + 'px; height: ' + height + 'px;');\n",
       "\n",
       "        rubberband.attr('width', width);\n",
       "        rubberband.attr('height', height);\n",
       "    }\n",
       "\n",
       "    // Set the figure to an initial 600x600px, this will subsequently be updated\n",
       "    // upon first draw.\n",
       "    this._resize_canvas(600, 600);\n",
       "\n",
       "    // Disable right mouse context menu.\n",
       "    $(this.rubberband_canvas).bind(\"contextmenu\",function(e){\n",
       "        return false;\n",
       "    });\n",
       "\n",
       "    function set_focus () {\n",
       "        canvas.focus();\n",
       "        canvas_div.focus();\n",
       "    }\n",
       "\n",
       "    window.setTimeout(set_focus, 100);\n",
       "}\n",
       "\n",
       "mpl.figure.prototype._init_toolbar = function() {\n",
       "    var fig = this;\n",
       "\n",
       "    var nav_element = $('<div/>')\n",
       "    nav_element.attr('style', 'width: 100%');\n",
       "    this.root.append(nav_element);\n",
       "\n",
       "    // Define a callback function for later on.\n",
       "    function toolbar_event(event) {\n",
       "        return fig.toolbar_button_onclick(event['data']);\n",
       "    }\n",
       "    function toolbar_mouse_event(event) {\n",
       "        return fig.toolbar_button_onmouseover(event['data']);\n",
       "    }\n",
       "\n",
       "    for(var toolbar_ind in mpl.toolbar_items) {\n",
       "        var name = mpl.toolbar_items[toolbar_ind][0];\n",
       "        var tooltip = mpl.toolbar_items[toolbar_ind][1];\n",
       "        var image = mpl.toolbar_items[toolbar_ind][2];\n",
       "        var method_name = mpl.toolbar_items[toolbar_ind][3];\n",
       "\n",
       "        if (!name) {\n",
       "            // put a spacer in here.\n",
       "            continue;\n",
       "        }\n",
       "        var button = $('<button/>');\n",
       "        button.addClass('ui-button ui-widget ui-state-default ui-corner-all ' +\n",
       "                        'ui-button-icon-only');\n",
       "        button.attr('role', 'button');\n",
       "        button.attr('aria-disabled', 'false');\n",
       "        button.click(method_name, toolbar_event);\n",
       "        button.mouseover(tooltip, toolbar_mouse_event);\n",
       "\n",
       "        var icon_img = $('<span/>');\n",
       "        icon_img.addClass('ui-button-icon-primary ui-icon');\n",
       "        icon_img.addClass(image);\n",
       "        icon_img.addClass('ui-corner-all');\n",
       "\n",
       "        var tooltip_span = $('<span/>');\n",
       "        tooltip_span.addClass('ui-button-text');\n",
       "        tooltip_span.html(tooltip);\n",
       "\n",
       "        button.append(icon_img);\n",
       "        button.append(tooltip_span);\n",
       "\n",
       "        nav_element.append(button);\n",
       "    }\n",
       "\n",
       "    var fmt_picker_span = $('<span/>');\n",
       "\n",
       "    var fmt_picker = $('<select/>');\n",
       "    fmt_picker.addClass('mpl-toolbar-option ui-widget ui-widget-content');\n",
       "    fmt_picker_span.append(fmt_picker);\n",
       "    nav_element.append(fmt_picker_span);\n",
       "    this.format_dropdown = fmt_picker[0];\n",
       "\n",
       "    for (var ind in mpl.extensions) {\n",
       "        var fmt = mpl.extensions[ind];\n",
       "        var option = $(\n",
       "            '<option/>', {selected: fmt === mpl.default_extension}).html(fmt);\n",
       "        fmt_picker.append(option)\n",
       "    }\n",
       "\n",
       "    // Add hover states to the ui-buttons\n",
       "    $( \".ui-button\" ).hover(\n",
       "        function() { $(this).addClass(\"ui-state-hover\");},\n",
       "        function() { $(this).removeClass(\"ui-state-hover\");}\n",
       "    );\n",
       "\n",
       "    var status_bar = $('<span class=\"mpl-message\"/>');\n",
       "    nav_element.append(status_bar);\n",
       "    this.message = status_bar[0];\n",
       "}\n",
       "\n",
       "mpl.figure.prototype.request_resize = function(x_pixels, y_pixels) {\n",
       "    // Request matplotlib to resize the figure. Matplotlib will then trigger a resize in the client,\n",
       "    // which will in turn request a refresh of the image.\n",
       "    this.send_message('resize', {'width': x_pixels, 'height': y_pixels});\n",
       "}\n",
       "\n",
       "mpl.figure.prototype.send_message = function(type, properties) {\n",
       "    properties['type'] = type;\n",
       "    properties['figure_id'] = this.id;\n",
       "    this.ws.send(JSON.stringify(properties));\n",
       "}\n",
       "\n",
       "mpl.figure.prototype.send_draw_message = function() {\n",
       "    if (!this.waiting) {\n",
       "        this.waiting = true;\n",
       "        this.ws.send(JSON.stringify({type: \"draw\", figure_id: this.id}));\n",
       "    }\n",
       "}\n",
       "\n",
       "\n",
       "mpl.figure.prototype.handle_save = function(fig, msg) {\n",
       "    var format_dropdown = fig.format_dropdown;\n",
       "    var format = format_dropdown.options[format_dropdown.selectedIndex].value;\n",
       "    fig.ondownload(fig, format);\n",
       "}\n",
       "\n",
       "\n",
       "mpl.figure.prototype.handle_resize = function(fig, msg) {\n",
       "    var size = msg['size'];\n",
       "    if (size[0] != fig.canvas.width || size[1] != fig.canvas.height) {\n",
       "        fig._resize_canvas(size[0], size[1]);\n",
       "        fig.send_message(\"refresh\", {});\n",
       "    };\n",
       "}\n",
       "\n",
       "mpl.figure.prototype.handle_rubberband = function(fig, msg) {\n",
       "    var x0 = msg['x0'] / mpl.ratio;\n",
       "    var y0 = (fig.canvas.height - msg['y0']) / mpl.ratio;\n",
       "    var x1 = msg['x1'] / mpl.ratio;\n",
       "    var y1 = (fig.canvas.height - msg['y1']) / mpl.ratio;\n",
       "    x0 = Math.floor(x0) + 0.5;\n",
       "    y0 = Math.floor(y0) + 0.5;\n",
       "    x1 = Math.floor(x1) + 0.5;\n",
       "    y1 = Math.floor(y1) + 0.5;\n",
       "    var min_x = Math.min(x0, x1);\n",
       "    var min_y = Math.min(y0, y1);\n",
       "    var width = Math.abs(x1 - x0);\n",
       "    var height = Math.abs(y1 - y0);\n",
       "\n",
       "    fig.rubberband_context.clearRect(\n",
       "        0, 0, fig.canvas.width, fig.canvas.height);\n",
       "\n",
       "    fig.rubberband_context.strokeRect(min_x, min_y, width, height);\n",
       "}\n",
       "\n",
       "mpl.figure.prototype.handle_figure_label = function(fig, msg) {\n",
       "    // Updates the figure title.\n",
       "    fig.header.textContent = msg['label'];\n",
       "}\n",
       "\n",
       "mpl.figure.prototype.handle_cursor = function(fig, msg) {\n",
       "    var cursor = msg['cursor'];\n",
       "    switch(cursor)\n",
       "    {\n",
       "    case 0:\n",
       "        cursor = 'pointer';\n",
       "        break;\n",
       "    case 1:\n",
       "        cursor = 'default';\n",
       "        break;\n",
       "    case 2:\n",
       "        cursor = 'crosshair';\n",
       "        break;\n",
       "    case 3:\n",
       "        cursor = 'move';\n",
       "        break;\n",
       "    }\n",
       "    fig.rubberband_canvas.style.cursor = cursor;\n",
       "}\n",
       "\n",
       "mpl.figure.prototype.handle_message = function(fig, msg) {\n",
       "    fig.message.textContent = msg['message'];\n",
       "}\n",
       "\n",
       "mpl.figure.prototype.handle_draw = function(fig, msg) {\n",
       "    // Request the server to send over a new figure.\n",
       "    fig.send_draw_message();\n",
       "}\n",
       "\n",
       "mpl.figure.prototype.handle_image_mode = function(fig, msg) {\n",
       "    fig.image_mode = msg['mode'];\n",
       "}\n",
       "\n",
       "mpl.figure.prototype.updated_canvas_event = function() {\n",
       "    // Called whenever the canvas gets updated.\n",
       "    this.send_message(\"ack\", {});\n",
       "}\n",
       "\n",
       "// A function to construct a web socket function for onmessage handling.\n",
       "// Called in the figure constructor.\n",
       "mpl.figure.prototype._make_on_message_function = function(fig) {\n",
       "    return function socket_on_message(evt) {\n",
       "        if (evt.data instanceof Blob) {\n",
       "            /* FIXME: We get \"Resource interpreted as Image but\n",
       "             * transferred with MIME type text/plain:\" errors on\n",
       "             * Chrome.  But how to set the MIME type?  It doesn't seem\n",
       "             * to be part of the websocket stream */\n",
       "            evt.data.type = \"image/png\";\n",
       "\n",
       "            /* Free the memory for the previous frames */\n",
       "            if (fig.imageObj.src) {\n",
       "                (window.URL || window.webkitURL).revokeObjectURL(\n",
       "                    fig.imageObj.src);\n",
       "            }\n",
       "\n",
       "            fig.imageObj.src = (window.URL || window.webkitURL).createObjectURL(\n",
       "                evt.data);\n",
       "            fig.updated_canvas_event();\n",
       "            fig.waiting = false;\n",
       "            return;\n",
       "        }\n",
       "        else if (typeof evt.data === 'string' && evt.data.slice(0, 21) == \"data:image/png;base64\") {\n",
       "            fig.imageObj.src = evt.data;\n",
       "            fig.updated_canvas_event();\n",
       "            fig.waiting = false;\n",
       "            return;\n",
       "        }\n",
       "\n",
       "        var msg = JSON.parse(evt.data);\n",
       "        var msg_type = msg['type'];\n",
       "\n",
       "        // Call the  \"handle_{type}\" callback, which takes\n",
       "        // the figure and JSON message as its only arguments.\n",
       "        try {\n",
       "            var callback = fig[\"handle_\" + msg_type];\n",
       "        } catch (e) {\n",
       "            console.log(\"No handler for the '\" + msg_type + \"' message type: \", msg);\n",
       "            return;\n",
       "        }\n",
       "\n",
       "        if (callback) {\n",
       "            try {\n",
       "                // console.log(\"Handling '\" + msg_type + \"' message: \", msg);\n",
       "                callback(fig, msg);\n",
       "            } catch (e) {\n",
       "                console.log(\"Exception inside the 'handler_\" + msg_type + \"' callback:\", e, e.stack, msg);\n",
       "            }\n",
       "        }\n",
       "    };\n",
       "}\n",
       "\n",
       "// from http://stackoverflow.com/questions/1114465/getting-mouse-location-in-canvas\n",
       "mpl.findpos = function(e) {\n",
       "    //this section is from http://www.quirksmode.org/js/events_properties.html\n",
       "    var targ;\n",
       "    if (!e)\n",
       "        e = window.event;\n",
       "    if (e.target)\n",
       "        targ = e.target;\n",
       "    else if (e.srcElement)\n",
       "        targ = e.srcElement;\n",
       "    if (targ.nodeType == 3) // defeat Safari bug\n",
       "        targ = targ.parentNode;\n",
       "\n",
       "    // jQuery normalizes the pageX and pageY\n",
       "    // pageX,Y are the mouse positions relative to the document\n",
       "    // offset() returns the position of the element relative to the document\n",
       "    var x = e.pageX - $(targ).offset().left;\n",
       "    var y = e.pageY - $(targ).offset().top;\n",
       "\n",
       "    return {\"x\": x, \"y\": y};\n",
       "};\n",
       "\n",
       "/*\n",
       " * return a copy of an object with only non-object keys\n",
       " * we need this to avoid circular references\n",
       " * http://stackoverflow.com/a/24161582/3208463\n",
       " */\n",
       "function simpleKeys (original) {\n",
       "  return Object.keys(original).reduce(function (obj, key) {\n",
       "    if (typeof original[key] !== 'object')\n",
       "        obj[key] = original[key]\n",
       "    return obj;\n",
       "  }, {});\n",
       "}\n",
       "\n",
       "mpl.figure.prototype.mouse_event = function(event, name) {\n",
       "    var canvas_pos = mpl.findpos(event)\n",
       "\n",
       "    if (name === 'button_press')\n",
       "    {\n",
       "        this.canvas.focus();\n",
       "        this.canvas_div.focus();\n",
       "    }\n",
       "\n",
       "    var x = canvas_pos.x * mpl.ratio;\n",
       "    var y = canvas_pos.y * mpl.ratio;\n",
       "\n",
       "    this.send_message(name, {x: x, y: y, button: event.button,\n",
       "                             step: event.step,\n",
       "                             guiEvent: simpleKeys(event)});\n",
       "\n",
       "    /* This prevents the web browser from automatically changing to\n",
       "     * the text insertion cursor when the button is pressed.  We want\n",
       "     * to control all of the cursor setting manually through the\n",
       "     * 'cursor' event from matplotlib */\n",
       "    event.preventDefault();\n",
       "    return false;\n",
       "}\n",
       "\n",
       "mpl.figure.prototype._key_event_extra = function(event, name) {\n",
       "    // Handle any extra behaviour associated with a key event\n",
       "}\n",
       "\n",
       "mpl.figure.prototype.key_event = function(event, name) {\n",
       "\n",
       "    // Prevent repeat events\n",
       "    if (name == 'key_press')\n",
       "    {\n",
       "        if (event.which === this._key)\n",
       "            return;\n",
       "        else\n",
       "            this._key = event.which;\n",
       "    }\n",
       "    if (name == 'key_release')\n",
       "        this._key = null;\n",
       "\n",
       "    var value = '';\n",
       "    if (event.ctrlKey && event.which != 17)\n",
       "        value += \"ctrl+\";\n",
       "    if (event.altKey && event.which != 18)\n",
       "        value += \"alt+\";\n",
       "    if (event.shiftKey && event.which != 16)\n",
       "        value += \"shift+\";\n",
       "\n",
       "    value += 'k';\n",
       "    value += event.which.toString();\n",
       "\n",
       "    this._key_event_extra(event, name);\n",
       "\n",
       "    this.send_message(name, {key: value,\n",
       "                             guiEvent: simpleKeys(event)});\n",
       "    return false;\n",
       "}\n",
       "\n",
       "mpl.figure.prototype.toolbar_button_onclick = function(name) {\n",
       "    if (name == 'download') {\n",
       "        this.handle_save(this, null);\n",
       "    } else {\n",
       "        this.send_message(\"toolbar_button\", {name: name});\n",
       "    }\n",
       "};\n",
       "\n",
       "mpl.figure.prototype.toolbar_button_onmouseover = function(tooltip) {\n",
       "    this.message.textContent = tooltip;\n",
       "};\n",
       "mpl.toolbar_items = [[\"Home\", \"Reset original view\", \"fa fa-home icon-home\", \"home\"], [\"Back\", \"Back to  previous view\", \"fa fa-arrow-left icon-arrow-left\", \"back\"], [\"Forward\", \"Forward to next view\", \"fa fa-arrow-right icon-arrow-right\", \"forward\"], [\"\", \"\", \"\", \"\"], [\"Pan\", \"Pan axes with left mouse, zoom with right\", \"fa fa-arrows icon-move\", \"pan\"], [\"Zoom\", \"Zoom to rectangle\", \"fa fa-square-o icon-check-empty\", \"zoom\"], [\"\", \"\", \"\", \"\"], [\"Download\", \"Download plot\", \"fa fa-floppy-o icon-save\", \"download\"]];\n",
       "\n",
       "mpl.extensions = [\"eps\", \"jpeg\", \"pdf\", \"png\", \"ps\", \"raw\", \"svg\", \"tif\"];\n",
       "\n",
       "mpl.default_extension = \"png\";var comm_websocket_adapter = function(comm) {\n",
       "    // Create a \"websocket\"-like object which calls the given IPython comm\n",
       "    // object with the appropriate methods. Currently this is a non binary\n",
       "    // socket, so there is still some room for performance tuning.\n",
       "    var ws = {};\n",
       "\n",
       "    ws.close = function() {\n",
       "        comm.close()\n",
       "    };\n",
       "    ws.send = function(m) {\n",
       "        //console.log('sending', m);\n",
       "        comm.send(m);\n",
       "    };\n",
       "    // Register the callback with on_msg.\n",
       "    comm.on_msg(function(msg) {\n",
       "        //console.log('receiving', msg['content']['data'], msg);\n",
       "        // Pass the mpl event to the overriden (by mpl) onmessage function.\n",
       "        ws.onmessage(msg['content']['data'])\n",
       "    });\n",
       "    return ws;\n",
       "}\n",
       "\n",
       "mpl.mpl_figure_comm = function(comm, msg) {\n",
       "    // This is the function which gets called when the mpl process\n",
       "    // starts-up an IPython Comm through the \"matplotlib\" channel.\n",
       "\n",
       "    var id = msg.content.data.id;\n",
       "    // Get hold of the div created by the display call when the Comm\n",
       "    // socket was opened in Python.\n",
       "    var element = $(\"#\" + id);\n",
       "    var ws_proxy = comm_websocket_adapter(comm)\n",
       "\n",
       "    function ondownload(figure, format) {\n",
       "        window.open(figure.imageObj.src);\n",
       "    }\n",
       "\n",
       "    var fig = new mpl.figure(id, ws_proxy,\n",
       "                           ondownload,\n",
       "                           element.get(0));\n",
       "\n",
       "    // Call onopen now - mpl needs it, as it is assuming we've passed it a real\n",
       "    // web socket which is closed, not our websocket->open comm proxy.\n",
       "    ws_proxy.onopen();\n",
       "\n",
       "    fig.parent_element = element.get(0);\n",
       "    fig.cell_info = mpl.find_output_cell(\"<div id='\" + id + \"'></div>\");\n",
       "    if (!fig.cell_info) {\n",
       "        console.error(\"Failed to find cell for figure\", id, fig);\n",
       "        return;\n",
       "    }\n",
       "\n",
       "    var output_index = fig.cell_info[2]\n",
       "    var cell = fig.cell_info[0];\n",
       "\n",
       "};\n",
       "\n",
       "mpl.figure.prototype.handle_close = function(fig, msg) {\n",
       "    var width = fig.canvas.width/mpl.ratio\n",
       "    fig.root.unbind('remove')\n",
       "\n",
       "    // Update the output cell to use the data from the current canvas.\n",
       "    fig.push_to_output();\n",
       "    var dataURL = fig.canvas.toDataURL();\n",
       "    // Re-enable the keyboard manager in IPython - without this line, in FF,\n",
       "    // the notebook keyboard shortcuts fail.\n",
       "    IPython.keyboard_manager.enable()\n",
       "    $(fig.parent_element).html('<img src=\"' + dataURL + '\" width=\"' + width + '\">');\n",
       "    fig.close_ws(fig, msg);\n",
       "}\n",
       "\n",
       "mpl.figure.prototype.close_ws = function(fig, msg){\n",
       "    fig.send_message('closing', msg);\n",
       "    // fig.ws.close()\n",
       "}\n",
       "\n",
       "mpl.figure.prototype.push_to_output = function(remove_interactive) {\n",
       "    // Turn the data on the canvas into data in the output cell.\n",
       "    var width = this.canvas.width/mpl.ratio\n",
       "    var dataURL = this.canvas.toDataURL();\n",
       "    this.cell_info[1]['text/html'] = '<img src=\"' + dataURL + '\" width=\"' + width + '\">';\n",
       "}\n",
       "\n",
       "mpl.figure.prototype.updated_canvas_event = function() {\n",
       "    // Tell IPython that the notebook contents must change.\n",
       "    IPython.notebook.set_dirty(true);\n",
       "    this.send_message(\"ack\", {});\n",
       "    var fig = this;\n",
       "    // Wait a second, then push the new image to the DOM so\n",
       "    // that it is saved nicely (might be nice to debounce this).\n",
       "    setTimeout(function () { fig.push_to_output() }, 1000);\n",
       "}\n",
       "\n",
       "mpl.figure.prototype._init_toolbar = function() {\n",
       "    var fig = this;\n",
       "\n",
       "    var nav_element = $('<div/>')\n",
       "    nav_element.attr('style', 'width: 100%');\n",
       "    this.root.append(nav_element);\n",
       "\n",
       "    // Define a callback function for later on.\n",
       "    function toolbar_event(event) {\n",
       "        return fig.toolbar_button_onclick(event['data']);\n",
       "    }\n",
       "    function toolbar_mouse_event(event) {\n",
       "        return fig.toolbar_button_onmouseover(event['data']);\n",
       "    }\n",
       "\n",
       "    for(var toolbar_ind in mpl.toolbar_items){\n",
       "        var name = mpl.toolbar_items[toolbar_ind][0];\n",
       "        var tooltip = mpl.toolbar_items[toolbar_ind][1];\n",
       "        var image = mpl.toolbar_items[toolbar_ind][2];\n",
       "        var method_name = mpl.toolbar_items[toolbar_ind][3];\n",
       "\n",
       "        if (!name) { continue; };\n",
       "\n",
       "        var button = $('<button class=\"btn btn-default\" href=\"#\" title=\"' + name + '\"><i class=\"fa ' + image + ' fa-lg\"></i></button>');\n",
       "        button.click(method_name, toolbar_event);\n",
       "        button.mouseover(tooltip, toolbar_mouse_event);\n",
       "        nav_element.append(button);\n",
       "    }\n",
       "\n",
       "    // Add the status bar.\n",
       "    var status_bar = $('<span class=\"mpl-message\" style=\"text-align:right; float: right;\"/>');\n",
       "    nav_element.append(status_bar);\n",
       "    this.message = status_bar[0];\n",
       "\n",
       "    // Add the close button to the window.\n",
       "    var buttongrp = $('<div class=\"btn-group inline pull-right\"></div>');\n",
       "    var button = $('<button class=\"btn btn-mini btn-primary\" href=\"#\" title=\"Stop Interaction\"><i class=\"fa fa-power-off icon-remove icon-large\"></i></button>');\n",
       "    button.click(function (evt) { fig.handle_close(fig, {}); } );\n",
       "    button.mouseover('Stop Interaction', toolbar_mouse_event);\n",
       "    buttongrp.append(button);\n",
       "    var titlebar = this.root.find($('.ui-dialog-titlebar'));\n",
       "    titlebar.prepend(buttongrp);\n",
       "}\n",
       "\n",
       "mpl.figure.prototype._root_extra_style = function(el){\n",
       "    var fig = this\n",
       "    el.on(\"remove\", function(){\n",
       "\tfig.close_ws(fig, {});\n",
       "    });\n",
       "}\n",
       "\n",
       "mpl.figure.prototype._canvas_extra_style = function(el){\n",
       "    // this is important to make the div 'focusable\n",
       "    el.attr('tabindex', 0)\n",
       "    // reach out to IPython and tell the keyboard manager to turn it's self\n",
       "    // off when our div gets focus\n",
       "\n",
       "    // location in version 3\n",
       "    if (IPython.notebook.keyboard_manager) {\n",
       "        IPython.notebook.keyboard_manager.register_events(el);\n",
       "    }\n",
       "    else {\n",
       "        // location in version 2\n",
       "        IPython.keyboard_manager.register_events(el);\n",
       "    }\n",
       "\n",
       "}\n",
       "\n",
       "mpl.figure.prototype._key_event_extra = function(event, name) {\n",
       "    var manager = IPython.notebook.keyboard_manager;\n",
       "    if (!manager)\n",
       "        manager = IPython.keyboard_manager;\n",
       "\n",
       "    // Check for shift+enter\n",
       "    if (event.shiftKey && event.which == 13) {\n",
       "        this.canvas_div.blur();\n",
       "        event.shiftKey = false;\n",
       "        // Send a \"J\" for go to next cell\n",
       "        event.which = 74;\n",
       "        event.keyCode = 74;\n",
       "        manager.command_mode();\n",
       "        manager.handle_keydown(event);\n",
       "    }\n",
       "}\n",
       "\n",
       "mpl.figure.prototype.handle_save = function(fig, msg) {\n",
       "    fig.ondownload(fig, null);\n",
       "}\n",
       "\n",
       "\n",
       "mpl.find_output_cell = function(html_output) {\n",
       "    // Return the cell and output element which can be found *uniquely* in the notebook.\n",
       "    // Note - this is a bit hacky, but it is done because the \"notebook_saving.Notebook\"\n",
       "    // IPython event is triggered only after the cells have been serialised, which for\n",
       "    // our purposes (turning an active figure into a static one), is too late.\n",
       "    var cells = IPython.notebook.get_cells();\n",
       "    var ncells = cells.length;\n",
       "    for (var i=0; i<ncells; i++) {\n",
       "        var cell = cells[i];\n",
       "        if (cell.cell_type === 'code'){\n",
       "            for (var j=0; j<cell.output_area.outputs.length; j++) {\n",
       "                var data = cell.output_area.outputs[j];\n",
       "                if (data.data) {\n",
       "                    // IPython >= 3 moved mimebundle to data attribute of output\n",
       "                    data = data.data;\n",
       "                }\n",
       "                if (data['text/html'] == html_output) {\n",
       "                    return [cell, data, j];\n",
       "                }\n",
       "            }\n",
       "        }\n",
       "    }\n",
       "}\n",
       "\n",
       "// Register the function which deals with the matplotlib target/channel.\n",
       "// The kernel may be null if the page has been refreshed.\n",
       "if (IPython.notebook.kernel != null) {\n",
       "    IPython.notebook.kernel.comm_manager.register_target('matplotlib', mpl.mpl_figure_comm);\n",
       "}\n"
      ],
      "text/plain": [
       "<IPython.core.display.Javascript object>"
      ]
     },
     "metadata": {},
     "output_type": "display_data"
    },
    {
     "data": {
      "text/html": [
       "<img src=\"data:image/png;base64,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\" width=\"640\">"
      ],
      "text/plain": [
       "<IPython.core.display.HTML object>"
      ]
     },
     "metadata": {},
     "output_type": "display_data"
    },
    {
     "data": {
      "text/plain": [
       "Text(0.5,0,'Living Area')"
      ]
     },
     "execution_count": 544,
     "metadata": {},
     "output_type": "execute_result"
    }
   ],
   "source": [
    "plt.figure()\n",
    "plt.scatter(X_test['GrLivArea'],y_test)\n",
    "plt.ylabel('House Price')\n",
    "plt.xlabel('Living Area')"
   ]
  },
  {
   "cell_type": "code",
   "execution_count": 529,
   "metadata": {
    "collapsed": false
   },
   "outputs": [
    {
     "name": "stdout",
     "output_type": "stream",
     "text": [
      "Training set score: 0.94\n",
      "Test set score: 0.91\n"
     ]
    }
   ],
   "source": [
    "linridge10 = Ridge(alpha=10).fit(X_train,y_train)\n",
    "print(\"Training set score: {:.2f}\".format(linridge10.score(X_train, y_train)))\n",
    "print(\"Test set score: {:.2f}\".format(linridge10.score(X_test, y_test)))"
   ]
  },
  {
   "cell_type": "code",
   "execution_count": 530,
   "metadata": {
    "collapsed": false
   },
   "outputs": [
    {
     "data": {
      "text/plain": [
       "0.13188397366784296"
      ]
     },
     "execution_count": 530,
     "metadata": {},
     "output_type": "execute_result"
    }
   ],
   "source": [
    "rmsle(y_test,linridge10.predict(X_test))"
   ]
  },
  {
   "cell_type": "code",
   "execution_count": 541,
   "metadata": {
    "collapsed": false
   },
   "outputs": [
    {
     "name": "stdout",
     "output_type": "stream",
     "text": [
      "Training set score: 0.99\n",
      "Test set score: 0.93\n"
     ]
    }
   ],
   "source": [
    "grad_boost_lr01_nest1000_maxdep2 = GradientBoostingRegressor(learning_rate=.1, n_estimators=1000, random_state=0, max_depth=2).fit(X_train,y_train)\n",
    "\n",
    "print(\"Training set score: {:.2f}\".format(grad_boost_lr01_nest1000_maxdep2.score(X_train, y_train)))\n",
    "print(\"Test set score: {:.2f}\".format(grad_boost_lr01_nest1000_maxdep2.score(X_test, y_test)))"
   ]
  },
  {
   "cell_type": "code",
   "execution_count": 532,
   "metadata": {
    "collapsed": false
   },
   "outputs": [
    {
     "data": {
      "text/plain": [
       "0.11632577591233718"
      ]
     },
     "execution_count": 532,
     "metadata": {},
     "output_type": "execute_result"
    }
   ],
   "source": [
    "rmsle(y_test,grad_boost_lr01_nest1000_maxdep2.predict(X_test))"
   ]
  },
  {
   "cell_type": "code",
   "execution_count": 542,
   "metadata": {
    "collapsed": true
   },
   "outputs": [],
   "source": [
    "price_prediction_grad_boost_ver3 = grad_boost_lr01_nest1000_maxdep2.predict(test_df3)\n",
    "price_predict_grad_boost_ver3_df = pd.DataFrame(price_prediction_grad_boost_ver3,index=test_df3.index,columns=['SalePrice']) \n",
    "price_predict_grad_boost_ver3_df.to_csv('house_price_submission_GradientBoosting_ver3.csv')"
   ]
  },
  {
   "cell_type": "markdown",
   "metadata": {},
   "source": [
    "Wow!  I submitted my Gradient Boosted Regression results to the Kaggle site and I moved up the leaderboard by 221 places.  I'm now ranked 1141/2572.  The only difference between this submission and the last submission is that I took out a single outlier data point from X_test and one from X_train.  That made a big difference!"
   ]
  },
  {
   "cell_type": "code",
   "execution_count": 555,
   "metadata": {
    "collapsed": false
   },
   "outputs": [
    {
     "data": {
      "application/javascript": [
       "/* Put everything inside the global mpl namespace */\n",
       "window.mpl = {};\n",
       "\n",
       "\n",
       "mpl.get_websocket_type = function() {\n",
       "    if (typeof(WebSocket) !== 'undefined') {\n",
       "        return WebSocket;\n",
       "    } else if (typeof(MozWebSocket) !== 'undefined') {\n",
       "        return MozWebSocket;\n",
       "    } else {\n",
       "        alert('Your browser does not have WebSocket support.' +\n",
       "              'Please try Chrome, Safari or Firefox ≥ 6. ' +\n",
       "              'Firefox 4 and 5 are also supported but you ' +\n",
       "              'have to enable WebSockets in about:config.');\n",
       "    };\n",
       "}\n",
       "\n",
       "mpl.figure = function(figure_id, websocket, ondownload, parent_element) {\n",
       "    this.id = figure_id;\n",
       "\n",
       "    this.ws = websocket;\n",
       "\n",
       "    this.supports_binary = (this.ws.binaryType != undefined);\n",
       "\n",
       "    if (!this.supports_binary) {\n",
       "        var warnings = document.getElementById(\"mpl-warnings\");\n",
       "        if (warnings) {\n",
       "            warnings.style.display = 'block';\n",
       "            warnings.textContent = (\n",
       "                \"This browser does not support binary websocket messages. \" +\n",
       "                    \"Performance may be slow.\");\n",
       "        }\n",
       "    }\n",
       "\n",
       "    this.imageObj = new Image();\n",
       "\n",
       "    this.context = undefined;\n",
       "    this.message = undefined;\n",
       "    this.canvas = undefined;\n",
       "    this.rubberband_canvas = undefined;\n",
       "    this.rubberband_context = undefined;\n",
       "    this.format_dropdown = undefined;\n",
       "\n",
       "    this.image_mode = 'full';\n",
       "\n",
       "    this.root = $('<div/>');\n",
       "    this._root_extra_style(this.root)\n",
       "    this.root.attr('style', 'display: inline-block');\n",
       "\n",
       "    $(parent_element).append(this.root);\n",
       "\n",
       "    this._init_header(this);\n",
       "    this._init_canvas(this);\n",
       "    this._init_toolbar(this);\n",
       "\n",
       "    var fig = this;\n",
       "\n",
       "    this.waiting = false;\n",
       "\n",
       "    this.ws.onopen =  function () {\n",
       "            fig.send_message(\"supports_binary\", {value: fig.supports_binary});\n",
       "            fig.send_message(\"send_image_mode\", {});\n",
       "            if (mpl.ratio != 1) {\n",
       "                fig.send_message(\"set_dpi_ratio\", {'dpi_ratio': mpl.ratio});\n",
       "            }\n",
       "            fig.send_message(\"refresh\", {});\n",
       "        }\n",
       "\n",
       "    this.imageObj.onload = function() {\n",
       "            if (fig.image_mode == 'full') {\n",
       "                // Full images could contain transparency (where diff images\n",
       "                // almost always do), so we need to clear the canvas so that\n",
       "                // there is no ghosting.\n",
       "                fig.context.clearRect(0, 0, fig.canvas.width, fig.canvas.height);\n",
       "            }\n",
       "            fig.context.drawImage(fig.imageObj, 0, 0);\n",
       "        };\n",
       "\n",
       "    this.imageObj.onunload = function() {\n",
       "        fig.ws.close();\n",
       "    }\n",
       "\n",
       "    this.ws.onmessage = this._make_on_message_function(this);\n",
       "\n",
       "    this.ondownload = ondownload;\n",
       "}\n",
       "\n",
       "mpl.figure.prototype._init_header = function() {\n",
       "    var titlebar = $(\n",
       "        '<div class=\"ui-dialog-titlebar ui-widget-header ui-corner-all ' +\n",
       "        'ui-helper-clearfix\"/>');\n",
       "    var titletext = $(\n",
       "        '<div class=\"ui-dialog-title\" style=\"width: 100%; ' +\n",
       "        'text-align: center; padding: 3px;\"/>');\n",
       "    titlebar.append(titletext)\n",
       "    this.root.append(titlebar);\n",
       "    this.header = titletext[0];\n",
       "}\n",
       "\n",
       "\n",
       "\n",
       "mpl.figure.prototype._canvas_extra_style = function(canvas_div) {\n",
       "\n",
       "}\n",
       "\n",
       "\n",
       "mpl.figure.prototype._root_extra_style = function(canvas_div) {\n",
       "\n",
       "}\n",
       "\n",
       "mpl.figure.prototype._init_canvas = function() {\n",
       "    var fig = this;\n",
       "\n",
       "    var canvas_div = $('<div/>');\n",
       "\n",
       "    canvas_div.attr('style', 'position: relative; clear: both; outline: 0');\n",
       "\n",
       "    function canvas_keyboard_event(event) {\n",
       "        return fig.key_event(event, event['data']);\n",
       "    }\n",
       "\n",
       "    canvas_div.keydown('key_press', canvas_keyboard_event);\n",
       "    canvas_div.keyup('key_release', canvas_keyboard_event);\n",
       "    this.canvas_div = canvas_div\n",
       "    this._canvas_extra_style(canvas_div)\n",
       "    this.root.append(canvas_div);\n",
       "\n",
       "    var canvas = $('<canvas/>');\n",
       "    canvas.addClass('mpl-canvas');\n",
       "    canvas.attr('style', \"left: 0; top: 0; z-index: 0; outline: 0\")\n",
       "\n",
       "    this.canvas = canvas[0];\n",
       "    this.context = canvas[0].getContext(\"2d\");\n",
       "\n",
       "    var backingStore = this.context.backingStorePixelRatio ||\n",
       "\tthis.context.webkitBackingStorePixelRatio ||\n",
       "\tthis.context.mozBackingStorePixelRatio ||\n",
       "\tthis.context.msBackingStorePixelRatio ||\n",
       "\tthis.context.oBackingStorePixelRatio ||\n",
       "\tthis.context.backingStorePixelRatio || 1;\n",
       "\n",
       "    mpl.ratio = (window.devicePixelRatio || 1) / backingStore;\n",
       "\n",
       "    var rubberband = $('<canvas/>');\n",
       "    rubberband.attr('style', \"position: absolute; left: 0; top: 0; z-index: 1;\")\n",
       "\n",
       "    var pass_mouse_events = true;\n",
       "\n",
       "    canvas_div.resizable({\n",
       "        start: function(event, ui) {\n",
       "            pass_mouse_events = false;\n",
       "        },\n",
       "        resize: function(event, ui) {\n",
       "            fig.request_resize(ui.size.width, ui.size.height);\n",
       "        },\n",
       "        stop: function(event, ui) {\n",
       "            pass_mouse_events = true;\n",
       "            fig.request_resize(ui.size.width, ui.size.height);\n",
       "        },\n",
       "    });\n",
       "\n",
       "    function mouse_event_fn(event) {\n",
       "        if (pass_mouse_events)\n",
       "            return fig.mouse_event(event, event['data']);\n",
       "    }\n",
       "\n",
       "    rubberband.mousedown('button_press', mouse_event_fn);\n",
       "    rubberband.mouseup('button_release', mouse_event_fn);\n",
       "    // Throttle sequential mouse events to 1 every 20ms.\n",
       "    rubberband.mousemove('motion_notify', mouse_event_fn);\n",
       "\n",
       "    rubberband.mouseenter('figure_enter', mouse_event_fn);\n",
       "    rubberband.mouseleave('figure_leave', mouse_event_fn);\n",
       "\n",
       "    canvas_div.on(\"wheel\", function (event) {\n",
       "        event = event.originalEvent;\n",
       "        event['data'] = 'scroll'\n",
       "        if (event.deltaY < 0) {\n",
       "            event.step = 1;\n",
       "        } else {\n",
       "            event.step = -1;\n",
       "        }\n",
       "        mouse_event_fn(event);\n",
       "    });\n",
       "\n",
       "    canvas_div.append(canvas);\n",
       "    canvas_div.append(rubberband);\n",
       "\n",
       "    this.rubberband = rubberband;\n",
       "    this.rubberband_canvas = rubberband[0];\n",
       "    this.rubberband_context = rubberband[0].getContext(\"2d\");\n",
       "    this.rubberband_context.strokeStyle = \"#000000\";\n",
       "\n",
       "    this._resize_canvas = function(width, height) {\n",
       "        // Keep the size of the canvas, canvas container, and rubber band\n",
       "        // canvas in synch.\n",
       "        canvas_div.css('width', width)\n",
       "        canvas_div.css('height', height)\n",
       "\n",
       "        canvas.attr('width', width * mpl.ratio);\n",
       "        canvas.attr('height', height * mpl.ratio);\n",
       "        canvas.attr('style', 'width: ' + width + 'px; height: ' + height + 'px;');\n",
       "\n",
       "        rubberband.attr('width', width);\n",
       "        rubberband.attr('height', height);\n",
       "    }\n",
       "\n",
       "    // Set the figure to an initial 600x600px, this will subsequently be updated\n",
       "    // upon first draw.\n",
       "    this._resize_canvas(600, 600);\n",
       "\n",
       "    // Disable right mouse context menu.\n",
       "    $(this.rubberband_canvas).bind(\"contextmenu\",function(e){\n",
       "        return false;\n",
       "    });\n",
       "\n",
       "    function set_focus () {\n",
       "        canvas.focus();\n",
       "        canvas_div.focus();\n",
       "    }\n",
       "\n",
       "    window.setTimeout(set_focus, 100);\n",
       "}\n",
       "\n",
       "mpl.figure.prototype._init_toolbar = function() {\n",
       "    var fig = this;\n",
       "\n",
       "    var nav_element = $('<div/>')\n",
       "    nav_element.attr('style', 'width: 100%');\n",
       "    this.root.append(nav_element);\n",
       "\n",
       "    // Define a callback function for later on.\n",
       "    function toolbar_event(event) {\n",
       "        return fig.toolbar_button_onclick(event['data']);\n",
       "    }\n",
       "    function toolbar_mouse_event(event) {\n",
       "        return fig.toolbar_button_onmouseover(event['data']);\n",
       "    }\n",
       "\n",
       "    for(var toolbar_ind in mpl.toolbar_items) {\n",
       "        var name = mpl.toolbar_items[toolbar_ind][0];\n",
       "        var tooltip = mpl.toolbar_items[toolbar_ind][1];\n",
       "        var image = mpl.toolbar_items[toolbar_ind][2];\n",
       "        var method_name = mpl.toolbar_items[toolbar_ind][3];\n",
       "\n",
       "        if (!name) {\n",
       "            // put a spacer in here.\n",
       "            continue;\n",
       "        }\n",
       "        var button = $('<button/>');\n",
       "        button.addClass('ui-button ui-widget ui-state-default ui-corner-all ' +\n",
       "                        'ui-button-icon-only');\n",
       "        button.attr('role', 'button');\n",
       "        button.attr('aria-disabled', 'false');\n",
       "        button.click(method_name, toolbar_event);\n",
       "        button.mouseover(tooltip, toolbar_mouse_event);\n",
       "\n",
       "        var icon_img = $('<span/>');\n",
       "        icon_img.addClass('ui-button-icon-primary ui-icon');\n",
       "        icon_img.addClass(image);\n",
       "        icon_img.addClass('ui-corner-all');\n",
       "\n",
       "        var tooltip_span = $('<span/>');\n",
       "        tooltip_span.addClass('ui-button-text');\n",
       "        tooltip_span.html(tooltip);\n",
       "\n",
       "        button.append(icon_img);\n",
       "        button.append(tooltip_span);\n",
       "\n",
       "        nav_element.append(button);\n",
       "    }\n",
       "\n",
       "    var fmt_picker_span = $('<span/>');\n",
       "\n",
       "    var fmt_picker = $('<select/>');\n",
       "    fmt_picker.addClass('mpl-toolbar-option ui-widget ui-widget-content');\n",
       "    fmt_picker_span.append(fmt_picker);\n",
       "    nav_element.append(fmt_picker_span);\n",
       "    this.format_dropdown = fmt_picker[0];\n",
       "\n",
       "    for (var ind in mpl.extensions) {\n",
       "        var fmt = mpl.extensions[ind];\n",
       "        var option = $(\n",
       "            '<option/>', {selected: fmt === mpl.default_extension}).html(fmt);\n",
       "        fmt_picker.append(option)\n",
       "    }\n",
       "\n",
       "    // Add hover states to the ui-buttons\n",
       "    $( \".ui-button\" ).hover(\n",
       "        function() { $(this).addClass(\"ui-state-hover\");},\n",
       "        function() { $(this).removeClass(\"ui-state-hover\");}\n",
       "    );\n",
       "\n",
       "    var status_bar = $('<span class=\"mpl-message\"/>');\n",
       "    nav_element.append(status_bar);\n",
       "    this.message = status_bar[0];\n",
       "}\n",
       "\n",
       "mpl.figure.prototype.request_resize = function(x_pixels, y_pixels) {\n",
       "    // Request matplotlib to resize the figure. Matplotlib will then trigger a resize in the client,\n",
       "    // which will in turn request a refresh of the image.\n",
       "    this.send_message('resize', {'width': x_pixels, 'height': y_pixels});\n",
       "}\n",
       "\n",
       "mpl.figure.prototype.send_message = function(type, properties) {\n",
       "    properties['type'] = type;\n",
       "    properties['figure_id'] = this.id;\n",
       "    this.ws.send(JSON.stringify(properties));\n",
       "}\n",
       "\n",
       "mpl.figure.prototype.send_draw_message = function() {\n",
       "    if (!this.waiting) {\n",
       "        this.waiting = true;\n",
       "        this.ws.send(JSON.stringify({type: \"draw\", figure_id: this.id}));\n",
       "    }\n",
       "}\n",
       "\n",
       "\n",
       "mpl.figure.prototype.handle_save = function(fig, msg) {\n",
       "    var format_dropdown = fig.format_dropdown;\n",
       "    var format = format_dropdown.options[format_dropdown.selectedIndex].value;\n",
       "    fig.ondownload(fig, format);\n",
       "}\n",
       "\n",
       "\n",
       "mpl.figure.prototype.handle_resize = function(fig, msg) {\n",
       "    var size = msg['size'];\n",
       "    if (size[0] != fig.canvas.width || size[1] != fig.canvas.height) {\n",
       "        fig._resize_canvas(size[0], size[1]);\n",
       "        fig.send_message(\"refresh\", {});\n",
       "    };\n",
       "}\n",
       "\n",
       "mpl.figure.prototype.handle_rubberband = function(fig, msg) {\n",
       "    var x0 = msg['x0'] / mpl.ratio;\n",
       "    var y0 = (fig.canvas.height - msg['y0']) / mpl.ratio;\n",
       "    var x1 = msg['x1'] / mpl.ratio;\n",
       "    var y1 = (fig.canvas.height - msg['y1']) / mpl.ratio;\n",
       "    x0 = Math.floor(x0) + 0.5;\n",
       "    y0 = Math.floor(y0) + 0.5;\n",
       "    x1 = Math.floor(x1) + 0.5;\n",
       "    y1 = Math.floor(y1) + 0.5;\n",
       "    var min_x = Math.min(x0, x1);\n",
       "    var min_y = Math.min(y0, y1);\n",
       "    var width = Math.abs(x1 - x0);\n",
       "    var height = Math.abs(y1 - y0);\n",
       "\n",
       "    fig.rubberband_context.clearRect(\n",
       "        0, 0, fig.canvas.width, fig.canvas.height);\n",
       "\n",
       "    fig.rubberband_context.strokeRect(min_x, min_y, width, height);\n",
       "}\n",
       "\n",
       "mpl.figure.prototype.handle_figure_label = function(fig, msg) {\n",
       "    // Updates the figure title.\n",
       "    fig.header.textContent = msg['label'];\n",
       "}\n",
       "\n",
       "mpl.figure.prototype.handle_cursor = function(fig, msg) {\n",
       "    var cursor = msg['cursor'];\n",
       "    switch(cursor)\n",
       "    {\n",
       "    case 0:\n",
       "        cursor = 'pointer';\n",
       "        break;\n",
       "    case 1:\n",
       "        cursor = 'default';\n",
       "        break;\n",
       "    case 2:\n",
       "        cursor = 'crosshair';\n",
       "        break;\n",
       "    case 3:\n",
       "        cursor = 'move';\n",
       "        break;\n",
       "    }\n",
       "    fig.rubberband_canvas.style.cursor = cursor;\n",
       "}\n",
       "\n",
       "mpl.figure.prototype.handle_message = function(fig, msg) {\n",
       "    fig.message.textContent = msg['message'];\n",
       "}\n",
       "\n",
       "mpl.figure.prototype.handle_draw = function(fig, msg) {\n",
       "    // Request the server to send over a new figure.\n",
       "    fig.send_draw_message();\n",
       "}\n",
       "\n",
       "mpl.figure.prototype.handle_image_mode = function(fig, msg) {\n",
       "    fig.image_mode = msg['mode'];\n",
       "}\n",
       "\n",
       "mpl.figure.prototype.updated_canvas_event = function() {\n",
       "    // Called whenever the canvas gets updated.\n",
       "    this.send_message(\"ack\", {});\n",
       "}\n",
       "\n",
       "// A function to construct a web socket function for onmessage handling.\n",
       "// Called in the figure constructor.\n",
       "mpl.figure.prototype._make_on_message_function = function(fig) {\n",
       "    return function socket_on_message(evt) {\n",
       "        if (evt.data instanceof Blob) {\n",
       "            /* FIXME: We get \"Resource interpreted as Image but\n",
       "             * transferred with MIME type text/plain:\" errors on\n",
       "             * Chrome.  But how to set the MIME type?  It doesn't seem\n",
       "             * to be part of the websocket stream */\n",
       "            evt.data.type = \"image/png\";\n",
       "\n",
       "            /* Free the memory for the previous frames */\n",
       "            if (fig.imageObj.src) {\n",
       "                (window.URL || window.webkitURL).revokeObjectURL(\n",
       "                    fig.imageObj.src);\n",
       "            }\n",
       "\n",
       "            fig.imageObj.src = (window.URL || window.webkitURL).createObjectURL(\n",
       "                evt.data);\n",
       "            fig.updated_canvas_event();\n",
       "            fig.waiting = false;\n",
       "            return;\n",
       "        }\n",
       "        else if (typeof evt.data === 'string' && evt.data.slice(0, 21) == \"data:image/png;base64\") {\n",
       "            fig.imageObj.src = evt.data;\n",
       "            fig.updated_canvas_event();\n",
       "            fig.waiting = false;\n",
       "            return;\n",
       "        }\n",
       "\n",
       "        var msg = JSON.parse(evt.data);\n",
       "        var msg_type = msg['type'];\n",
       "\n",
       "        // Call the  \"handle_{type}\" callback, which takes\n",
       "        // the figure and JSON message as its only arguments.\n",
       "        try {\n",
       "            var callback = fig[\"handle_\" + msg_type];\n",
       "        } catch (e) {\n",
       "            console.log(\"No handler for the '\" + msg_type + \"' message type: \", msg);\n",
       "            return;\n",
       "        }\n",
       "\n",
       "        if (callback) {\n",
       "            try {\n",
       "                // console.log(\"Handling '\" + msg_type + \"' message: \", msg);\n",
       "                callback(fig, msg);\n",
       "            } catch (e) {\n",
       "                console.log(\"Exception inside the 'handler_\" + msg_type + \"' callback:\", e, e.stack, msg);\n",
       "            }\n",
       "        }\n",
       "    };\n",
       "}\n",
       "\n",
       "// from http://stackoverflow.com/questions/1114465/getting-mouse-location-in-canvas\n",
       "mpl.findpos = function(e) {\n",
       "    //this section is from http://www.quirksmode.org/js/events_properties.html\n",
       "    var targ;\n",
       "    if (!e)\n",
       "        e = window.event;\n",
       "    if (e.target)\n",
       "        targ = e.target;\n",
       "    else if (e.srcElement)\n",
       "        targ = e.srcElement;\n",
       "    if (targ.nodeType == 3) // defeat Safari bug\n",
       "        targ = targ.parentNode;\n",
       "\n",
       "    // jQuery normalizes the pageX and pageY\n",
       "    // pageX,Y are the mouse positions relative to the document\n",
       "    // offset() returns the position of the element relative to the document\n",
       "    var x = e.pageX - $(targ).offset().left;\n",
       "    var y = e.pageY - $(targ).offset().top;\n",
       "\n",
       "    return {\"x\": x, \"y\": y};\n",
       "};\n",
       "\n",
       "/*\n",
       " * return a copy of an object with only non-object keys\n",
       " * we need this to avoid circular references\n",
       " * http://stackoverflow.com/a/24161582/3208463\n",
       " */\n",
       "function simpleKeys (original) {\n",
       "  return Object.keys(original).reduce(function (obj, key) {\n",
       "    if (typeof original[key] !== 'object')\n",
       "        obj[key] = original[key]\n",
       "    return obj;\n",
       "  }, {});\n",
       "}\n",
       "\n",
       "mpl.figure.prototype.mouse_event = function(event, name) {\n",
       "    var canvas_pos = mpl.findpos(event)\n",
       "\n",
       "    if (name === 'button_press')\n",
       "    {\n",
       "        this.canvas.focus();\n",
       "        this.canvas_div.focus();\n",
       "    }\n",
       "\n",
       "    var x = canvas_pos.x * mpl.ratio;\n",
       "    var y = canvas_pos.y * mpl.ratio;\n",
       "\n",
       "    this.send_message(name, {x: x, y: y, button: event.button,\n",
       "                             step: event.step,\n",
       "                             guiEvent: simpleKeys(event)});\n",
       "\n",
       "    /* This prevents the web browser from automatically changing to\n",
       "     * the text insertion cursor when the button is pressed.  We want\n",
       "     * to control all of the cursor setting manually through the\n",
       "     * 'cursor' event from matplotlib */\n",
       "    event.preventDefault();\n",
       "    return false;\n",
       "}\n",
       "\n",
       "mpl.figure.prototype._key_event_extra = function(event, name) {\n",
       "    // Handle any extra behaviour associated with a key event\n",
       "}\n",
       "\n",
       "mpl.figure.prototype.key_event = function(event, name) {\n",
       "\n",
       "    // Prevent repeat events\n",
       "    if (name == 'key_press')\n",
       "    {\n",
       "        if (event.which === this._key)\n",
       "            return;\n",
       "        else\n",
       "            this._key = event.which;\n",
       "    }\n",
       "    if (name == 'key_release')\n",
       "        this._key = null;\n",
       "\n",
       "    var value = '';\n",
       "    if (event.ctrlKey && event.which != 17)\n",
       "        value += \"ctrl+\";\n",
       "    if (event.altKey && event.which != 18)\n",
       "        value += \"alt+\";\n",
       "    if (event.shiftKey && event.which != 16)\n",
       "        value += \"shift+\";\n",
       "\n",
       "    value += 'k';\n",
       "    value += event.which.toString();\n",
       "\n",
       "    this._key_event_extra(event, name);\n",
       "\n",
       "    this.send_message(name, {key: value,\n",
       "                             guiEvent: simpleKeys(event)});\n",
       "    return false;\n",
       "}\n",
       "\n",
       "mpl.figure.prototype.toolbar_button_onclick = function(name) {\n",
       "    if (name == 'download') {\n",
       "        this.handle_save(this, null);\n",
       "    } else {\n",
       "        this.send_message(\"toolbar_button\", {name: name});\n",
       "    }\n",
       "};\n",
       "\n",
       "mpl.figure.prototype.toolbar_button_onmouseover = function(tooltip) {\n",
       "    this.message.textContent = tooltip;\n",
       "};\n",
       "mpl.toolbar_items = [[\"Home\", \"Reset original view\", \"fa fa-home icon-home\", \"home\"], [\"Back\", \"Back to  previous view\", \"fa fa-arrow-left icon-arrow-left\", \"back\"], [\"Forward\", \"Forward to next view\", \"fa fa-arrow-right icon-arrow-right\", \"forward\"], [\"\", \"\", \"\", \"\"], [\"Pan\", \"Pan axes with left mouse, zoom with right\", \"fa fa-arrows icon-move\", \"pan\"], [\"Zoom\", \"Zoom to rectangle\", \"fa fa-square-o icon-check-empty\", \"zoom\"], [\"\", \"\", \"\", \"\"], [\"Download\", \"Download plot\", \"fa fa-floppy-o icon-save\", \"download\"]];\n",
       "\n",
       "mpl.extensions = [\"eps\", \"jpeg\", \"pdf\", \"png\", \"ps\", \"raw\", \"svg\", \"tif\"];\n",
       "\n",
       "mpl.default_extension = \"png\";var comm_websocket_adapter = function(comm) {\n",
       "    // Create a \"websocket\"-like object which calls the given IPython comm\n",
       "    // object with the appropriate methods. Currently this is a non binary\n",
       "    // socket, so there is still some room for performance tuning.\n",
       "    var ws = {};\n",
       "\n",
       "    ws.close = function() {\n",
       "        comm.close()\n",
       "    };\n",
       "    ws.send = function(m) {\n",
       "        //console.log('sending', m);\n",
       "        comm.send(m);\n",
       "    };\n",
       "    // Register the callback with on_msg.\n",
       "    comm.on_msg(function(msg) {\n",
       "        //console.log('receiving', msg['content']['data'], msg);\n",
       "        // Pass the mpl event to the overriden (by mpl) onmessage function.\n",
       "        ws.onmessage(msg['content']['data'])\n",
       "    });\n",
       "    return ws;\n",
       "}\n",
       "\n",
       "mpl.mpl_figure_comm = function(comm, msg) {\n",
       "    // This is the function which gets called when the mpl process\n",
       "    // starts-up an IPython Comm through the \"matplotlib\" channel.\n",
       "\n",
       "    var id = msg.content.data.id;\n",
       "    // Get hold of the div created by the display call when the Comm\n",
       "    // socket was opened in Python.\n",
       "    var element = $(\"#\" + id);\n",
       "    var ws_proxy = comm_websocket_adapter(comm)\n",
       "\n",
       "    function ondownload(figure, format) {\n",
       "        window.open(figure.imageObj.src);\n",
       "    }\n",
       "\n",
       "    var fig = new mpl.figure(id, ws_proxy,\n",
       "                           ondownload,\n",
       "                           element.get(0));\n",
       "\n",
       "    // Call onopen now - mpl needs it, as it is assuming we've passed it a real\n",
       "    // web socket which is closed, not our websocket->open comm proxy.\n",
       "    ws_proxy.onopen();\n",
       "\n",
       "    fig.parent_element = element.get(0);\n",
       "    fig.cell_info = mpl.find_output_cell(\"<div id='\" + id + \"'></div>\");\n",
       "    if (!fig.cell_info) {\n",
       "        console.error(\"Failed to find cell for figure\", id, fig);\n",
       "        return;\n",
       "    }\n",
       "\n",
       "    var output_index = fig.cell_info[2]\n",
       "    var cell = fig.cell_info[0];\n",
       "\n",
       "};\n",
       "\n",
       "mpl.figure.prototype.handle_close = function(fig, msg) {\n",
       "    var width = fig.canvas.width/mpl.ratio\n",
       "    fig.root.unbind('remove')\n",
       "\n",
       "    // Update the output cell to use the data from the current canvas.\n",
       "    fig.push_to_output();\n",
       "    var dataURL = fig.canvas.toDataURL();\n",
       "    // Re-enable the keyboard manager in IPython - without this line, in FF,\n",
       "    // the notebook keyboard shortcuts fail.\n",
       "    IPython.keyboard_manager.enable()\n",
       "    $(fig.parent_element).html('<img src=\"' + dataURL + '\" width=\"' + width + '\">');\n",
       "    fig.close_ws(fig, msg);\n",
       "}\n",
       "\n",
       "mpl.figure.prototype.close_ws = function(fig, msg){\n",
       "    fig.send_message('closing', msg);\n",
       "    // fig.ws.close()\n",
       "}\n",
       "\n",
       "mpl.figure.prototype.push_to_output = function(remove_interactive) {\n",
       "    // Turn the data on the canvas into data in the output cell.\n",
       "    var width = this.canvas.width/mpl.ratio\n",
       "    var dataURL = this.canvas.toDataURL();\n",
       "    this.cell_info[1]['text/html'] = '<img src=\"' + dataURL + '\" width=\"' + width + '\">';\n",
       "}\n",
       "\n",
       "mpl.figure.prototype.updated_canvas_event = function() {\n",
       "    // Tell IPython that the notebook contents must change.\n",
       "    IPython.notebook.set_dirty(true);\n",
       "    this.send_message(\"ack\", {});\n",
       "    var fig = this;\n",
       "    // Wait a second, then push the new image to the DOM so\n",
       "    // that it is saved nicely (might be nice to debounce this).\n",
       "    setTimeout(function () { fig.push_to_output() }, 1000);\n",
       "}\n",
       "\n",
       "mpl.figure.prototype._init_toolbar = function() {\n",
       "    var fig = this;\n",
       "\n",
       "    var nav_element = $('<div/>')\n",
       "    nav_element.attr('style', 'width: 100%');\n",
       "    this.root.append(nav_element);\n",
       "\n",
       "    // Define a callback function for later on.\n",
       "    function toolbar_event(event) {\n",
       "        return fig.toolbar_button_onclick(event['data']);\n",
       "    }\n",
       "    function toolbar_mouse_event(event) {\n",
       "        return fig.toolbar_button_onmouseover(event['data']);\n",
       "    }\n",
       "\n",
       "    for(var toolbar_ind in mpl.toolbar_items){\n",
       "        var name = mpl.toolbar_items[toolbar_ind][0];\n",
       "        var tooltip = mpl.toolbar_items[toolbar_ind][1];\n",
       "        var image = mpl.toolbar_items[toolbar_ind][2];\n",
       "        var method_name = mpl.toolbar_items[toolbar_ind][3];\n",
       "\n",
       "        if (!name) { continue; };\n",
       "\n",
       "        var button = $('<button class=\"btn btn-default\" href=\"#\" title=\"' + name + '\"><i class=\"fa ' + image + ' fa-lg\"></i></button>');\n",
       "        button.click(method_name, toolbar_event);\n",
       "        button.mouseover(tooltip, toolbar_mouse_event);\n",
       "        nav_element.append(button);\n",
       "    }\n",
       "\n",
       "    // Add the status bar.\n",
       "    var status_bar = $('<span class=\"mpl-message\" style=\"text-align:right; float: right;\"/>');\n",
       "    nav_element.append(status_bar);\n",
       "    this.message = status_bar[0];\n",
       "\n",
       "    // Add the close button to the window.\n",
       "    var buttongrp = $('<div class=\"btn-group inline pull-right\"></div>');\n",
       "    var button = $('<button class=\"btn btn-mini btn-primary\" href=\"#\" title=\"Stop Interaction\"><i class=\"fa fa-power-off icon-remove icon-large\"></i></button>');\n",
       "    button.click(function (evt) { fig.handle_close(fig, {}); } );\n",
       "    button.mouseover('Stop Interaction', toolbar_mouse_event);\n",
       "    buttongrp.append(button);\n",
       "    var titlebar = this.root.find($('.ui-dialog-titlebar'));\n",
       "    titlebar.prepend(buttongrp);\n",
       "}\n",
       "\n",
       "mpl.figure.prototype._root_extra_style = function(el){\n",
       "    var fig = this\n",
       "    el.on(\"remove\", function(){\n",
       "\tfig.close_ws(fig, {});\n",
       "    });\n",
       "}\n",
       "\n",
       "mpl.figure.prototype._canvas_extra_style = function(el){\n",
       "    // this is important to make the div 'focusable\n",
       "    el.attr('tabindex', 0)\n",
       "    // reach out to IPython and tell the keyboard manager to turn it's self\n",
       "    // off when our div gets focus\n",
       "\n",
       "    // location in version 3\n",
       "    if (IPython.notebook.keyboard_manager) {\n",
       "        IPython.notebook.keyboard_manager.register_events(el);\n",
       "    }\n",
       "    else {\n",
       "        // location in version 2\n",
       "        IPython.keyboard_manager.register_events(el);\n",
       "    }\n",
       "\n",
       "}\n",
       "\n",
       "mpl.figure.prototype._key_event_extra = function(event, name) {\n",
       "    var manager = IPython.notebook.keyboard_manager;\n",
       "    if (!manager)\n",
       "        manager = IPython.keyboard_manager;\n",
       "\n",
       "    // Check for shift+enter\n",
       "    if (event.shiftKey && event.which == 13) {\n",
       "        this.canvas_div.blur();\n",
       "        event.shiftKey = false;\n",
       "        // Send a \"J\" for go to next cell\n",
       "        event.which = 74;\n",
       "        event.keyCode = 74;\n",
       "        manager.command_mode();\n",
       "        manager.handle_keydown(event);\n",
       "    }\n",
       "}\n",
       "\n",
       "mpl.figure.prototype.handle_save = function(fig, msg) {\n",
       "    fig.ondownload(fig, null);\n",
       "}\n",
       "\n",
       "\n",
       "mpl.find_output_cell = function(html_output) {\n",
       "    // Return the cell and output element which can be found *uniquely* in the notebook.\n",
       "    // Note - this is a bit hacky, but it is done because the \"notebook_saving.Notebook\"\n",
       "    // IPython event is triggered only after the cells have been serialised, which for\n",
       "    // our purposes (turning an active figure into a static one), is too late.\n",
       "    var cells = IPython.notebook.get_cells();\n",
       "    var ncells = cells.length;\n",
       "    for (var i=0; i<ncells; i++) {\n",
       "        var cell = cells[i];\n",
       "        if (cell.cell_type === 'code'){\n",
       "            for (var j=0; j<cell.output_area.outputs.length; j++) {\n",
       "                var data = cell.output_area.outputs[j];\n",
       "                if (data.data) {\n",
       "                    // IPython >= 3 moved mimebundle to data attribute of output\n",
       "                    data = data.data;\n",
       "                }\n",
       "                if (data['text/html'] == html_output) {\n",
       "                    return [cell, data, j];\n",
       "                }\n",
       "            }\n",
       "        }\n",
       "    }\n",
       "}\n",
       "\n",
       "// Register the function which deals with the matplotlib target/channel.\n",
       "// The kernel may be null if the page has been refreshed.\n",
       "if (IPython.notebook.kernel != null) {\n",
       "    IPython.notebook.kernel.comm_manager.register_target('matplotlib', mpl.mpl_figure_comm);\n",
       "}\n"
      ],
      "text/plain": [
       "<IPython.core.display.Javascript object>"
      ]
     },
     "metadata": {},
     "output_type": "display_data"
    },
    {
     "data": {
      "text/html": [
       "<img src=\"data:image/png;base64,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\" width=\"640\">"
      ],
      "text/plain": [
       "<IPython.core.display.HTML object>"
      ]
     },
     "metadata": {},
     "output_type": "display_data"
    },
    {
     "data": {
      "text/plain": [
       "array([[<matplotlib.axes._subplots.AxesSubplot object at 0x1225c2550>]], dtype=object)"
      ]
     },
     "execution_count": 555,
     "metadata": {},
     "output_type": "execute_result"
    }
   ],
   "source": [
    "test_df3.hist(column='GrLivArea')"
   ]
  },
  {
   "cell_type": "code",
   "execution_count": 553,
   "metadata": {
    "collapsed": false
   },
   "outputs": [
    {
     "data": {
      "text/plain": [
       "1"
      ]
     },
     "execution_count": 553,
     "metadata": {},
     "output_type": "execute_result"
    }
   ],
   "source": [
    "mask = test_df3['GrLivArea'] > 4500\n",
    "mask.sum()"
   ]
  },
  {
   "cell_type": "markdown",
   "metadata": {},
   "source": [
    "There is one value in the Test Data that has a living area of 4500 square feet.  We will assume that's an outlier point.  Therefore, we will replace that point with a house price that is 25% the predicted house price and see what happens."
   ]
  },
  {
   "cell_type": "code",
   "execution_count": 557,
   "metadata": {
    "collapsed": false
   },
   "outputs": [
    {
     "data": {
      "text/plain": [
       "2550"
      ]
     },
     "execution_count": 557,
     "metadata": {},
     "output_type": "execute_result"
    }
   ],
   "source": [
    "mask.idxmax()"
   ]
  },
  {
   "cell_type": "code",
   "execution_count": 567,
   "metadata": {
    "collapsed": false
   },
   "outputs": [],
   "source": [
    "price_prediction_grad_boost_ver4 = grad_boost_lr01_nest1000_maxdep2.predict(test_df3)\n",
    "price_predict_grad_boost_ver4_df = pd.DataFrame(price_prediction_grad_boost_ver4,index=test_df3.index,columns=['SalePrice'])\n",
    "price_predict_grad_boost_ver4_df.loc[2550] = 773794*0.25\n",
    "price_predict_grad_boost_ver4_df.to_csv('house_price_submission_GradientBoosting_ver4.csv')"
   ]
  },
  {
   "cell_type": "markdown",
   "metadata": {},
   "source": [
    "This didn't lead to improved performance."
   ]
  },
  {
   "cell_type": "markdown",
   "metadata": {},
   "source": [
    "Something I would like to try is taking the log of the feature 'GrLivArea'"
   ]
  },
  {
   "cell_type": "code",
   "execution_count": 568,
   "metadata": {
    "collapsed": false
   },
   "outputs": [
    {
     "data": {
      "text/html": [
       "<div>\n",
       "<style>\n",
       "    .dataframe thead tr:only-child th {\n",
       "        text-align: right;\n",
       "    }\n",
       "\n",
       "    .dataframe thead th {\n",
       "        text-align: left;\n",
       "    }\n",
       "\n",
       "    .dataframe tbody tr th {\n",
       "        vertical-align: top;\n",
       "    }\n",
       "</style>\n",
       "<table border=\"1\" class=\"dataframe\">\n",
       "  <thead>\n",
       "    <tr style=\"text-align: right;\">\n",
       "      <th></th>\n",
       "      <th>MSSubClass</th>\n",
       "      <th>LotArea</th>\n",
       "      <th>OverallQual</th>\n",
       "      <th>OverallCond</th>\n",
       "      <th>YearBuilt</th>\n",
       "      <th>YearRemodAdd</th>\n",
       "      <th>MasVnrArea</th>\n",
       "      <th>BsmtFinSF1</th>\n",
       "      <th>BsmtFinSF2</th>\n",
       "      <th>BsmtUnfSF</th>\n",
       "      <th>...</th>\n",
       "      <th>SaleType_ConLw</th>\n",
       "      <th>SaleType_New</th>\n",
       "      <th>SaleType_Oth</th>\n",
       "      <th>SaleType_WD</th>\n",
       "      <th>SaleCondition_Abnorml</th>\n",
       "      <th>SaleCondition_AdjLand</th>\n",
       "      <th>SaleCondition_Alloca</th>\n",
       "      <th>SaleCondition_Family</th>\n",
       "      <th>SaleCondition_Normal</th>\n",
       "      <th>SaleCondition_Partial</th>\n",
       "    </tr>\n",
       "    <tr>\n",
       "      <th>Id</th>\n",
       "      <th></th>\n",
       "      <th></th>\n",
       "      <th></th>\n",
       "      <th></th>\n",
       "      <th></th>\n",
       "      <th></th>\n",
       "      <th></th>\n",
       "      <th></th>\n",
       "      <th></th>\n",
       "      <th></th>\n",
       "      <th></th>\n",
       "      <th></th>\n",
       "      <th></th>\n",
       "      <th></th>\n",
       "      <th></th>\n",
       "      <th></th>\n",
       "      <th></th>\n",
       "      <th></th>\n",
       "      <th></th>\n",
       "      <th></th>\n",
       "      <th></th>\n",
       "    </tr>\n",
       "  </thead>\n",
       "  <tbody>\n",
       "    <tr>\n",
       "      <th>1293</th>\n",
       "      <td>70</td>\n",
       "      <td>6600</td>\n",
       "      <td>5</td>\n",
       "      <td>4</td>\n",
       "      <td>1892</td>\n",
       "      <td>1965</td>\n",
       "      <td>0.0</td>\n",
       "      <td>0</td>\n",
       "      <td>0</td>\n",
       "      <td>994</td>\n",
       "      <td>...</td>\n",
       "      <td>0</td>\n",
       "      <td>0</td>\n",
       "      <td>0</td>\n",
       "      <td>1</td>\n",
       "      <td>0</td>\n",
       "      <td>0</td>\n",
       "      <td>0</td>\n",
       "      <td>0</td>\n",
       "      <td>1</td>\n",
       "      <td>0</td>\n",
       "    </tr>\n",
       "    <tr>\n",
       "      <th>1019</th>\n",
       "      <td>80</td>\n",
       "      <td>10784</td>\n",
       "      <td>7</td>\n",
       "      <td>5</td>\n",
       "      <td>1991</td>\n",
       "      <td>1992</td>\n",
       "      <td>76.0</td>\n",
       "      <td>0</td>\n",
       "      <td>0</td>\n",
       "      <td>384</td>\n",
       "      <td>...</td>\n",
       "      <td>0</td>\n",
       "      <td>0</td>\n",
       "      <td>0</td>\n",
       "      <td>1</td>\n",
       "      <td>0</td>\n",
       "      <td>0</td>\n",
       "      <td>0</td>\n",
       "      <td>0</td>\n",
       "      <td>1</td>\n",
       "      <td>0</td>\n",
       "    </tr>\n",
       "    <tr>\n",
       "      <th>1214</th>\n",
       "      <td>80</td>\n",
       "      <td>10246</td>\n",
       "      <td>4</td>\n",
       "      <td>9</td>\n",
       "      <td>1965</td>\n",
       "      <td>2001</td>\n",
       "      <td>0.0</td>\n",
       "      <td>648</td>\n",
       "      <td>0</td>\n",
       "      <td>0</td>\n",
       "      <td>...</td>\n",
       "      <td>0</td>\n",
       "      <td>0</td>\n",
       "      <td>0</td>\n",
       "      <td>1</td>\n",
       "      <td>0</td>\n",
       "      <td>0</td>\n",
       "      <td>0</td>\n",
       "      <td>0</td>\n",
       "      <td>1</td>\n",
       "      <td>0</td>\n",
       "    </tr>\n",
       "    <tr>\n",
       "      <th>1431</th>\n",
       "      <td>60</td>\n",
       "      <td>21930</td>\n",
       "      <td>5</td>\n",
       "      <td>5</td>\n",
       "      <td>2005</td>\n",
       "      <td>2005</td>\n",
       "      <td>0.0</td>\n",
       "      <td>0</td>\n",
       "      <td>0</td>\n",
       "      <td>732</td>\n",
       "      <td>...</td>\n",
       "      <td>0</td>\n",
       "      <td>0</td>\n",
       "      <td>0</td>\n",
       "      <td>1</td>\n",
       "      <td>0</td>\n",
       "      <td>0</td>\n",
       "      <td>0</td>\n",
       "      <td>0</td>\n",
       "      <td>1</td>\n",
       "      <td>0</td>\n",
       "    </tr>\n",
       "    <tr>\n",
       "      <th>811</th>\n",
       "      <td>20</td>\n",
       "      <td>10140</td>\n",
       "      <td>6</td>\n",
       "      <td>6</td>\n",
       "      <td>1974</td>\n",
       "      <td>1999</td>\n",
       "      <td>99.0</td>\n",
       "      <td>663</td>\n",
       "      <td>377</td>\n",
       "      <td>0</td>\n",
       "      <td>...</td>\n",
       "      <td>0</td>\n",
       "      <td>0</td>\n",
       "      <td>0</td>\n",
       "      <td>1</td>\n",
       "      <td>0</td>\n",
       "      <td>0</td>\n",
       "      <td>0</td>\n",
       "      <td>0</td>\n",
       "      <td>1</td>\n",
       "      <td>0</td>\n",
       "    </tr>\n",
       "  </tbody>\n",
       "</table>\n",
       "<p>5 rows × 278 columns</p>\n",
       "</div>"
      ],
      "text/plain": [
       "      MSSubClass  LotArea  OverallQual  OverallCond  YearBuilt  YearRemodAdd  \\\n",
       "Id                                                                             \n",
       "1293          70     6600            5            4       1892          1965   \n",
       "1019          80    10784            7            5       1991          1992   \n",
       "1214          80    10246            4            9       1965          2001   \n",
       "1431          60    21930            5            5       2005          2005   \n",
       "811           20    10140            6            6       1974          1999   \n",
       "\n",
       "      MasVnrArea  BsmtFinSF1  BsmtFinSF2  BsmtUnfSF          ...            \\\n",
       "Id                                                           ...             \n",
       "1293         0.0           0           0        994          ...             \n",
       "1019        76.0           0           0        384          ...             \n",
       "1214         0.0         648           0          0          ...             \n",
       "1431         0.0           0           0        732          ...             \n",
       "811         99.0         663         377          0          ...             \n",
       "\n",
       "      SaleType_ConLw  SaleType_New  SaleType_Oth  SaleType_WD  \\\n",
       "Id                                                              \n",
       "1293               0             0             0            1   \n",
       "1019               0             0             0            1   \n",
       "1214               0             0             0            1   \n",
       "1431               0             0             0            1   \n",
       "811                0             0             0            1   \n",
       "\n",
       "      SaleCondition_Abnorml  SaleCondition_AdjLand  SaleCondition_Alloca  \\\n",
       "Id                                                                         \n",
       "1293                      0                      0                     0   \n",
       "1019                      0                      0                     0   \n",
       "1214                      0                      0                     0   \n",
       "1431                      0                      0                     0   \n",
       "811                       0                      0                     0   \n",
       "\n",
       "      SaleCondition_Family  SaleCondition_Normal  SaleCondition_Partial  \n",
       "Id                                                                       \n",
       "1293                     0                     1                      0  \n",
       "1019                     0                     1                      0  \n",
       "1214                     0                     1                      0  \n",
       "1431                     0                     1                      0  \n",
       "811                      0                     1                      0  \n",
       "\n",
       "[5 rows x 278 columns]"
      ]
     },
     "execution_count": 568,
     "metadata": {},
     "output_type": "execute_result"
    }
   ],
   "source": [
    "X_train.head()"
   ]
  },
  {
   "cell_type": "code",
   "execution_count": 569,
   "metadata": {
    "collapsed": false
   },
   "outputs": [
    {
     "data": {
      "application/javascript": [
       "/* Put everything inside the global mpl namespace */\n",
       "window.mpl = {};\n",
       "\n",
       "\n",
       "mpl.get_websocket_type = function() {\n",
       "    if (typeof(WebSocket) !== 'undefined') {\n",
       "        return WebSocket;\n",
       "    } else if (typeof(MozWebSocket) !== 'undefined') {\n",
       "        return MozWebSocket;\n",
       "    } else {\n",
       "        alert('Your browser does not have WebSocket support.' +\n",
       "              'Please try Chrome, Safari or Firefox ≥ 6. ' +\n",
       "              'Firefox 4 and 5 are also supported but you ' +\n",
       "              'have to enable WebSockets in about:config.');\n",
       "    };\n",
       "}\n",
       "\n",
       "mpl.figure = function(figure_id, websocket, ondownload, parent_element) {\n",
       "    this.id = figure_id;\n",
       "\n",
       "    this.ws = websocket;\n",
       "\n",
       "    this.supports_binary = (this.ws.binaryType != undefined);\n",
       "\n",
       "    if (!this.supports_binary) {\n",
       "        var warnings = document.getElementById(\"mpl-warnings\");\n",
       "        if (warnings) {\n",
       "            warnings.style.display = 'block';\n",
       "            warnings.textContent = (\n",
       "                \"This browser does not support binary websocket messages. \" +\n",
       "                    \"Performance may be slow.\");\n",
       "        }\n",
       "    }\n",
       "\n",
       "    this.imageObj = new Image();\n",
       "\n",
       "    this.context = undefined;\n",
       "    this.message = undefined;\n",
       "    this.canvas = undefined;\n",
       "    this.rubberband_canvas = undefined;\n",
       "    this.rubberband_context = undefined;\n",
       "    this.format_dropdown = undefined;\n",
       "\n",
       "    this.image_mode = 'full';\n",
       "\n",
       "    this.root = $('<div/>');\n",
       "    this._root_extra_style(this.root)\n",
       "    this.root.attr('style', 'display: inline-block');\n",
       "\n",
       "    $(parent_element).append(this.root);\n",
       "\n",
       "    this._init_header(this);\n",
       "    this._init_canvas(this);\n",
       "    this._init_toolbar(this);\n",
       "\n",
       "    var fig = this;\n",
       "\n",
       "    this.waiting = false;\n",
       "\n",
       "    this.ws.onopen =  function () {\n",
       "            fig.send_message(\"supports_binary\", {value: fig.supports_binary});\n",
       "            fig.send_message(\"send_image_mode\", {});\n",
       "            if (mpl.ratio != 1) {\n",
       "                fig.send_message(\"set_dpi_ratio\", {'dpi_ratio': mpl.ratio});\n",
       "            }\n",
       "            fig.send_message(\"refresh\", {});\n",
       "        }\n",
       "\n",
       "    this.imageObj.onload = function() {\n",
       "            if (fig.image_mode == 'full') {\n",
       "                // Full images could contain transparency (where diff images\n",
       "                // almost always do), so we need to clear the canvas so that\n",
       "                // there is no ghosting.\n",
       "                fig.context.clearRect(0, 0, fig.canvas.width, fig.canvas.height);\n",
       "            }\n",
       "            fig.context.drawImage(fig.imageObj, 0, 0);\n",
       "        };\n",
       "\n",
       "    this.imageObj.onunload = function() {\n",
       "        fig.ws.close();\n",
       "    }\n",
       "\n",
       "    this.ws.onmessage = this._make_on_message_function(this);\n",
       "\n",
       "    this.ondownload = ondownload;\n",
       "}\n",
       "\n",
       "mpl.figure.prototype._init_header = function() {\n",
       "    var titlebar = $(\n",
       "        '<div class=\"ui-dialog-titlebar ui-widget-header ui-corner-all ' +\n",
       "        'ui-helper-clearfix\"/>');\n",
       "    var titletext = $(\n",
       "        '<div class=\"ui-dialog-title\" style=\"width: 100%; ' +\n",
       "        'text-align: center; padding: 3px;\"/>');\n",
       "    titlebar.append(titletext)\n",
       "    this.root.append(titlebar);\n",
       "    this.header = titletext[0];\n",
       "}\n",
       "\n",
       "\n",
       "\n",
       "mpl.figure.prototype._canvas_extra_style = function(canvas_div) {\n",
       "\n",
       "}\n",
       "\n",
       "\n",
       "mpl.figure.prototype._root_extra_style = function(canvas_div) {\n",
       "\n",
       "}\n",
       "\n",
       "mpl.figure.prototype._init_canvas = function() {\n",
       "    var fig = this;\n",
       "\n",
       "    var canvas_div = $('<div/>');\n",
       "\n",
       "    canvas_div.attr('style', 'position: relative; clear: both; outline: 0');\n",
       "\n",
       "    function canvas_keyboard_event(event) {\n",
       "        return fig.key_event(event, event['data']);\n",
       "    }\n",
       "\n",
       "    canvas_div.keydown('key_press', canvas_keyboard_event);\n",
       "    canvas_div.keyup('key_release', canvas_keyboard_event);\n",
       "    this.canvas_div = canvas_div\n",
       "    this._canvas_extra_style(canvas_div)\n",
       "    this.root.append(canvas_div);\n",
       "\n",
       "    var canvas = $('<canvas/>');\n",
       "    canvas.addClass('mpl-canvas');\n",
       "    canvas.attr('style', \"left: 0; top: 0; z-index: 0; outline: 0\")\n",
       "\n",
       "    this.canvas = canvas[0];\n",
       "    this.context = canvas[0].getContext(\"2d\");\n",
       "\n",
       "    var backingStore = this.context.backingStorePixelRatio ||\n",
       "\tthis.context.webkitBackingStorePixelRatio ||\n",
       "\tthis.context.mozBackingStorePixelRatio ||\n",
       "\tthis.context.msBackingStorePixelRatio ||\n",
       "\tthis.context.oBackingStorePixelRatio ||\n",
       "\tthis.context.backingStorePixelRatio || 1;\n",
       "\n",
       "    mpl.ratio = (window.devicePixelRatio || 1) / backingStore;\n",
       "\n",
       "    var rubberband = $('<canvas/>');\n",
       "    rubberband.attr('style', \"position: absolute; left: 0; top: 0; z-index: 1;\")\n",
       "\n",
       "    var pass_mouse_events = true;\n",
       "\n",
       "    canvas_div.resizable({\n",
       "        start: function(event, ui) {\n",
       "            pass_mouse_events = false;\n",
       "        },\n",
       "        resize: function(event, ui) {\n",
       "            fig.request_resize(ui.size.width, ui.size.height);\n",
       "        },\n",
       "        stop: function(event, ui) {\n",
       "            pass_mouse_events = true;\n",
       "            fig.request_resize(ui.size.width, ui.size.height);\n",
       "        },\n",
       "    });\n",
       "\n",
       "    function mouse_event_fn(event) {\n",
       "        if (pass_mouse_events)\n",
       "            return fig.mouse_event(event, event['data']);\n",
       "    }\n",
       "\n",
       "    rubberband.mousedown('button_press', mouse_event_fn);\n",
       "    rubberband.mouseup('button_release', mouse_event_fn);\n",
       "    // Throttle sequential mouse events to 1 every 20ms.\n",
       "    rubberband.mousemove('motion_notify', mouse_event_fn);\n",
       "\n",
       "    rubberband.mouseenter('figure_enter', mouse_event_fn);\n",
       "    rubberband.mouseleave('figure_leave', mouse_event_fn);\n",
       "\n",
       "    canvas_div.on(\"wheel\", function (event) {\n",
       "        event = event.originalEvent;\n",
       "        event['data'] = 'scroll'\n",
       "        if (event.deltaY < 0) {\n",
       "            event.step = 1;\n",
       "        } else {\n",
       "            event.step = -1;\n",
       "        }\n",
       "        mouse_event_fn(event);\n",
       "    });\n",
       "\n",
       "    canvas_div.append(canvas);\n",
       "    canvas_div.append(rubberband);\n",
       "\n",
       "    this.rubberband = rubberband;\n",
       "    this.rubberband_canvas = rubberband[0];\n",
       "    this.rubberband_context = rubberband[0].getContext(\"2d\");\n",
       "    this.rubberband_context.strokeStyle = \"#000000\";\n",
       "\n",
       "    this._resize_canvas = function(width, height) {\n",
       "        // Keep the size of the canvas, canvas container, and rubber band\n",
       "        // canvas in synch.\n",
       "        canvas_div.css('width', width)\n",
       "        canvas_div.css('height', height)\n",
       "\n",
       "        canvas.attr('width', width * mpl.ratio);\n",
       "        canvas.attr('height', height * mpl.ratio);\n",
       "        canvas.attr('style', 'width: ' + width + 'px; height: ' + height + 'px;');\n",
       "\n",
       "        rubberband.attr('width', width);\n",
       "        rubberband.attr('height', height);\n",
       "    }\n",
       "\n",
       "    // Set the figure to an initial 600x600px, this will subsequently be updated\n",
       "    // upon first draw.\n",
       "    this._resize_canvas(600, 600);\n",
       "\n",
       "    // Disable right mouse context menu.\n",
       "    $(this.rubberband_canvas).bind(\"contextmenu\",function(e){\n",
       "        return false;\n",
       "    });\n",
       "\n",
       "    function set_focus () {\n",
       "        canvas.focus();\n",
       "        canvas_div.focus();\n",
       "    }\n",
       "\n",
       "    window.setTimeout(set_focus, 100);\n",
       "}\n",
       "\n",
       "mpl.figure.prototype._init_toolbar = function() {\n",
       "    var fig = this;\n",
       "\n",
       "    var nav_element = $('<div/>')\n",
       "    nav_element.attr('style', 'width: 100%');\n",
       "    this.root.append(nav_element);\n",
       "\n",
       "    // Define a callback function for later on.\n",
       "    function toolbar_event(event) {\n",
       "        return fig.toolbar_button_onclick(event['data']);\n",
       "    }\n",
       "    function toolbar_mouse_event(event) {\n",
       "        return fig.toolbar_button_onmouseover(event['data']);\n",
       "    }\n",
       "\n",
       "    for(var toolbar_ind in mpl.toolbar_items) {\n",
       "        var name = mpl.toolbar_items[toolbar_ind][0];\n",
       "        var tooltip = mpl.toolbar_items[toolbar_ind][1];\n",
       "        var image = mpl.toolbar_items[toolbar_ind][2];\n",
       "        var method_name = mpl.toolbar_items[toolbar_ind][3];\n",
       "\n",
       "        if (!name) {\n",
       "            // put a spacer in here.\n",
       "            continue;\n",
       "        }\n",
       "        var button = $('<button/>');\n",
       "        button.addClass('ui-button ui-widget ui-state-default ui-corner-all ' +\n",
       "                        'ui-button-icon-only');\n",
       "        button.attr('role', 'button');\n",
       "        button.attr('aria-disabled', 'false');\n",
       "        button.click(method_name, toolbar_event);\n",
       "        button.mouseover(tooltip, toolbar_mouse_event);\n",
       "\n",
       "        var icon_img = $('<span/>');\n",
       "        icon_img.addClass('ui-button-icon-primary ui-icon');\n",
       "        icon_img.addClass(image);\n",
       "        icon_img.addClass('ui-corner-all');\n",
       "\n",
       "        var tooltip_span = $('<span/>');\n",
       "        tooltip_span.addClass('ui-button-text');\n",
       "        tooltip_span.html(tooltip);\n",
       "\n",
       "        button.append(icon_img);\n",
       "        button.append(tooltip_span);\n",
       "\n",
       "        nav_element.append(button);\n",
       "    }\n",
       "\n",
       "    var fmt_picker_span = $('<span/>');\n",
       "\n",
       "    var fmt_picker = $('<select/>');\n",
       "    fmt_picker.addClass('mpl-toolbar-option ui-widget ui-widget-content');\n",
       "    fmt_picker_span.append(fmt_picker);\n",
       "    nav_element.append(fmt_picker_span);\n",
       "    this.format_dropdown = fmt_picker[0];\n",
       "\n",
       "    for (var ind in mpl.extensions) {\n",
       "        var fmt = mpl.extensions[ind];\n",
       "        var option = $(\n",
       "            '<option/>', {selected: fmt === mpl.default_extension}).html(fmt);\n",
       "        fmt_picker.append(option)\n",
       "    }\n",
       "\n",
       "    // Add hover states to the ui-buttons\n",
       "    $( \".ui-button\" ).hover(\n",
       "        function() { $(this).addClass(\"ui-state-hover\");},\n",
       "        function() { $(this).removeClass(\"ui-state-hover\");}\n",
       "    );\n",
       "\n",
       "    var status_bar = $('<span class=\"mpl-message\"/>');\n",
       "    nav_element.append(status_bar);\n",
       "    this.message = status_bar[0];\n",
       "}\n",
       "\n",
       "mpl.figure.prototype.request_resize = function(x_pixels, y_pixels) {\n",
       "    // Request matplotlib to resize the figure. Matplotlib will then trigger a resize in the client,\n",
       "    // which will in turn request a refresh of the image.\n",
       "    this.send_message('resize', {'width': x_pixels, 'height': y_pixels});\n",
       "}\n",
       "\n",
       "mpl.figure.prototype.send_message = function(type, properties) {\n",
       "    properties['type'] = type;\n",
       "    properties['figure_id'] = this.id;\n",
       "    this.ws.send(JSON.stringify(properties));\n",
       "}\n",
       "\n",
       "mpl.figure.prototype.send_draw_message = function() {\n",
       "    if (!this.waiting) {\n",
       "        this.waiting = true;\n",
       "        this.ws.send(JSON.stringify({type: \"draw\", figure_id: this.id}));\n",
       "    }\n",
       "}\n",
       "\n",
       "\n",
       "mpl.figure.prototype.handle_save = function(fig, msg) {\n",
       "    var format_dropdown = fig.format_dropdown;\n",
       "    var format = format_dropdown.options[format_dropdown.selectedIndex].value;\n",
       "    fig.ondownload(fig, format);\n",
       "}\n",
       "\n",
       "\n",
       "mpl.figure.prototype.handle_resize = function(fig, msg) {\n",
       "    var size = msg['size'];\n",
       "    if (size[0] != fig.canvas.width || size[1] != fig.canvas.height) {\n",
       "        fig._resize_canvas(size[0], size[1]);\n",
       "        fig.send_message(\"refresh\", {});\n",
       "    };\n",
       "}\n",
       "\n",
       "mpl.figure.prototype.handle_rubberband = function(fig, msg) {\n",
       "    var x0 = msg['x0'] / mpl.ratio;\n",
       "    var y0 = (fig.canvas.height - msg['y0']) / mpl.ratio;\n",
       "    var x1 = msg['x1'] / mpl.ratio;\n",
       "    var y1 = (fig.canvas.height - msg['y1']) / mpl.ratio;\n",
       "    x0 = Math.floor(x0) + 0.5;\n",
       "    y0 = Math.floor(y0) + 0.5;\n",
       "    x1 = Math.floor(x1) + 0.5;\n",
       "    y1 = Math.floor(y1) + 0.5;\n",
       "    var min_x = Math.min(x0, x1);\n",
       "    var min_y = Math.min(y0, y1);\n",
       "    var width = Math.abs(x1 - x0);\n",
       "    var height = Math.abs(y1 - y0);\n",
       "\n",
       "    fig.rubberband_context.clearRect(\n",
       "        0, 0, fig.canvas.width, fig.canvas.height);\n",
       "\n",
       "    fig.rubberband_context.strokeRect(min_x, min_y, width, height);\n",
       "}\n",
       "\n",
       "mpl.figure.prototype.handle_figure_label = function(fig, msg) {\n",
       "    // Updates the figure title.\n",
       "    fig.header.textContent = msg['label'];\n",
       "}\n",
       "\n",
       "mpl.figure.prototype.handle_cursor = function(fig, msg) {\n",
       "    var cursor = msg['cursor'];\n",
       "    switch(cursor)\n",
       "    {\n",
       "    case 0:\n",
       "        cursor = 'pointer';\n",
       "        break;\n",
       "    case 1:\n",
       "        cursor = 'default';\n",
       "        break;\n",
       "    case 2:\n",
       "        cursor = 'crosshair';\n",
       "        break;\n",
       "    case 3:\n",
       "        cursor = 'move';\n",
       "        break;\n",
       "    }\n",
       "    fig.rubberband_canvas.style.cursor = cursor;\n",
       "}\n",
       "\n",
       "mpl.figure.prototype.handle_message = function(fig, msg) {\n",
       "    fig.message.textContent = msg['message'];\n",
       "}\n",
       "\n",
       "mpl.figure.prototype.handle_draw = function(fig, msg) {\n",
       "    // Request the server to send over a new figure.\n",
       "    fig.send_draw_message();\n",
       "}\n",
       "\n",
       "mpl.figure.prototype.handle_image_mode = function(fig, msg) {\n",
       "    fig.image_mode = msg['mode'];\n",
       "}\n",
       "\n",
       "mpl.figure.prototype.updated_canvas_event = function() {\n",
       "    // Called whenever the canvas gets updated.\n",
       "    this.send_message(\"ack\", {});\n",
       "}\n",
       "\n",
       "// A function to construct a web socket function for onmessage handling.\n",
       "// Called in the figure constructor.\n",
       "mpl.figure.prototype._make_on_message_function = function(fig) {\n",
       "    return function socket_on_message(evt) {\n",
       "        if (evt.data instanceof Blob) {\n",
       "            /* FIXME: We get \"Resource interpreted as Image but\n",
       "             * transferred with MIME type text/plain:\" errors on\n",
       "             * Chrome.  But how to set the MIME type?  It doesn't seem\n",
       "             * to be part of the websocket stream */\n",
       "            evt.data.type = \"image/png\";\n",
       "\n",
       "            /* Free the memory for the previous frames */\n",
       "            if (fig.imageObj.src) {\n",
       "                (window.URL || window.webkitURL).revokeObjectURL(\n",
       "                    fig.imageObj.src);\n",
       "            }\n",
       "\n",
       "            fig.imageObj.src = (window.URL || window.webkitURL).createObjectURL(\n",
       "                evt.data);\n",
       "            fig.updated_canvas_event();\n",
       "            fig.waiting = false;\n",
       "            return;\n",
       "        }\n",
       "        else if (typeof evt.data === 'string' && evt.data.slice(0, 21) == \"data:image/png;base64\") {\n",
       "            fig.imageObj.src = evt.data;\n",
       "            fig.updated_canvas_event();\n",
       "            fig.waiting = false;\n",
       "            return;\n",
       "        }\n",
       "\n",
       "        var msg = JSON.parse(evt.data);\n",
       "        var msg_type = msg['type'];\n",
       "\n",
       "        // Call the  \"handle_{type}\" callback, which takes\n",
       "        // the figure and JSON message as its only arguments.\n",
       "        try {\n",
       "            var callback = fig[\"handle_\" + msg_type];\n",
       "        } catch (e) {\n",
       "            console.log(\"No handler for the '\" + msg_type + \"' message type: \", msg);\n",
       "            return;\n",
       "        }\n",
       "\n",
       "        if (callback) {\n",
       "            try {\n",
       "                // console.log(\"Handling '\" + msg_type + \"' message: \", msg);\n",
       "                callback(fig, msg);\n",
       "            } catch (e) {\n",
       "                console.log(\"Exception inside the 'handler_\" + msg_type + \"' callback:\", e, e.stack, msg);\n",
       "            }\n",
       "        }\n",
       "    };\n",
       "}\n",
       "\n",
       "// from http://stackoverflow.com/questions/1114465/getting-mouse-location-in-canvas\n",
       "mpl.findpos = function(e) {\n",
       "    //this section is from http://www.quirksmode.org/js/events_properties.html\n",
       "    var targ;\n",
       "    if (!e)\n",
       "        e = window.event;\n",
       "    if (e.target)\n",
       "        targ = e.target;\n",
       "    else if (e.srcElement)\n",
       "        targ = e.srcElement;\n",
       "    if (targ.nodeType == 3) // defeat Safari bug\n",
       "        targ = targ.parentNode;\n",
       "\n",
       "    // jQuery normalizes the pageX and pageY\n",
       "    // pageX,Y are the mouse positions relative to the document\n",
       "    // offset() returns the position of the element relative to the document\n",
       "    var x = e.pageX - $(targ).offset().left;\n",
       "    var y = e.pageY - $(targ).offset().top;\n",
       "\n",
       "    return {\"x\": x, \"y\": y};\n",
       "};\n",
       "\n",
       "/*\n",
       " * return a copy of an object with only non-object keys\n",
       " * we need this to avoid circular references\n",
       " * http://stackoverflow.com/a/24161582/3208463\n",
       " */\n",
       "function simpleKeys (original) {\n",
       "  return Object.keys(original).reduce(function (obj, key) {\n",
       "    if (typeof original[key] !== 'object')\n",
       "        obj[key] = original[key]\n",
       "    return obj;\n",
       "  }, {});\n",
       "}\n",
       "\n",
       "mpl.figure.prototype.mouse_event = function(event, name) {\n",
       "    var canvas_pos = mpl.findpos(event)\n",
       "\n",
       "    if (name === 'button_press')\n",
       "    {\n",
       "        this.canvas.focus();\n",
       "        this.canvas_div.focus();\n",
       "    }\n",
       "\n",
       "    var x = canvas_pos.x * mpl.ratio;\n",
       "    var y = canvas_pos.y * mpl.ratio;\n",
       "\n",
       "    this.send_message(name, {x: x, y: y, button: event.button,\n",
       "                             step: event.step,\n",
       "                             guiEvent: simpleKeys(event)});\n",
       "\n",
       "    /* This prevents the web browser from automatically changing to\n",
       "     * the text insertion cursor when the button is pressed.  We want\n",
       "     * to control all of the cursor setting manually through the\n",
       "     * 'cursor' event from matplotlib */\n",
       "    event.preventDefault();\n",
       "    return false;\n",
       "}\n",
       "\n",
       "mpl.figure.prototype._key_event_extra = function(event, name) {\n",
       "    // Handle any extra behaviour associated with a key event\n",
       "}\n",
       "\n",
       "mpl.figure.prototype.key_event = function(event, name) {\n",
       "\n",
       "    // Prevent repeat events\n",
       "    if (name == 'key_press')\n",
       "    {\n",
       "        if (event.which === this._key)\n",
       "            return;\n",
       "        else\n",
       "            this._key = event.which;\n",
       "    }\n",
       "    if (name == 'key_release')\n",
       "        this._key = null;\n",
       "\n",
       "    var value = '';\n",
       "    if (event.ctrlKey && event.which != 17)\n",
       "        value += \"ctrl+\";\n",
       "    if (event.altKey && event.which != 18)\n",
       "        value += \"alt+\";\n",
       "    if (event.shiftKey && event.which != 16)\n",
       "        value += \"shift+\";\n",
       "\n",
       "    value += 'k';\n",
       "    value += event.which.toString();\n",
       "\n",
       "    this._key_event_extra(event, name);\n",
       "\n",
       "    this.send_message(name, {key: value,\n",
       "                             guiEvent: simpleKeys(event)});\n",
       "    return false;\n",
       "}\n",
       "\n",
       "mpl.figure.prototype.toolbar_button_onclick = function(name) {\n",
       "    if (name == 'download') {\n",
       "        this.handle_save(this, null);\n",
       "    } else {\n",
       "        this.send_message(\"toolbar_button\", {name: name});\n",
       "    }\n",
       "};\n",
       "\n",
       "mpl.figure.prototype.toolbar_button_onmouseover = function(tooltip) {\n",
       "    this.message.textContent = tooltip;\n",
       "};\n",
       "mpl.toolbar_items = [[\"Home\", \"Reset original view\", \"fa fa-home icon-home\", \"home\"], [\"Back\", \"Back to  previous view\", \"fa fa-arrow-left icon-arrow-left\", \"back\"], [\"Forward\", \"Forward to next view\", \"fa fa-arrow-right icon-arrow-right\", \"forward\"], [\"\", \"\", \"\", \"\"], [\"Pan\", \"Pan axes with left mouse, zoom with right\", \"fa fa-arrows icon-move\", \"pan\"], [\"Zoom\", \"Zoom to rectangle\", \"fa fa-square-o icon-check-empty\", \"zoom\"], [\"\", \"\", \"\", \"\"], [\"Download\", \"Download plot\", \"fa fa-floppy-o icon-save\", \"download\"]];\n",
       "\n",
       "mpl.extensions = [\"eps\", \"jpeg\", \"pdf\", \"png\", \"ps\", \"raw\", \"svg\", \"tif\"];\n",
       "\n",
       "mpl.default_extension = \"png\";var comm_websocket_adapter = function(comm) {\n",
       "    // Create a \"websocket\"-like object which calls the given IPython comm\n",
       "    // object with the appropriate methods. Currently this is a non binary\n",
       "    // socket, so there is still some room for performance tuning.\n",
       "    var ws = {};\n",
       "\n",
       "    ws.close = function() {\n",
       "        comm.close()\n",
       "    };\n",
       "    ws.send = function(m) {\n",
       "        //console.log('sending', m);\n",
       "        comm.send(m);\n",
       "    };\n",
       "    // Register the callback with on_msg.\n",
       "    comm.on_msg(function(msg) {\n",
       "        //console.log('receiving', msg['content']['data'], msg);\n",
       "        // Pass the mpl event to the overriden (by mpl) onmessage function.\n",
       "        ws.onmessage(msg['content']['data'])\n",
       "    });\n",
       "    return ws;\n",
       "}\n",
       "\n",
       "mpl.mpl_figure_comm = function(comm, msg) {\n",
       "    // This is the function which gets called when the mpl process\n",
       "    // starts-up an IPython Comm through the \"matplotlib\" channel.\n",
       "\n",
       "    var id = msg.content.data.id;\n",
       "    // Get hold of the div created by the display call when the Comm\n",
       "    // socket was opened in Python.\n",
       "    var element = $(\"#\" + id);\n",
       "    var ws_proxy = comm_websocket_adapter(comm)\n",
       "\n",
       "    function ondownload(figure, format) {\n",
       "        window.open(figure.imageObj.src);\n",
       "    }\n",
       "\n",
       "    var fig = new mpl.figure(id, ws_proxy,\n",
       "                           ondownload,\n",
       "                           element.get(0));\n",
       "\n",
       "    // Call onopen now - mpl needs it, as it is assuming we've passed it a real\n",
       "    // web socket which is closed, not our websocket->open comm proxy.\n",
       "    ws_proxy.onopen();\n",
       "\n",
       "    fig.parent_element = element.get(0);\n",
       "    fig.cell_info = mpl.find_output_cell(\"<div id='\" + id + \"'></div>\");\n",
       "    if (!fig.cell_info) {\n",
       "        console.error(\"Failed to find cell for figure\", id, fig);\n",
       "        return;\n",
       "    }\n",
       "\n",
       "    var output_index = fig.cell_info[2]\n",
       "    var cell = fig.cell_info[0];\n",
       "\n",
       "};\n",
       "\n",
       "mpl.figure.prototype.handle_close = function(fig, msg) {\n",
       "    var width = fig.canvas.width/mpl.ratio\n",
       "    fig.root.unbind('remove')\n",
       "\n",
       "    // Update the output cell to use the data from the current canvas.\n",
       "    fig.push_to_output();\n",
       "    var dataURL = fig.canvas.toDataURL();\n",
       "    // Re-enable the keyboard manager in IPython - without this line, in FF,\n",
       "    // the notebook keyboard shortcuts fail.\n",
       "    IPython.keyboard_manager.enable()\n",
       "    $(fig.parent_element).html('<img src=\"' + dataURL + '\" width=\"' + width + '\">');\n",
       "    fig.close_ws(fig, msg);\n",
       "}\n",
       "\n",
       "mpl.figure.prototype.close_ws = function(fig, msg){\n",
       "    fig.send_message('closing', msg);\n",
       "    // fig.ws.close()\n",
       "}\n",
       "\n",
       "mpl.figure.prototype.push_to_output = function(remove_interactive) {\n",
       "    // Turn the data on the canvas into data in the output cell.\n",
       "    var width = this.canvas.width/mpl.ratio\n",
       "    var dataURL = this.canvas.toDataURL();\n",
       "    this.cell_info[1]['text/html'] = '<img src=\"' + dataURL + '\" width=\"' + width + '\">';\n",
       "}\n",
       "\n",
       "mpl.figure.prototype.updated_canvas_event = function() {\n",
       "    // Tell IPython that the notebook contents must change.\n",
       "    IPython.notebook.set_dirty(true);\n",
       "    this.send_message(\"ack\", {});\n",
       "    var fig = this;\n",
       "    // Wait a second, then push the new image to the DOM so\n",
       "    // that it is saved nicely (might be nice to debounce this).\n",
       "    setTimeout(function () { fig.push_to_output() }, 1000);\n",
       "}\n",
       "\n",
       "mpl.figure.prototype._init_toolbar = function() {\n",
       "    var fig = this;\n",
       "\n",
       "    var nav_element = $('<div/>')\n",
       "    nav_element.attr('style', 'width: 100%');\n",
       "    this.root.append(nav_element);\n",
       "\n",
       "    // Define a callback function for later on.\n",
       "    function toolbar_event(event) {\n",
       "        return fig.toolbar_button_onclick(event['data']);\n",
       "    }\n",
       "    function toolbar_mouse_event(event) {\n",
       "        return fig.toolbar_button_onmouseover(event['data']);\n",
       "    }\n",
       "\n",
       "    for(var toolbar_ind in mpl.toolbar_items){\n",
       "        var name = mpl.toolbar_items[toolbar_ind][0];\n",
       "        var tooltip = mpl.toolbar_items[toolbar_ind][1];\n",
       "        var image = mpl.toolbar_items[toolbar_ind][2];\n",
       "        var method_name = mpl.toolbar_items[toolbar_ind][3];\n",
       "\n",
       "        if (!name) { continue; };\n",
       "\n",
       "        var button = $('<button class=\"btn btn-default\" href=\"#\" title=\"' + name + '\"><i class=\"fa ' + image + ' fa-lg\"></i></button>');\n",
       "        button.click(method_name, toolbar_event);\n",
       "        button.mouseover(tooltip, toolbar_mouse_event);\n",
       "        nav_element.append(button);\n",
       "    }\n",
       "\n",
       "    // Add the status bar.\n",
       "    var status_bar = $('<span class=\"mpl-message\" style=\"text-align:right; float: right;\"/>');\n",
       "    nav_element.append(status_bar);\n",
       "    this.message = status_bar[0];\n",
       "\n",
       "    // Add the close button to the window.\n",
       "    var buttongrp = $('<div class=\"btn-group inline pull-right\"></div>');\n",
       "    var button = $('<button class=\"btn btn-mini btn-primary\" href=\"#\" title=\"Stop Interaction\"><i class=\"fa fa-power-off icon-remove icon-large\"></i></button>');\n",
       "    button.click(function (evt) { fig.handle_close(fig, {}); } );\n",
       "    button.mouseover('Stop Interaction', toolbar_mouse_event);\n",
       "    buttongrp.append(button);\n",
       "    var titlebar = this.root.find($('.ui-dialog-titlebar'));\n",
       "    titlebar.prepend(buttongrp);\n",
       "}\n",
       "\n",
       "mpl.figure.prototype._root_extra_style = function(el){\n",
       "    var fig = this\n",
       "    el.on(\"remove\", function(){\n",
       "\tfig.close_ws(fig, {});\n",
       "    });\n",
       "}\n",
       "\n",
       "mpl.figure.prototype._canvas_extra_style = function(el){\n",
       "    // this is important to make the div 'focusable\n",
       "    el.attr('tabindex', 0)\n",
       "    // reach out to IPython and tell the keyboard manager to turn it's self\n",
       "    // off when our div gets focus\n",
       "\n",
       "    // location in version 3\n",
       "    if (IPython.notebook.keyboard_manager) {\n",
       "        IPython.notebook.keyboard_manager.register_events(el);\n",
       "    }\n",
       "    else {\n",
       "        // location in version 2\n",
       "        IPython.keyboard_manager.register_events(el);\n",
       "    }\n",
       "\n",
       "}\n",
       "\n",
       "mpl.figure.prototype._key_event_extra = function(event, name) {\n",
       "    var manager = IPython.notebook.keyboard_manager;\n",
       "    if (!manager)\n",
       "        manager = IPython.keyboard_manager;\n",
       "\n",
       "    // Check for shift+enter\n",
       "    if (event.shiftKey && event.which == 13) {\n",
       "        this.canvas_div.blur();\n",
       "        event.shiftKey = false;\n",
       "        // Send a \"J\" for go to next cell\n",
       "        event.which = 74;\n",
       "        event.keyCode = 74;\n",
       "        manager.command_mode();\n",
       "        manager.handle_keydown(event);\n",
       "    }\n",
       "}\n",
       "\n",
       "mpl.figure.prototype.handle_save = function(fig, msg) {\n",
       "    fig.ondownload(fig, null);\n",
       "}\n",
       "\n",
       "\n",
       "mpl.find_output_cell = function(html_output) {\n",
       "    // Return the cell and output element which can be found *uniquely* in the notebook.\n",
       "    // Note - this is a bit hacky, but it is done because the \"notebook_saving.Notebook\"\n",
       "    // IPython event is triggered only after the cells have been serialised, which for\n",
       "    // our purposes (turning an active figure into a static one), is too late.\n",
       "    var cells = IPython.notebook.get_cells();\n",
       "    var ncells = cells.length;\n",
       "    for (var i=0; i<ncells; i++) {\n",
       "        var cell = cells[i];\n",
       "        if (cell.cell_type === 'code'){\n",
       "            for (var j=0; j<cell.output_area.outputs.length; j++) {\n",
       "                var data = cell.output_area.outputs[j];\n",
       "                if (data.data) {\n",
       "                    // IPython >= 3 moved mimebundle to data attribute of output\n",
       "                    data = data.data;\n",
       "                }\n",
       "                if (data['text/html'] == html_output) {\n",
       "                    return [cell, data, j];\n",
       "                }\n",
       "            }\n",
       "        }\n",
       "    }\n",
       "}\n",
       "\n",
       "// Register the function which deals with the matplotlib target/channel.\n",
       "// The kernel may be null if the page has been refreshed.\n",
       "if (IPython.notebook.kernel != null) {\n",
       "    IPython.notebook.kernel.comm_manager.register_target('matplotlib', mpl.mpl_figure_comm);\n",
       "}\n"
      ],
      "text/plain": [
       "<IPython.core.display.Javascript object>"
      ]
     },
     "metadata": {},
     "output_type": "display_data"
    },
    {
     "data": {
      "text/html": [
       "<img src=\"data:image/png;base64,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\" width=\"640\">"
      ],
      "text/plain": [
       "<IPython.core.display.HTML object>"
      ]
     },
     "metadata": {},
     "output_type": "display_data"
    },
    {
     "data": {
      "text/plain": [
       "Text(0.5,0,'2nd floor square feet')"
      ]
     },
     "execution_count": 569,
     "metadata": {},
     "output_type": "execute_result"
    }
   ],
   "source": [
    "plt.figure()\n",
    "plt.scatter(X_test['2ndFlrSF'],y_test)\n",
    "plt.ylabel('House Price')\n",
    "plt.xlabel('2nd floor square feet')"
   ]
  },
  {
   "cell_type": "code",
   "execution_count": 574,
   "metadata": {
    "collapsed": false
   },
   "outputs": [
    {
     "data": {
      "text/plain": [
       "213"
      ]
     },
     "execution_count": 574,
     "metadata": {},
     "output_type": "execute_result"
    }
   ],
   "source": [
    "mask = X_test['2ndFlrSF']==0\n",
    "mask.sum()"
   ]
  },
  {
   "cell_type": "code",
   "execution_count": null,
   "metadata": {
    "collapsed": true
   },
   "outputs": [],
   "source": []
  }
 ],
 "metadata": {
  "kernelspec": {
   "display_name": "Python 3",
   "language": "python",
   "name": "python3"
  },
  "language_info": {
   "codemirror_mode": {
    "name": "ipython",
    "version": 3
   },
   "file_extension": ".py",
   "mimetype": "text/x-python",
   "name": "python",
   "nbconvert_exporter": "python",
   "pygments_lexer": "ipython3",
   "version": "3.6.0"
  }
 },
 "nbformat": 4,
 "nbformat_minor": 2
}
